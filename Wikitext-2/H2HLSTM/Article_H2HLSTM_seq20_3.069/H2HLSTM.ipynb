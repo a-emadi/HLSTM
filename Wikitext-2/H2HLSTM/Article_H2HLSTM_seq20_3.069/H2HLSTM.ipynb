{
 "cells": [
  {
   "cell_type": "markdown",
   "metadata": {},
   "source": [
    "# Packages"
   ]
  },
  {
   "cell_type": "code",
   "execution_count": 1,
   "metadata": {},
   "outputs": [],
   "source": [
    "!pip install torchmetrics tqdm --upgrade"
   ]
  },
  {
   "cell_type": "markdown",
   "metadata": {},
   "source": [
    "# Imports"
   ]
  },
  {
   "cell_type": "code",
   "execution_count": 1,
   "metadata": {},
   "outputs": [],
   "source": [
    "from torchtext.data.utils import get_tokenizer\n",
    "from torchtext.vocab import build_vocab_from_iterator\n",
    "\n",
    "import numpy as np\n",
    "import pandas as pd\n",
    "import matplotlib.pyplot as plt\n",
    "import seaborn as sns\n",
    "\n",
    "import torch\n",
    "from torch import nn\n",
    "from torch import optim\n",
    "from torch.utils.data import Dataset, DataLoader, random_split\n",
    "\n",
    "from torchmetrics.text import Perplexity\n",
    "\n",
    "import tqdm\n",
    "\n",
    "from collections import Counter"
   ]
  },
  {
   "cell_type": "markdown",
   "metadata": {},
   "source": [
    "# Configuration"
   ]
  },
  {
   "cell_type": "code",
   "execution_count": 2,
   "metadata": {},
   "outputs": [],
   "source": [
    "device = 'cuda:0' if torch.cuda.is_available() else 'cpu'\n",
    "seq_len = 25\n",
    "batch_size = 15\n",
    "min_freq = 0\n",
    "\n",
    "num_epochs = 100\n",
    "\n",
    "max_lr_dec = 3\n",
    "lr_dec = 0\n"
   ]
  },
  {
   "cell_type": "markdown",
   "metadata": {},
   "source": [
    "# Utils"
   ]
  },
  {
   "cell_type": "code",
   "execution_count": 3,
   "metadata": {},
   "outputs": [],
   "source": [
    "class AverageMeter(object):\n",
    "    \"\"\"Computes and stores the average and current value\"\"\"\n",
    "    def __init__(self):\n",
    "        self.reset()\n",
    "\n",
    "    def reset(self):\n",
    "        self.val = 0\n",
    "        self.avg = 0\n",
    "        self.sum = 0\n",
    "        self.count = 0\n",
    "\n",
    "    def update(self, val, n=1):\n",
    "        self.val = val\n",
    "        self.sum += val * n\n",
    "        self.count += n\n",
    "        self.avg = self.sum / self.count"
   ]
  },
  {
   "cell_type": "code",
   "execution_count": 4,
   "metadata": {},
   "outputs": [],
   "source": [
    "def num_trainable_params(model):\n",
    "  nums = sum(p.numel() for p in model.parameters() if p.requires_grad)/1e6\n",
    "  return nums"
   ]
  },
  {
   "cell_type": "markdown",
   "metadata": {},
   "source": [
    "# Dataset"
   ]
  },
  {
   "cell_type": "markdown",
   "metadata": {},
   "source": [
    "## Download Dataset"
   ]
  },
  {
   "cell_type": "code",
   "execution_count": 6,
   "metadata": {},
   "outputs": [],
   "source": [
    "!wget --quiet --continue https://s3.amazonaws.com/research.metamind.io/wikitext/wikitext-2-v1.zip\n",
    "!unzip -q wikitext-2-v1.zip\n",
    "!cd wikitext-2 && mv wiki.train.tokens train.txt\n",
    "!cd wikitext-2 && mv wiki.valid.tokens valid.txt\n",
    "!cd wikitext-2 && mv wiki.test.tokens test.txt"
   ]
  },
  {
   "cell_type": "code",
   "execution_count": 14,
   "metadata": {},
   "outputs": [],
   "source": [
    "char2ind = {}\n",
    "def data_init():\n",
    "    global char2ind\n",
    "    with open(\"./wikitext-2/train.txt\", encoding=\"utf8\") as f:\n",
    "        file = f.read()\n",
    "        trn = file[1:].split(' ')\n",
    "    with open(\"./wikitext-2/valid.txt\", encoding=\"utf8\") as f:\n",
    "        file = f.read()\n",
    "        vld = file[1:].split(' ')\n",
    "    with open(\"./wikitext-2/test.txt\", encoding=\"utf8\") as f:\n",
    "        file = f.read()\n",
    "        tst = file[1:].split(' ')\n",
    "    words = sorted(set(trn))\n",
    "    char2ind = {c: i for i, c in enumerate(words)}\n",
    "    trn = [char2ind[c] for c in trn]\n",
    "    vld = [char2ind[c] for c in vld]\n",
    "    tst = [char2ind[c] for c in tst]\n",
    "    return torch.tensor(trn,dtype=torch.int64), torch.tensor(vld,dtype=torch.int64), torch.tensor(tst,dtype=torch.int64), len(words)\n",
    "\n",
    "def findWordByToken(iToken):\n",
    "    for word, toekn in char2ind.items():  \n",
    "        if toekn == iToken:\n",
    "            return word\n",
    "    return ''"
   ]
  },
  {
   "cell_type": "code",
   "execution_count": 15,
   "metadata": {},
   "outputs": [],
   "source": [
    "class Wikitext2Dataset(Dataset):\n",
    "  def __init__(self, tokens, seq_len):\n",
    "    self.tokens = tokens\n",
    "    self.seq_len = seq_len\n",
    "  def __len__(self):\n",
    "    return  len(self.tokens) // self.seq_len\n",
    "\n",
    "  def __getitem__(self, idx):\n",
    "    start_idx = idx * self.seq_len\n",
    "    end_idx = start_idx + self.seq_len\n",
    "    input = self.tokens[start_idx:end_idx]\n",
    "    target = self.tokens[start_idx+1:end_idx+1]\n",
    "    return torch.tensor(input), torch.tensor(target)"
   ]
  },
  {
   "cell_type": "code",
   "execution_count": 16,
   "metadata": {},
   "outputs": [],
   "source": [
    "train_tokens_voc , valid_tokens_voc , test_tokens_voc , vocab_size= data_init()\n",
    "\n",
    "# Datasets\n",
    "train_dataset = Wikitext2Dataset(train_tokens_voc, seq_len)\n",
    "valid_dataset = Wikitext2Dataset(valid_tokens_voc, seq_len)\n",
    "test_dataset = Wikitext2Dataset(test_tokens_voc, seq_len)\n",
    "\n",
    "# Dataloaders\n",
    "train_loader = DataLoader(train_dataset , batch_size )\n",
    "valid_loader = DataLoader(valid_dataset , batch_size )\n",
    "test_loader = DataLoader(test_dataset , batch_size )"
   ]
  },
  {
   "cell_type": "markdown",
   "metadata": {},
   "source": [
    "# Model"
   ]
  },
  {
   "cell_type": "code",
   "execution_count": 6,
   "metadata": {},
   "outputs": [],
   "source": [
    "class H_LSTM(nn.Module):\n",
    "\n",
    "  def __init__(self, vocab_size, embedding_dim, hidden_dim, num_layers, dropout_rate):\n",
    "    super().__init__()\n",
    "    self.vocab_size = vocab_size\n",
    "    \n",
    "    #Embedding Layer\n",
    "    self.embedding = nn.Embedding(vocab_size, embedding_dim)\n",
    "    self.dropout_em = nn.Dropout(0.1)\n",
    "    \n",
    "    # Layer 1\n",
    "    self.rnn1 = nn.LSTM(input_size=embedding_dim,\n",
    "                      hidden_size=hidden_dim,\n",
    "                      num_layers=num_layers,\n",
    "                      bidirectional=False,\n",
    "                      batch_first=True)\n",
    "    self.dropout1 = nn.Dropout(dropout_rate)\n",
    "    \n",
    "    # Layer 2\n",
    "    self.rnn2 = nn.LSTM(input_size=hidden_dim,\n",
    "                      hidden_size=hidden_dim,\n",
    "                      num_layers=num_layers,\n",
    "                      bidirectional=False,\n",
    "                      batch_first=True)\n",
    "    self.dropout2 = nn.Dropout(dropout_rate)\n",
    "    \n",
    "    # Layer 3\n",
    "    self.rnn3 = nn.LSTM(input_size=hidden_dim,\n",
    "                      hidden_size=hidden_dim,\n",
    "                      num_layers=1,\n",
    "                      bidirectional=False,\n",
    "                      batch_first=True)\n",
    "    self.dropout3 = nn.Dropout(dropout_rate)\n",
    "    \n",
    "    self.fc = nn.Linear(hidden_dim,vocab_size,bias=True)\n",
    "\n",
    "  def forward(self, src):\n",
    "    embedding = self.dropout_em( self.embedding(src) )\n",
    "    \n",
    "    output, hidden = self.rnn1(embedding)\n",
    "    output = self.dropout1(output)\n",
    "    \n",
    "    output, hidden = self.rnn2(output,hidden)\n",
    "    output = self.dropout2(output)\n",
    "    \n",
    "    output, hidden = self.rnn3(output,hidden)\n",
    "    output = self.dropout3(output)\n",
    "    \n",
    "    output = self.fc(output)\n",
    "    return output"
   ]
  },
  {
   "cell_type": "markdown",
   "metadata": {},
   "source": [
    "# Train"
   ]
  },
  {
   "cell_type": "markdown",
   "metadata": {},
   "source": [
    "## Learning Functions"
   ]
  },
  {
   "cell_type": "code",
   "execution_count": 7,
   "metadata": {},
   "outputs": [],
   "source": [
    "def train_one_epoch(model, train_loader, loss_fn, optimizer, perp , epoch=1):\n",
    "  \n",
    "  global seq_len\n",
    "  global batch_size\n",
    "  \n",
    "  model.train()\n",
    "  loss_train = AverageMeter()\n",
    "  perplexity_train = AverageMeter()\n",
    "    \n",
    "  with tqdm.tqdm(train_loader, unit='batch') as tepoch:\n",
    "    for inputs, targets in tepoch:\n",
    "\n",
    "      tepoch.set_description(f'Epoch {epoch}')\n",
    "\n",
    "      inputs = inputs.to(device)\n",
    "      targets = targets.to(device)\n",
    "\n",
    "      outputs = model(inputs)\n",
    "\n",
    "      batch_size, seq_len, vocab_size = outputs.size()\n",
    "      outputs = outputs.view(batch_size * seq_len, vocab_size)\n",
    "      targets = targets.view(-1)\n",
    "      \n",
    "      loss = loss_fn(outputs, targets)\n",
    "      \n",
    "      loss.backward()\n",
    "      \n",
    "      perplexity = perp(outputs.view(batch_size, seq_len, vocab_size), targets.view(batch_size, seq_len))\n",
    "      \n",
    "      optimizer.step()\n",
    "      optimizer.zero_grad()\n",
    "\n",
    "      loss_train.update(loss.item(), n=len(targets))\n",
    "      perplexity_train.update(perplexity.item(), n=len(targets))\n",
    "\n",
    "      tepoch.set_postfix(loss=loss_train.avg, perplexity = perplexity_train.avg )\n",
    "      \n",
    "      del inputs\n",
    "      del targets\n",
    "      del outputs\n",
    "\n",
    "  return model, loss_train.avg, perplexity_train.avg "
   ]
  },
  {
   "cell_type": "code",
   "execution_count": 8,
   "metadata": {},
   "outputs": [],
   "source": [
    "def evaluate(model, test_loader, loss_fn , perp ):\n",
    "  \n",
    "  global seq_len\n",
    "  global batch_size\n",
    "  \n",
    "  model.eval()\n",
    "  loss_eval = AverageMeter()\n",
    "  perplexity_eval = AverageMeter()\n",
    "\n",
    "  with torch.inference_mode():\n",
    "    for inputs, targets in test_loader:\n",
    "      inputs = inputs.to(device)\n",
    "      targets = targets.to(device)\n",
    "\n",
    "      outputs = model(inputs)\n",
    "      \n",
    "      batch_size, seq_len, vocab_size = outputs.size()\n",
    "      outputs = outputs.view(batch_size * seq_len, vocab_size)\n",
    "      targets = targets.view(-1)\n",
    "\n",
    "      loss = loss_fn(outputs, targets)\n",
    "      \n",
    "      perplexity = perp(outputs.view(batch_size, seq_len, vocab_size), targets.view(batch_size, seq_len))\n",
    "\n",
    "      loss_eval.update(loss.item(), n=len(targets))\n",
    "      perplexity_eval.update(perplexity.item(), n=len(targets))\n",
    "      \n",
    "      del inputs\n",
    "      del targets\n",
    "      del outputs\n",
    "\n",
    "  return loss_eval.avg,perplexity_eval.avg"
   ]
  },
  {
   "cell_type": "markdown",
   "metadata": {},
   "source": [
    "## Parameters"
   ]
  },
  {
   "cell_type": "code",
   "execution_count": 17,
   "metadata": {},
   "outputs": [
    {
     "data": {
      "text/plain": [
       "H_LSTM(\n",
       "  (embedding): Embedding(33278, 500)\n",
       "  (dropout_em): Dropout(p=0.1, inplace=False)\n",
       "  (rnn1): LSTM(500, 500, batch_first=True)\n",
       "  (dropout1): Dropout(p=0.25, inplace=False)\n",
       "  (rnn2): LSTM(500, 500, batch_first=True)\n",
       "  (dropout2): Dropout(p=0.25, inplace=False)\n",
       "  (rnn3): LSTM(500, 500, batch_first=True)\n",
       "  (dropout3): Dropout(p=0.25, inplace=False)\n",
       "  (fc): Linear(in_features=500, out_features=33278, bias=True)\n",
       ")"
      ]
     },
     "execution_count": 17,
     "metadata": {},
     "output_type": "execute_result"
    }
   ],
   "source": [
    "embedding_dim = 500\n",
    "hidden_dim = 500\n",
    "num_layers = 1\n",
    "dropout_rate = 0.25\n",
    "\n",
    "\n",
    "model = H_LSTM( vocab_size, embedding_dim=embedding_dim, hidden_dim=hidden_dim , num_layers=num_layers, dropout_rate= dropout_rate )\n",
    "model = model.to(device)\n",
    "\n",
    "loss_train_hist = []\n",
    "loss_valid_hist = []\n",
    "\n",
    "per_train_hist = []\n",
    "per_valid_hist = []\n",
    "\n",
    "lr_train_hist = []\n",
    "\n",
    "best_perplexity_valid = torch.inf\n",
    "epoch_counter = 0\n",
    "\n",
    "model"
   ]
  },
  {
   "cell_type": "code",
   "execution_count": 18,
   "metadata": {},
   "outputs": [
    {
     "data": {
      "text/plain": [
       "39.323278"
      ]
     },
     "execution_count": 18,
     "metadata": {},
     "output_type": "execute_result"
    }
   ],
   "source": [
    "num_trainable_params(model)"
   ]
  },
  {
   "cell_type": "markdown",
   "metadata": {},
   "source": [
    "## Learning Loop"
   ]
  },
  {
   "cell_type": "code",
   "execution_count": 19,
   "metadata": {},
   "outputs": [],
   "source": [
    "\n",
    "lr = 0.5\n",
    "wd = 1e-5\n",
    "optimizer = optim.SGD(model.parameters(), lr=lr, weight_decay=wd, momentum=0.9)\n",
    "loss_fn = nn.CrossEntropyLoss()  \n",
    "perp = Perplexity().to(device)"
   ]
  },
  {
   "cell_type": "code",
   "execution_count": 20,
   "metadata": {},
   "outputs": [
    {
     "name": "stderr",
     "output_type": "stream",
     "text": [
      "  0%|          | 0/5570 [00:00<?, ?batch/s]/tmp/ipykernel_16042/1059837893.py:13: UserWarning: To copy construct from a tensor, it is recommended to use sourceTensor.clone().detach() or sourceTensor.clone().detach().requires_grad_(True), rather than torch.tensor(sourceTensor).\n",
      "  return torch.tensor(input), torch.tensor(target)\n",
      "Epoch 0: 100%|██████████| 5570/5570 [01:51<00:00, 49.84batch/s, loss=6.19, perplexity=631]    \n"
     ]
    },
    {
     "name": "stdout",
     "output_type": "stream",
     "text": [
      "Valid: Loss = 5.546 Perplexity= 268.3, LR = 0.5\n",
      "Model Saved!\n",
      "\n"
     ]
    },
    {
     "name": "stderr",
     "output_type": "stream",
     "text": [
      "Epoch 1: 100%|██████████| 5570/5570 [01:38<00:00, 56.62batch/s, loss=5.3, perplexity=216] \n"
     ]
    },
    {
     "name": "stdout",
     "output_type": "stream",
     "text": [
      "Valid: Loss = 4.765 Perplexity= 122.7, LR = 0.5\n",
      "Model Saved!\n",
      "\n"
     ]
    },
    {
     "name": "stderr",
     "output_type": "stream",
     "text": [
      "Epoch 2: 100%|██████████| 5570/5570 [01:31<00:00, 61.20batch/s, loss=4.67, perplexity=114]\n"
     ]
    },
    {
     "name": "stdout",
     "output_type": "stream",
     "text": [
      "Valid: Loss = 4.335 Perplexity= 79.76, LR = 0.5\n",
      "Model Saved!\n",
      "\n"
     ]
    },
    {
     "name": "stderr",
     "output_type": "stream",
     "text": [
      "Epoch 3: 100%|██████████| 5570/5570 [01:30<00:00, 61.57batch/s, loss=4.34, perplexity=81.6]\n"
     ]
    },
    {
     "name": "stdout",
     "output_type": "stream",
     "text": [
      "Valid: Loss = 4.13 Perplexity= 65.08, LR = 0.5\n",
      "Model Saved!\n",
      "\n"
     ]
    },
    {
     "name": "stderr",
     "output_type": "stream",
     "text": [
      "Epoch 4: 100%|██████████| 5570/5570 [01:31<00:00, 60.87batch/s, loss=4.08, perplexity=62.4]\n"
     ]
    },
    {
     "name": "stdout",
     "output_type": "stream",
     "text": [
      "Valid: Loss = 3.954 Perplexity= 54.59, LR = 0.5\n",
      "Model Saved!\n",
      "\n"
     ]
    },
    {
     "name": "stderr",
     "output_type": "stream",
     "text": [
      "Epoch 5: 100%|██████████| 5570/5570 [01:31<00:00, 60.63batch/s, loss=3.88, perplexity=51.2]\n"
     ]
    },
    {
     "name": "stdout",
     "output_type": "stream",
     "text": [
      "Valid: Loss = 3.796 Perplexity= 46.68, LR = 0.5\n",
      "Model Saved!\n",
      "\n"
     ]
    },
    {
     "name": "stderr",
     "output_type": "stream",
     "text": [
      "Epoch 6: 100%|██████████| 5570/5570 [01:31<00:00, 61.03batch/s, loss=3.77, perplexity=45.9]\n"
     ]
    },
    {
     "name": "stdout",
     "output_type": "stream",
     "text": [
      "Valid: Loss = 3.813 Perplexity= 47.4, LR = 0.5\n",
      "\n"
     ]
    },
    {
     "name": "stderr",
     "output_type": "stream",
     "text": [
      "Epoch 7: 100%|██████████| 5570/5570 [01:31<00:00, 60.88batch/s, loss=3.51, perplexity=35.5]\n"
     ]
    },
    {
     "name": "stdout",
     "output_type": "stream",
     "text": [
      "Valid: Loss = 3.504 Perplexity= 34.92, LR = 0.25\n",
      "Model Saved!\n",
      "\n"
     ]
    },
    {
     "name": "stderr",
     "output_type": "stream",
     "text": [
      "Epoch 8: 100%|██████████| 5570/5570 [01:31<00:00, 60.89batch/s, loss=3.37, perplexity=30.7]\n"
     ]
    },
    {
     "name": "stdout",
     "output_type": "stream",
     "text": [
      "Valid: Loss = 3.448 Perplexity= 32.99, LR = 0.25\n",
      "Model Saved!\n",
      "\n"
     ]
    },
    {
     "name": "stderr",
     "output_type": "stream",
     "text": [
      "Epoch 9: 100%|██████████| 5570/5570 [01:31<00:00, 61.15batch/s, loss=3.28, perplexity=28]  \n"
     ]
    },
    {
     "name": "stdout",
     "output_type": "stream",
     "text": [
      "Valid: Loss = 3.357 Perplexity= 30.12, LR = 0.25\n",
      "Model Saved!\n",
      "\n"
     ]
    },
    {
     "name": "stderr",
     "output_type": "stream",
     "text": [
      "Epoch 10: 100%|██████████| 5570/5570 [01:31<00:00, 60.94batch/s, loss=3.18, perplexity=25.2]\n"
     ]
    },
    {
     "name": "stdout",
     "output_type": "stream",
     "text": [
      "Valid: Loss = 3.298 Perplexity= 28.39, LR = 0.25\n",
      "Model Saved!\n",
      "\n"
     ]
    },
    {
     "name": "stderr",
     "output_type": "stream",
     "text": [
      "Epoch 11: 100%|██████████| 5570/5570 [01:31<00:00, 60.68batch/s, loss=3.06, perplexity=22.4]\n"
     ]
    },
    {
     "name": "stdout",
     "output_type": "stream",
     "text": [
      "Valid: Loss = 3.195 Perplexity= 25.58, LR = 0.25\n",
      "Model Saved!\n",
      "\n"
     ]
    },
    {
     "name": "stderr",
     "output_type": "stream",
     "text": [
      "Epoch 12: 100%|██████████| 5570/5570 [01:32<00:00, 60.11batch/s, loss=3.04, perplexity=21.8]\n"
     ]
    },
    {
     "name": "stdout",
     "output_type": "stream",
     "text": [
      "Valid: Loss = 3.131 Perplexity= 24.0, LR = 0.25\n",
      "Model Saved!\n",
      "\n"
     ]
    },
    {
     "name": "stderr",
     "output_type": "stream",
     "text": [
      "Epoch 13: 100%|██████████| 5570/5570 [01:31<00:00, 61.01batch/s, loss=2.88, perplexity=18.5]\n"
     ]
    },
    {
     "name": "stdout",
     "output_type": "stream",
     "text": [
      "Valid: Loss = 2.993 Perplexity= 20.9, LR = 0.25\n",
      "Model Saved!\n",
      "\n"
     ]
    },
    {
     "name": "stderr",
     "output_type": "stream",
     "text": [
      "Epoch 14: 100%|██████████| 5570/5570 [01:31<00:00, 60.78batch/s, loss=2.76, perplexity=16.5]\n"
     ]
    },
    {
     "name": "stdout",
     "output_type": "stream",
     "text": [
      "Valid: Loss = 2.927 Perplexity= 19.52, LR = 0.25\n",
      "Model Saved!\n",
      "\n"
     ]
    },
    {
     "name": "stderr",
     "output_type": "stream",
     "text": [
      "Epoch 15: 100%|██████████| 5570/5570 [01:31<00:00, 60.68batch/s, loss=2.68, perplexity=15.2]\n"
     ]
    },
    {
     "name": "stdout",
     "output_type": "stream",
     "text": [
      "Valid: Loss = 2.864 Perplexity= 18.34, LR = 0.25\n",
      "Model Saved!\n",
      "\n"
     ]
    },
    {
     "name": "stderr",
     "output_type": "stream",
     "text": [
      "Epoch 16: 100%|██████████| 5570/5570 [01:31<00:00, 60.99batch/s, loss=2.67, perplexity=15.1]\n"
     ]
    },
    {
     "name": "stdout",
     "output_type": "stream",
     "text": [
      "Valid: Loss = 2.933 Perplexity= 19.69, LR = 0.25\n",
      "\n"
     ]
    },
    {
     "name": "stderr",
     "output_type": "stream",
     "text": [
      "Epoch 17: 100%|██████████| 5570/5570 [01:32<00:00, 60.33batch/s, loss=2.32, perplexity=10.6]\n"
     ]
    },
    {
     "name": "stdout",
     "output_type": "stream",
     "text": [
      "Valid: Loss = 2.521 Perplexity= 13.01, LR = 0.125\n",
      "Model Saved!\n",
      "\n"
     ]
    },
    {
     "name": "stderr",
     "output_type": "stream",
     "text": [
      "Epoch 18: 100%|██████████| 5570/5570 [01:32<00:00, 60.26batch/s, loss=2.19, perplexity=9.23]\n"
     ]
    },
    {
     "name": "stdout",
     "output_type": "stream",
     "text": [
      "Valid: Loss = 2.444 Perplexity= 12.04, LR = 0.125\n",
      "Model Saved!\n",
      "\n"
     ]
    },
    {
     "name": "stderr",
     "output_type": "stream",
     "text": [
      "Epoch 19: 100%|██████████| 5570/5570 [01:32<00:00, 60.37batch/s, loss=2.12, perplexity=8.66]\n"
     ]
    },
    {
     "name": "stdout",
     "output_type": "stream",
     "text": [
      "Valid: Loss = 2.391 Perplexity= 11.42, LR = 0.125\n",
      "Model Saved!\n",
      "\n"
     ]
    },
    {
     "name": "stderr",
     "output_type": "stream",
     "text": [
      "Epoch 20: 100%|██████████| 5570/5570 [01:31<00:00, 60.75batch/s, loss=2.06, perplexity=8.15]\n"
     ]
    },
    {
     "name": "stdout",
     "output_type": "stream",
     "text": [
      "Valid: Loss = 2.358 Perplexity= 11.04, LR = 0.125\n",
      "Model Saved!\n",
      "\n"
     ]
    },
    {
     "name": "stderr",
     "output_type": "stream",
     "text": [
      "Epoch 21: 100%|██████████| 5570/5570 [01:31<00:00, 60.59batch/s, loss=2.02, perplexity=7.82]\n"
     ]
    },
    {
     "name": "stdout",
     "output_type": "stream",
     "text": [
      "Valid: Loss = 2.291 Perplexity= 10.33, LR = 0.125\n",
      "Model Saved!\n",
      "\n"
     ]
    },
    {
     "name": "stderr",
     "output_type": "stream",
     "text": [
      "Epoch 22: 100%|██████████| 5570/5570 [01:32<00:00, 60.18batch/s, loss=1.94, perplexity=7.15]\n"
     ]
    },
    {
     "name": "stdout",
     "output_type": "stream",
     "text": [
      "Valid: Loss = 2.276 Perplexity= 10.17, LR = 0.125\n",
      "Model Saved!\n",
      "\n"
     ]
    },
    {
     "name": "stderr",
     "output_type": "stream",
     "text": [
      "Epoch 23: 100%|██████████| 5570/5570 [01:32<00:00, 60.26batch/s, loss=1.89, perplexity=6.81]\n"
     ]
    },
    {
     "name": "stdout",
     "output_type": "stream",
     "text": [
      "Valid: Loss = 2.178 Perplexity= 9.207, LR = 0.125\n",
      "Model Saved!\n",
      "\n"
     ]
    },
    {
     "name": "stderr",
     "output_type": "stream",
     "text": [
      "Epoch 24: 100%|██████████| 5570/5570 [01:32<00:00, 60.24batch/s, loss=1.83, perplexity=6.39]\n"
     ]
    },
    {
     "name": "stdout",
     "output_type": "stream",
     "text": [
      "Valid: Loss = 2.162 Perplexity= 9.071, LR = 0.125\n",
      "Model Saved!\n",
      "\n"
     ]
    },
    {
     "name": "stderr",
     "output_type": "stream",
     "text": [
      "Epoch 25: 100%|██████████| 5570/5570 [01:32<00:00, 60.20batch/s, loss=1.76, perplexity=5.96]\n"
     ]
    },
    {
     "name": "stdout",
     "output_type": "stream",
     "text": [
      "Valid: Loss = 2.073 Perplexity= 8.285, LR = 0.125\n",
      "Model Saved!\n",
      "\n"
     ]
    },
    {
     "name": "stderr",
     "output_type": "stream",
     "text": [
      "Epoch 26: 100%|██████████| 5570/5570 [01:33<00:00, 59.86batch/s, loss=1.76, perplexity=5.97]\n"
     ]
    },
    {
     "name": "stdout",
     "output_type": "stream",
     "text": [
      "Valid: Loss = 2.105 Perplexity= 8.566, LR = 0.125\n",
      "\n"
     ]
    },
    {
     "name": "stderr",
     "output_type": "stream",
     "text": [
      "Epoch 27: 100%|██████████| 5570/5570 [01:33<00:00, 59.88batch/s, loss=1.53, perplexity=4.72]\n"
     ]
    },
    {
     "name": "stdout",
     "output_type": "stream",
     "text": [
      "Valid: Loss = 1.887 Perplexity= 6.864, LR = 0.0625\n",
      "Model Saved!\n",
      "\n"
     ]
    },
    {
     "name": "stderr",
     "output_type": "stream",
     "text": [
      "Epoch 28: 100%|██████████| 5570/5570 [01:33<00:00, 59.64batch/s, loss=1.45, perplexity=4.38]\n"
     ]
    },
    {
     "name": "stdout",
     "output_type": "stream",
     "text": [
      "Valid: Loss = 1.852 Perplexity= 6.624, LR = 0.0625\n",
      "Model Saved!\n",
      "\n"
     ]
    },
    {
     "name": "stderr",
     "output_type": "stream",
     "text": [
      "Epoch 29: 100%|██████████| 5570/5570 [01:33<00:00, 59.50batch/s, loss=1.44, perplexity=4.31]\n"
     ]
    },
    {
     "name": "stdout",
     "output_type": "stream",
     "text": [
      "Valid: Loss = 1.827 Perplexity= 6.464, LR = 0.0625\n",
      "Model Saved!\n",
      "\n"
     ]
    },
    {
     "name": "stderr",
     "output_type": "stream",
     "text": [
      "Epoch 30: 100%|██████████| 5570/5570 [01:33<00:00, 59.75batch/s, loss=1.41, perplexity=4.17]\n"
     ]
    },
    {
     "name": "stdout",
     "output_type": "stream",
     "text": [
      "Valid: Loss = 1.805 Perplexity= 6.322, LR = 0.0625\n",
      "Model Saved!\n",
      "\n"
     ]
    },
    {
     "name": "stderr",
     "output_type": "stream",
     "text": [
      "Epoch 31: 100%|██████████| 5570/5570 [01:33<00:00, 59.46batch/s, loss=1.37, perplexity=4]   \n"
     ]
    },
    {
     "name": "stdout",
     "output_type": "stream",
     "text": [
      "Valid: Loss = 1.787 Perplexity= 6.204, LR = 0.0625\n",
      "Model Saved!\n",
      "\n"
     ]
    },
    {
     "name": "stderr",
     "output_type": "stream",
     "text": [
      "Epoch 32: 100%|██████████| 5570/5570 [01:32<00:00, 60.14batch/s, loss=1.34, perplexity=3.9] \n"
     ]
    },
    {
     "name": "stdout",
     "output_type": "stream",
     "text": [
      "Valid: Loss = 1.752 Perplexity= 5.986, LR = 0.0625\n",
      "Model Saved!\n",
      "\n"
     ]
    },
    {
     "name": "stderr",
     "output_type": "stream",
     "text": [
      "Epoch 33: 100%|██████████| 5570/5570 [01:32<00:00, 59.97batch/s, loss=1.31, perplexity=3.79]\n"
     ]
    },
    {
     "name": "stdout",
     "output_type": "stream",
     "text": [
      "Valid: Loss = 1.711 Perplexity= 5.744, LR = 0.0625\n",
      "Model Saved!\n",
      "\n"
     ]
    },
    {
     "name": "stderr",
     "output_type": "stream",
     "text": [
      "Epoch 34: 100%|██████████| 5570/5570 [01:39<00:00, 55.73batch/s, loss=1.27, perplexity=3.63]\n"
     ]
    },
    {
     "name": "stdout",
     "output_type": "stream",
     "text": [
      "Valid: Loss = 1.681 Perplexity= 5.568, LR = 0.0625\n",
      "Model Saved!\n",
      "\n"
     ]
    },
    {
     "name": "stderr",
     "output_type": "stream",
     "text": [
      "Epoch 35: 100%|██████████| 5570/5570 [01:54<00:00, 48.44batch/s, loss=1.26, perplexity=3.58]\n"
     ]
    },
    {
     "name": "stdout",
     "output_type": "stream",
     "text": [
      "Valid: Loss = 1.659 Perplexity= 5.45, LR = 0.0625\n",
      "Model Saved!\n",
      "\n"
     ]
    },
    {
     "name": "stderr",
     "output_type": "stream",
     "text": [
      "Epoch 36: 100%|██████████| 5570/5570 [01:53<00:00, 49.01batch/s, loss=1.22, perplexity=3.45]\n"
     ]
    },
    {
     "name": "stdout",
     "output_type": "stream",
     "text": [
      "Valid: Loss = 1.626 Perplexity= 5.27, LR = 0.0625\n",
      "Model Saved!\n",
      "\n"
     ]
    },
    {
     "name": "stderr",
     "output_type": "stream",
     "text": [
      "Epoch 37: 100%|██████████| 5570/5570 [01:34<00:00, 58.79batch/s, loss=1.2, perplexity=3.37] \n"
     ]
    },
    {
     "name": "stdout",
     "output_type": "stream",
     "text": [
      "Valid: Loss = 1.603 Perplexity= 5.147, LR = 0.0625\n",
      "Model Saved!\n",
      "\n"
     ]
    },
    {
     "name": "stderr",
     "output_type": "stream",
     "text": [
      "Epoch 38: 100%|██████████| 5570/5570 [01:34<00:00, 59.06batch/s, loss=1.19, perplexity=3.33]\n"
     ]
    },
    {
     "name": "stdout",
     "output_type": "stream",
     "text": [
      "Valid: Loss = 1.591 Perplexity= 5.08, LR = 0.0625\n",
      "Model Saved!\n",
      "\n"
     ]
    },
    {
     "name": "stderr",
     "output_type": "stream",
     "text": [
      "Epoch 39: 100%|██████████| 5570/5570 [01:34<00:00, 58.70batch/s, loss=1.16, perplexity=3.22]\n"
     ]
    },
    {
     "name": "stdout",
     "output_type": "stream",
     "text": [
      "Valid: Loss = 1.571 Perplexity= 4.982, LR = 0.0625\n",
      "Model Saved!\n",
      "\n"
     ]
    },
    {
     "name": "stderr",
     "output_type": "stream",
     "text": [
      "Epoch 40: 100%|██████████| 5570/5570 [01:34<00:00, 59.15batch/s, loss=1.14, perplexity=3.18]\n"
     ]
    },
    {
     "name": "stdout",
     "output_type": "stream",
     "text": [
      "Valid: Loss = 1.556 Perplexity= 4.904, LR = 0.0625\n",
      "Model Saved!\n",
      "\n"
     ]
    },
    {
     "name": "stderr",
     "output_type": "stream",
     "text": [
      "Epoch 41: 100%|██████████| 5570/5570 [01:33<00:00, 59.48batch/s, loss=1.14, perplexity=3.16]\n"
     ]
    },
    {
     "name": "stdout",
     "output_type": "stream",
     "text": [
      "Valid: Loss = 1.537 Perplexity= 4.809, LR = 0.0625\n",
      "Model Saved!\n",
      "\n"
     ]
    },
    {
     "name": "stderr",
     "output_type": "stream",
     "text": [
      "Epoch 42: 100%|██████████| 5570/5570 [01:34<00:00, 58.78batch/s, loss=1.1, perplexity=3.03] \n"
     ]
    },
    {
     "name": "stdout",
     "output_type": "stream",
     "text": [
      "Valid: Loss = 1.538 Perplexity= 4.814, LR = 0.0625\n",
      "\n"
     ]
    },
    {
     "name": "stderr",
     "output_type": "stream",
     "text": [
      "Epoch 43: 100%|██████████| 5570/5570 [01:33<00:00, 59.27batch/s, loss=1, perplexity=2.76]   \n"
     ]
    },
    {
     "name": "stdout",
     "output_type": "stream",
     "text": [
      "Valid: Loss = 1.414 Perplexity= 4.244, LR = 0.03125\n",
      "Model Saved!\n",
      "\n"
     ]
    },
    {
     "name": "stderr",
     "output_type": "stream",
     "text": [
      "Epoch 44: 100%|██████████| 5570/5570 [01:33<00:00, 59.64batch/s, loss=0.96, perplexity=2.64] \n"
     ]
    },
    {
     "name": "stdout",
     "output_type": "stream",
     "text": [
      "Valid: Loss = 1.397 Perplexity= 4.171, LR = 0.03125\n",
      "Model Saved!\n",
      "\n"
     ]
    },
    {
     "name": "stderr",
     "output_type": "stream",
     "text": [
      "Epoch 45: 100%|██████████| 5570/5570 [01:33<00:00, 59.85batch/s, loss=0.944, perplexity=2.6] \n"
     ]
    },
    {
     "name": "stdout",
     "output_type": "stream",
     "text": [
      "Valid: Loss = 1.376 Perplexity= 4.085, LR = 0.03125\n",
      "Model Saved!\n",
      "\n"
     ]
    },
    {
     "name": "stderr",
     "output_type": "stream",
     "text": [
      "Epoch 46: 100%|██████████| 5570/5570 [01:34<00:00, 58.72batch/s, loss=0.925, perplexity=2.55]\n"
     ]
    },
    {
     "name": "stdout",
     "output_type": "stream",
     "text": [
      "Valid: Loss = 1.375 Perplexity= 4.076, LR = 0.03125\n",
      "Model Saved!\n",
      "\n"
     ]
    },
    {
     "name": "stderr",
     "output_type": "stream",
     "text": [
      "Epoch 47: 100%|██████████| 5570/5570 [01:34<00:00, 59.13batch/s, loss=0.913, perplexity=2.52]\n"
     ]
    },
    {
     "name": "stdout",
     "output_type": "stream",
     "text": [
      "Valid: Loss = 1.376 Perplexity= 4.083, LR = 0.03125\n",
      "\n"
     ]
    },
    {
     "name": "stderr",
     "output_type": "stream",
     "text": [
      "Epoch 48: 100%|██████████| 5570/5570 [01:33<00:00, 59.60batch/s, loss=0.88, perplexity=2.44] \n"
     ]
    },
    {
     "name": "stdout",
     "output_type": "stream",
     "text": [
      "Valid: Loss = 1.314 Perplexity= 3.833, LR = 0.015625\n",
      "Model Saved!\n",
      "\n"
     ]
    },
    {
     "name": "stderr",
     "output_type": "stream",
     "text": [
      "Epoch 49: 100%|██████████| 5570/5570 [01:34<00:00, 58.89batch/s, loss=0.862, perplexity=2.39]\n"
     ]
    },
    {
     "name": "stdout",
     "output_type": "stream",
     "text": [
      "Valid: Loss = 1.293 Perplexity= 3.754, LR = 0.015625\n",
      "Model Saved!\n",
      "\n"
     ]
    },
    {
     "name": "stderr",
     "output_type": "stream",
     "text": [
      "Epoch 50: 100%|██████████| 5570/5570 [01:34<00:00, 58.86batch/s, loss=0.849, perplexity=2.36]\n"
     ]
    },
    {
     "name": "stdout",
     "output_type": "stream",
     "text": [
      "Valid: Loss = 1.283 Perplexity= 3.715, LR = 0.015625\n",
      "Model Saved!\n",
      "\n"
     ]
    },
    {
     "name": "stderr",
     "output_type": "stream",
     "text": [
      "Epoch 51: 100%|██████████| 5570/5570 [01:33<00:00, 59.31batch/s, loss=0.841, perplexity=2.34]\n"
     ]
    },
    {
     "name": "stdout",
     "output_type": "stream",
     "text": [
      "Valid: Loss = 1.277 Perplexity= 3.691, LR = 0.015625\n",
      "Model Saved!\n",
      "\n"
     ]
    },
    {
     "name": "stderr",
     "output_type": "stream",
     "text": [
      "Epoch 52: 100%|██████████| 5570/5570 [01:35<00:00, 58.53batch/s, loss=0.831, perplexity=2.32]\n"
     ]
    },
    {
     "name": "stdout",
     "output_type": "stream",
     "text": [
      "Valid: Loss = 1.272 Perplexity= 3.672, LR = 0.015625\n",
      "Model Saved!\n",
      "\n"
     ]
    },
    {
     "name": "stderr",
     "output_type": "stream",
     "text": [
      "Epoch 53: 100%|██████████| 5570/5570 [01:33<00:00, 59.38batch/s, loss=0.826, perplexity=2.3] \n"
     ]
    },
    {
     "name": "stdout",
     "output_type": "stream",
     "text": [
      "Valid: Loss = 1.264 Perplexity= 3.645, LR = 0.015625\n",
      "Model Saved!\n",
      "\n"
     ]
    },
    {
     "name": "stderr",
     "output_type": "stream",
     "text": [
      "Epoch 54: 100%|██████████| 5570/5570 [01:34<00:00, 58.76batch/s, loss=0.816, perplexity=2.28]\n"
     ]
    },
    {
     "name": "stdout",
     "output_type": "stream",
     "text": [
      "Valid: Loss = 1.279 Perplexity= 3.699, LR = 0.015625\n",
      "\n"
     ]
    },
    {
     "name": "stderr",
     "output_type": "stream",
     "text": [
      "Epoch 55: 100%|██████████| 5570/5570 [01:33<00:00, 59.41batch/s, loss=0.804, perplexity=2.26]\n"
     ]
    },
    {
     "name": "stdout",
     "output_type": "stream",
     "text": [
      "Valid: Loss = 1.231 Perplexity= 3.521, LR = 0.0078125\n",
      "Model Saved!\n",
      "\n"
     ]
    },
    {
     "name": "stderr",
     "output_type": "stream",
     "text": [
      "Epoch 56: 100%|██████████| 5570/5570 [01:33<00:00, 59.40batch/s, loss=0.796, perplexity=2.24]\n"
     ]
    },
    {
     "name": "stdout",
     "output_type": "stream",
     "text": [
      "Valid: Loss = 1.219 Perplexity= 3.48, LR = 0.0078125\n",
      "Model Saved!\n",
      "\n"
     ]
    },
    {
     "name": "stderr",
     "output_type": "stream",
     "text": [
      "Epoch 57: 100%|██████████| 5570/5570 [01:34<00:00, 58.88batch/s, loss=0.79, perplexity=2.22] \n"
     ]
    },
    {
     "name": "stdout",
     "output_type": "stream",
     "text": [
      "Valid: Loss = 1.217 Perplexity= 3.471, LR = 0.0078125\n",
      "Model Saved!\n",
      "\n"
     ]
    },
    {
     "name": "stderr",
     "output_type": "stream",
     "text": [
      "Epoch 58: 100%|██████████| 5570/5570 [01:35<00:00, 58.53batch/s, loss=0.785, perplexity=2.21]\n"
     ]
    },
    {
     "name": "stdout",
     "output_type": "stream",
     "text": [
      "Valid: Loss = 1.216 Perplexity= 3.468, LR = 0.0078125\n",
      "Model Saved!\n",
      "\n"
     ]
    },
    {
     "name": "stderr",
     "output_type": "stream",
     "text": [
      "Epoch 59: 100%|██████████| 5570/5570 [01:35<00:00, 58.29batch/s, loss=0.781, perplexity=2.2] \n"
     ]
    },
    {
     "name": "stdout",
     "output_type": "stream",
     "text": [
      "Valid: Loss = 1.208 Perplexity= 3.441, LR = 0.0078125\n",
      "Model Saved!\n",
      "\n"
     ]
    },
    {
     "name": "stderr",
     "output_type": "stream",
     "text": [
      "Epoch 60: 100%|██████████| 5570/5570 [01:35<00:00, 58.13batch/s, loss=0.776, perplexity=2.19]\n"
     ]
    },
    {
     "name": "stdout",
     "output_type": "stream",
     "text": [
      "Valid: Loss = 1.203 Perplexity= 3.424, LR = 0.0078125\n",
      "Model Saved!\n",
      "\n"
     ]
    },
    {
     "name": "stderr",
     "output_type": "stream",
     "text": [
      "Epoch 61: 100%|██████████| 5570/5570 [01:34<00:00, 58.75batch/s, loss=0.772, perplexity=2.18]\n"
     ]
    },
    {
     "name": "stdout",
     "output_type": "stream",
     "text": [
      "Valid: Loss = 1.203 Perplexity= 3.421, LR = 0.0078125\n",
      "Model Saved!\n",
      "\n"
     ]
    },
    {
     "name": "stderr",
     "output_type": "stream",
     "text": [
      "Epoch 62: 100%|██████████| 5570/5570 [01:35<00:00, 58.28batch/s, loss=0.768, perplexity=2.17]\n"
     ]
    },
    {
     "name": "stdout",
     "output_type": "stream",
     "text": [
      "Valid: Loss = 1.204 Perplexity= 3.426, LR = 0.0078125\n",
      "\n"
     ]
    },
    {
     "name": "stderr",
     "output_type": "stream",
     "text": [
      "Epoch 63: 100%|██████████| 5570/5570 [01:34<00:00, 58.75batch/s, loss=0.767, perplexity=2.17]\n"
     ]
    },
    {
     "name": "stdout",
     "output_type": "stream",
     "text": [
      "Valid: Loss = 1.182 Perplexity= 3.349, LR = 0.00390625\n",
      "Model Saved!\n",
      "\n"
     ]
    },
    {
     "name": "stderr",
     "output_type": "stream",
     "text": [
      "Epoch 64: 100%|██████████| 5570/5570 [01:34<00:00, 59.19batch/s, loss=0.764, perplexity=2.16]\n"
     ]
    },
    {
     "name": "stdout",
     "output_type": "stream",
     "text": [
      "Valid: Loss = 1.177 Perplexity= 3.33, LR = 0.00390625\n",
      "Model Saved!\n",
      "\n"
     ]
    },
    {
     "name": "stderr",
     "output_type": "stream",
     "text": [
      "Epoch 65: 100%|██████████| 5570/5570 [01:34<00:00, 58.84batch/s, loss=0.761, perplexity=2.16]\n"
     ]
    },
    {
     "name": "stdout",
     "output_type": "stream",
     "text": [
      "Valid: Loss = 1.176 Perplexity= 3.329, LR = 0.00390625\n",
      "Model Saved!\n",
      "\n"
     ]
    },
    {
     "name": "stderr",
     "output_type": "stream",
     "text": [
      "Epoch 66: 100%|██████████| 5570/5570 [01:34<00:00, 58.96batch/s, loss=0.76, perplexity=2.16] \n"
     ]
    },
    {
     "name": "stdout",
     "output_type": "stream",
     "text": [
      "Valid: Loss = 1.174 Perplexity= 3.322, LR = 0.00390625\n",
      "Model Saved!\n",
      "\n"
     ]
    },
    {
     "name": "stderr",
     "output_type": "stream",
     "text": [
      "Epoch 67: 100%|██████████| 5570/5570 [01:35<00:00, 58.58batch/s, loss=0.758, perplexity=2.15]\n"
     ]
    },
    {
     "name": "stdout",
     "output_type": "stream",
     "text": [
      "Valid: Loss = 1.172 Perplexity= 3.316, LR = 0.00390625\n",
      "Model Saved!\n",
      "\n"
     ]
    },
    {
     "name": "stderr",
     "output_type": "stream",
     "text": [
      "Epoch 68: 100%|██████████| 5570/5570 [01:35<00:00, 58.50batch/s, loss=0.755, perplexity=2.15]\n"
     ]
    },
    {
     "name": "stdout",
     "output_type": "stream",
     "text": [
      "Valid: Loss = 1.167 Perplexity= 3.297, LR = 0.00390625\n",
      "Model Saved!\n",
      "\n"
     ]
    },
    {
     "name": "stderr",
     "output_type": "stream",
     "text": [
      "Epoch 69: 100%|██████████| 5570/5570 [01:36<00:00, 57.73batch/s, loss=0.753, perplexity=2.14]\n"
     ]
    },
    {
     "name": "stdout",
     "output_type": "stream",
     "text": [
      "Valid: Loss = 1.166 Perplexity= 3.295, LR = 0.00390625\n",
      "Model Saved!\n",
      "\n"
     ]
    },
    {
     "name": "stderr",
     "output_type": "stream",
     "text": [
      "Epoch 70: 100%|██████████| 5570/5570 [01:34<00:00, 58.71batch/s, loss=0.751, perplexity=2.14]\n"
     ]
    },
    {
     "name": "stdout",
     "output_type": "stream",
     "text": [
      "Valid: Loss = 1.163 Perplexity= 3.283, LR = 0.00390625\n",
      "Model Saved!\n",
      "\n"
     ]
    },
    {
     "name": "stderr",
     "output_type": "stream",
     "text": [
      "Epoch 71: 100%|██████████| 5570/5570 [01:36<00:00, 57.86batch/s, loss=0.749, perplexity=2.13]\n"
     ]
    },
    {
     "name": "stdout",
     "output_type": "stream",
     "text": [
      "Valid: Loss = 1.162 Perplexity= 3.282, LR = 0.00390625\n",
      "Model Saved!\n",
      "\n"
     ]
    },
    {
     "name": "stderr",
     "output_type": "stream",
     "text": [
      "Epoch 72: 100%|██████████| 5570/5570 [01:35<00:00, 58.54batch/s, loss=0.746, perplexity=2.13]\n"
     ]
    },
    {
     "name": "stdout",
     "output_type": "stream",
     "text": [
      "Valid: Loss = 1.158 Perplexity= 3.268, LR = 0.00390625\n",
      "Model Saved!\n",
      "\n"
     ]
    },
    {
     "name": "stderr",
     "output_type": "stream",
     "text": [
      "Epoch 73: 100%|██████████| 5570/5570 [01:34<00:00, 58.95batch/s, loss=0.745, perplexity=2.12]\n"
     ]
    },
    {
     "name": "stdout",
     "output_type": "stream",
     "text": [
      "Valid: Loss = 1.156 Perplexity= 3.26, LR = 0.00390625\n",
      "Model Saved!\n",
      "\n"
     ]
    },
    {
     "name": "stderr",
     "output_type": "stream",
     "text": [
      "Epoch 74: 100%|██████████| 5570/5570 [01:35<00:00, 58.54batch/s, loss=0.743, perplexity=2.12]\n"
     ]
    },
    {
     "name": "stdout",
     "output_type": "stream",
     "text": [
      "Valid: Loss = 1.155 Perplexity= 3.258, LR = 0.00390625\n",
      "Model Saved!\n",
      "\n"
     ]
    },
    {
     "name": "stderr",
     "output_type": "stream",
     "text": [
      "Epoch 75: 100%|██████████| 5570/5570 [01:36<00:00, 57.58batch/s, loss=0.74, perplexity=2.11] \n"
     ]
    },
    {
     "name": "stdout",
     "output_type": "stream",
     "text": [
      "Valid: Loss = 1.151 Perplexity= 3.244, LR = 0.00390625\n",
      "Model Saved!\n",
      "\n"
     ]
    },
    {
     "name": "stderr",
     "output_type": "stream",
     "text": [
      "Epoch 76: 100%|██████████| 5570/5570 [01:34<00:00, 58.89batch/s, loss=0.738, perplexity=2.11]\n"
     ]
    },
    {
     "name": "stdout",
     "output_type": "stream",
     "text": [
      "Valid: Loss = 1.151 Perplexity= 3.245, LR = 0.00390625\n",
      "\n"
     ]
    },
    {
     "name": "stderr",
     "output_type": "stream",
     "text": [
      "Epoch 77: 100%|██████████| 5570/5570 [01:35<00:00, 58.54batch/s, loss=0.743, perplexity=2.12]\n"
     ]
    },
    {
     "name": "stdout",
     "output_type": "stream",
     "text": [
      "Valid: Loss = 1.139 Perplexity= 3.206, LR = 0.001953125\n",
      "Model Saved!\n",
      "\n"
     ]
    },
    {
     "name": "stderr",
     "output_type": "stream",
     "text": [
      "Epoch 78: 100%|██████████| 5570/5570 [01:35<00:00, 58.06batch/s, loss=0.744, perplexity=2.12]\n"
     ]
    },
    {
     "name": "stdout",
     "output_type": "stream",
     "text": [
      "Valid: Loss = 1.138 Perplexity= 3.203, LR = 0.001953125\n",
      "Model Saved!\n",
      "\n"
     ]
    },
    {
     "name": "stderr",
     "output_type": "stream",
     "text": [
      "Epoch 79: 100%|██████████| 5570/5570 [01:35<00:00, 58.08batch/s, loss=0.745, perplexity=2.12]\n"
     ]
    },
    {
     "name": "stdout",
     "output_type": "stream",
     "text": [
      "Valid: Loss = 1.135 Perplexity= 3.191, LR = 0.001953125\n",
      "Model Saved!\n",
      "\n"
     ]
    },
    {
     "name": "stderr",
     "output_type": "stream",
     "text": [
      "Epoch 80: 100%|██████████| 5570/5570 [01:36<00:00, 57.55batch/s, loss=0.75, perplexity=2.14] \n"
     ]
    },
    {
     "name": "stdout",
     "output_type": "stream",
     "text": [
      "Valid: Loss = 1.131 Perplexity= 3.179, LR = 0.001953125\n",
      "Model Saved!\n",
      "\n"
     ]
    },
    {
     "name": "stderr",
     "output_type": "stream",
     "text": [
      "Epoch 81: 100%|██████████| 5570/5570 [01:30<00:00, 61.25batch/s, loss=0.758, perplexity=2.15]\n"
     ]
    },
    {
     "name": "stdout",
     "output_type": "stream",
     "text": [
      "Valid: Loss = 1.129 Perplexity= 3.172, LR = 0.001953125\n",
      "Model Saved!\n",
      "\n"
     ]
    },
    {
     "name": "stderr",
     "output_type": "stream",
     "text": [
      "Epoch 82: 100%|██████████| 5570/5570 [01:25<00:00, 65.05batch/s, loss=0.758, perplexity=2.15]\n"
     ]
    },
    {
     "name": "stdout",
     "output_type": "stream",
     "text": [
      "Valid: Loss = 1.125 Perplexity= 3.159, LR = 0.001953125\n",
      "Model Saved!\n",
      "\n"
     ]
    },
    {
     "name": "stderr",
     "output_type": "stream",
     "text": [
      "Epoch 83: 100%|██████████| 5570/5570 [01:26<00:00, 64.70batch/s, loss=0.756, perplexity=2.15]\n"
     ]
    },
    {
     "name": "stdout",
     "output_type": "stream",
     "text": [
      "Valid: Loss = 1.126 Perplexity= 3.162, LR = 0.001953125\n",
      "\n"
     ]
    },
    {
     "name": "stderr",
     "output_type": "stream",
     "text": [
      "Epoch 84: 100%|██████████| 5570/5570 [01:25<00:00, 65.10batch/s, loss=0.762, perplexity=2.16]\n"
     ]
    },
    {
     "name": "stdout",
     "output_type": "stream",
     "text": [
      "Valid: Loss = 1.115 Perplexity= 3.126, LR = 0.0009765625\n",
      "Model Saved!\n",
      "\n"
     ]
    },
    {
     "name": "stderr",
     "output_type": "stream",
     "text": [
      "Epoch 85: 100%|██████████| 5570/5570 [01:26<00:00, 64.74batch/s, loss=0.759, perplexity=2.16]\n"
     ]
    },
    {
     "name": "stdout",
     "output_type": "stream",
     "text": [
      "Valid: Loss = 1.113 Perplexity= 3.119, LR = 0.0009765625\n",
      "Model Saved!\n",
      "\n"
     ]
    },
    {
     "name": "stderr",
     "output_type": "stream",
     "text": [
      "Epoch 86: 100%|██████████| 5570/5570 [01:25<00:00, 64.86batch/s, loss=0.757, perplexity=2.15]\n"
     ]
    },
    {
     "name": "stdout",
     "output_type": "stream",
     "text": [
      "Valid: Loss = 1.112 Perplexity= 3.117, LR = 0.0009765625\n",
      "Model Saved!\n",
      "\n"
     ]
    },
    {
     "name": "stderr",
     "output_type": "stream",
     "text": [
      "Epoch 87: 100%|██████████| 5570/5570 [01:26<00:00, 64.64batch/s, loss=0.756, perplexity=2.15]\n"
     ]
    },
    {
     "name": "stdout",
     "output_type": "stream",
     "text": [
      "Valid: Loss = 1.109 Perplexity= 3.108, LR = 0.0009765625\n",
      "Model Saved!\n",
      "\n"
     ]
    },
    {
     "name": "stderr",
     "output_type": "stream",
     "text": [
      "Epoch 88: 100%|██████████| 5570/5570 [01:25<00:00, 64.85batch/s, loss=0.755, perplexity=2.15]\n"
     ]
    },
    {
     "name": "stdout",
     "output_type": "stream",
     "text": [
      "Valid: Loss = 1.111 Perplexity= 3.114, LR = 0.0009765625\n",
      "\n"
     ]
    },
    {
     "name": "stderr",
     "output_type": "stream",
     "text": [
      "Epoch 89: 100%|██████████| 5570/5570 [01:26<00:00, 64.64batch/s, loss=0.759, perplexity=2.15]\n"
     ]
    },
    {
     "name": "stdout",
     "output_type": "stream",
     "text": [
      "Valid: Loss = 1.105 Perplexity= 3.095, LR = 0.00048828125\n",
      "Model Saved!\n",
      "\n"
     ]
    },
    {
     "name": "stderr",
     "output_type": "stream",
     "text": [
      "Epoch 90: 100%|██████████| 5570/5570 [01:26<00:00, 64.58batch/s, loss=0.756, perplexity=2.15]\n"
     ]
    },
    {
     "name": "stdout",
     "output_type": "stream",
     "text": [
      "Valid: Loss = 1.105 Perplexity= 3.092, LR = 0.00048828125\n",
      "Model Saved!\n",
      "\n"
     ]
    },
    {
     "name": "stderr",
     "output_type": "stream",
     "text": [
      "Epoch 91: 100%|██████████| 5570/5570 [01:25<00:00, 65.11batch/s, loss=0.755, perplexity=2.15]\n"
     ]
    },
    {
     "name": "stdout",
     "output_type": "stream",
     "text": [
      "Valid: Loss = 1.104 Perplexity= 3.089, LR = 0.00048828125\n",
      "Model Saved!\n",
      "\n"
     ]
    },
    {
     "name": "stderr",
     "output_type": "stream",
     "text": [
      "Epoch 92: 100%|██████████| 5570/5570 [01:26<00:00, 64.66batch/s, loss=0.754, perplexity=2.14]\n"
     ]
    },
    {
     "name": "stdout",
     "output_type": "stream",
     "text": [
      "Valid: Loss = 1.104 Perplexity= 3.09, LR = 0.00048828125\n",
      "\n"
     ]
    },
    {
     "name": "stderr",
     "output_type": "stream",
     "text": [
      "Epoch 93: 100%|██████████| 5570/5570 [01:26<00:00, 64.54batch/s, loss=0.757, perplexity=2.15]\n"
     ]
    },
    {
     "name": "stdout",
     "output_type": "stream",
     "text": [
      "Valid: Loss = 1.102 Perplexity= 3.084, LR = 0.000244140625\n",
      "Model Saved!\n",
      "\n"
     ]
    },
    {
     "name": "stderr",
     "output_type": "stream",
     "text": [
      "Epoch 94: 100%|██████████| 5570/5570 [01:25<00:00, 64.83batch/s, loss=0.755, perplexity=2.15]\n"
     ]
    },
    {
     "name": "stdout",
     "output_type": "stream",
     "text": [
      "Valid: Loss = 1.102 Perplexity= 3.085, LR = 0.000244140625\n",
      "\n"
     ]
    },
    {
     "name": "stderr",
     "output_type": "stream",
     "text": [
      "Epoch 95: 100%|██████████| 5570/5570 [01:26<00:00, 64.72batch/s, loss=0.755, perplexity=2.15]\n"
     ]
    },
    {
     "name": "stdout",
     "output_type": "stream",
     "text": [
      "Valid: Loss = 1.101 Perplexity= 3.081, LR = 0.0001220703125\n",
      "Model Saved!\n",
      "\n"
     ]
    },
    {
     "name": "stderr",
     "output_type": "stream",
     "text": [
      "Epoch 96: 100%|██████████| 5570/5570 [01:26<00:00, 64.58batch/s, loss=0.755, perplexity=2.15]\n"
     ]
    },
    {
     "name": "stdout",
     "output_type": "stream",
     "text": [
      "Valid: Loss = 1.1 Perplexity= 3.079, LR = 0.0001220703125\n",
      "Model Saved!\n",
      "\n"
     ]
    },
    {
     "name": "stderr",
     "output_type": "stream",
     "text": [
      "Epoch 97: 100%|██████████| 5570/5570 [01:25<00:00, 65.06batch/s, loss=0.754, perplexity=2.14]\n"
     ]
    },
    {
     "name": "stdout",
     "output_type": "stream",
     "text": [
      "Valid: Loss = 1.1 Perplexity= 3.078, LR = 0.0001220703125\n",
      "Model Saved!\n",
      "\n"
     ]
    },
    {
     "name": "stderr",
     "output_type": "stream",
     "text": [
      "Epoch 98: 100%|██████████| 5570/5570 [01:26<00:00, 64.47batch/s, loss=0.754, perplexity=2.14]\n"
     ]
    },
    {
     "name": "stdout",
     "output_type": "stream",
     "text": [
      "Valid: Loss = 1.1 Perplexity= 3.076, LR = 0.0001220703125\n",
      "Model Saved!\n",
      "\n"
     ]
    },
    {
     "name": "stderr",
     "output_type": "stream",
     "text": [
      "Epoch 99: 100%|██████████| 5570/5570 [01:26<00:00, 64.73batch/s, loss=0.753, perplexity=2.14]\n"
     ]
    },
    {
     "name": "stdout",
     "output_type": "stream",
     "text": [
      "Valid: Loss = 1.099 Perplexity= 3.076, LR = 0.0001220703125\n",
      "Model Saved!\n",
      "\n"
     ]
    },
    {
     "name": "stderr",
     "output_type": "stream",
     "text": [
      "Epoch 100: 100%|██████████| 5570/5570 [01:25<00:00, 64.79batch/s, loss=0.753, perplexity=2.14]\n"
     ]
    },
    {
     "name": "stdout",
     "output_type": "stream",
     "text": [
      "Valid: Loss = 1.099 Perplexity= 3.076, LR = 0.0001220703125\n",
      "\n"
     ]
    },
    {
     "name": "stderr",
     "output_type": "stream",
     "text": [
      "Epoch 101: 100%|██████████| 5570/5570 [01:25<00:00, 64.79batch/s, loss=0.753, perplexity=2.14]\n"
     ]
    },
    {
     "name": "stdout",
     "output_type": "stream",
     "text": [
      "Valid: Loss = 1.099 Perplexity= 3.075, LR = 6.103515625e-05\n",
      "Model Saved!\n",
      "\n"
     ]
    },
    {
     "name": "stderr",
     "output_type": "stream",
     "text": [
      "Epoch 102: 100%|██████████| 5570/5570 [01:26<00:00, 64.76batch/s, loss=0.753, perplexity=2.14]\n"
     ]
    },
    {
     "name": "stdout",
     "output_type": "stream",
     "text": [
      "Valid: Loss = 1.099 Perplexity= 3.074, LR = 6.103515625e-05\n",
      "Model Saved!\n",
      "\n"
     ]
    },
    {
     "name": "stderr",
     "output_type": "stream",
     "text": [
      "Epoch 103: 100%|██████████| 5570/5570 [01:26<00:00, 64.70batch/s, loss=0.753, perplexity=2.14]\n"
     ]
    },
    {
     "name": "stdout",
     "output_type": "stream",
     "text": [
      "Valid: Loss = 1.099 Perplexity= 3.074, LR = 6.103515625e-05\n",
      "Model Saved!\n",
      "\n"
     ]
    },
    {
     "name": "stderr",
     "output_type": "stream",
     "text": [
      "Epoch 104: 100%|██████████| 5570/5570 [01:26<00:00, 64.39batch/s, loss=0.752, perplexity=2.14]\n"
     ]
    },
    {
     "name": "stdout",
     "output_type": "stream",
     "text": [
      "Valid: Loss = 1.099 Perplexity= 3.074, LR = 6.103515625e-05\n",
      "\n"
     ]
    },
    {
     "name": "stderr",
     "output_type": "stream",
     "text": [
      "Epoch 105: 100%|██████████| 5570/5570 [01:26<00:00, 64.65batch/s, loss=0.753, perplexity=2.14]\n"
     ]
    },
    {
     "name": "stdout",
     "output_type": "stream",
     "text": [
      "Valid: Loss = 1.099 Perplexity= 3.074, LR = 3.0517578125e-05\n",
      "Model Saved!\n",
      "\n"
     ]
    },
    {
     "name": "stderr",
     "output_type": "stream",
     "text": [
      "Epoch 106: 100%|██████████| 5570/5570 [01:26<00:00, 64.36batch/s, loss=0.752, perplexity=2.14]\n"
     ]
    },
    {
     "name": "stdout",
     "output_type": "stream",
     "text": [
      "Valid: Loss = 1.099 Perplexity= 3.073, LR = 3.0517578125e-05\n",
      "Model Saved!\n",
      "\n"
     ]
    },
    {
     "name": "stderr",
     "output_type": "stream",
     "text": [
      "Epoch 107: 100%|██████████| 5570/5570 [01:22<00:00, 67.72batch/s, loss=0.752, perplexity=2.14]\n"
     ]
    },
    {
     "name": "stdout",
     "output_type": "stream",
     "text": [
      "Valid: Loss = 1.098 Perplexity= 3.073, LR = 3.0517578125e-05\n",
      "Model Saved!\n",
      "\n"
     ]
    },
    {
     "name": "stderr",
     "output_type": "stream",
     "text": [
      "Epoch 108: 100%|██████████| 5570/5570 [01:19<00:00, 69.67batch/s, loss=0.752, perplexity=2.14]\n"
     ]
    },
    {
     "name": "stdout",
     "output_type": "stream",
     "text": [
      "Valid: Loss = 1.098 Perplexity= 3.072, LR = 3.0517578125e-05\n",
      "Model Saved!\n",
      "\n"
     ]
    },
    {
     "name": "stderr",
     "output_type": "stream",
     "text": [
      "Epoch 109: 100%|██████████| 5570/5570 [01:19<00:00, 69.64batch/s, loss=0.752, perplexity=2.14]\n"
     ]
    },
    {
     "name": "stdout",
     "output_type": "stream",
     "text": [
      "Valid: Loss = 1.098 Perplexity= 3.072, LR = 3.0517578125e-05\n",
      "Model Saved!\n",
      "\n"
     ]
    },
    {
     "name": "stderr",
     "output_type": "stream",
     "text": [
      "Epoch 110: 100%|██████████| 5570/5570 [01:20<00:00, 69.62batch/s, loss=0.751, perplexity=2.14]\n"
     ]
    },
    {
     "name": "stdout",
     "output_type": "stream",
     "text": [
      "Valid: Loss = 1.098 Perplexity= 3.072, LR = 3.0517578125e-05\n",
      "Model Saved!\n",
      "\n"
     ]
    },
    {
     "name": "stderr",
     "output_type": "stream",
     "text": [
      "Epoch 111: 100%|██████████| 5570/5570 [01:19<00:00, 69.70batch/s, loss=0.752, perplexity=2.14]\n"
     ]
    },
    {
     "name": "stdout",
     "output_type": "stream",
     "text": [
      "Valid: Loss = 1.098 Perplexity= 3.072, LR = 3.0517578125e-05\n",
      "Model Saved!\n",
      "\n"
     ]
    },
    {
     "name": "stderr",
     "output_type": "stream",
     "text": [
      "Epoch 112: 100%|██████████| 5570/5570 [01:19<00:00, 69.81batch/s, loss=0.751, perplexity=2.14]\n"
     ]
    },
    {
     "name": "stdout",
     "output_type": "stream",
     "text": [
      "Valid: Loss = 1.098 Perplexity= 3.071, LR = 3.0517578125e-05\n",
      "Model Saved!\n",
      "\n"
     ]
    },
    {
     "name": "stderr",
     "output_type": "stream",
     "text": [
      "Epoch 113: 100%|██████████| 5570/5570 [01:19<00:00, 69.92batch/s, loss=0.751, perplexity=2.14]\n"
     ]
    },
    {
     "name": "stdout",
     "output_type": "stream",
     "text": [
      "Valid: Loss = 1.098 Perplexity= 3.071, LR = 3.0517578125e-05\n",
      "Model Saved!\n",
      "\n"
     ]
    },
    {
     "name": "stderr",
     "output_type": "stream",
     "text": [
      "Epoch 114: 100%|██████████| 5570/5570 [01:19<00:00, 69.63batch/s, loss=0.751, perplexity=2.14]\n"
     ]
    },
    {
     "name": "stdout",
     "output_type": "stream",
     "text": [
      "Valid: Loss = 1.098 Perplexity= 3.071, LR = 3.0517578125e-05\n",
      "\n"
     ]
    },
    {
     "name": "stderr",
     "output_type": "stream",
     "text": [
      "Epoch 115: 100%|██████████| 5570/5570 [01:19<00:00, 69.79batch/s, loss=0.751, perplexity=2.14]\n"
     ]
    },
    {
     "name": "stdout",
     "output_type": "stream",
     "text": [
      "Valid: Loss = 1.098 Perplexity= 3.071, LR = 1.52587890625e-05\n",
      "Model Saved!\n",
      "\n"
     ]
    },
    {
     "name": "stderr",
     "output_type": "stream",
     "text": [
      "Epoch 116: 100%|██████████| 5570/5570 [01:19<00:00, 69.66batch/s, loss=0.751, perplexity=2.14]\n"
     ]
    },
    {
     "name": "stdout",
     "output_type": "stream",
     "text": [
      "Valid: Loss = 1.098 Perplexity= 3.07, LR = 1.52587890625e-05\n",
      "Model Saved!\n",
      "\n"
     ]
    },
    {
     "name": "stderr",
     "output_type": "stream",
     "text": [
      "Epoch 117: 100%|██████████| 5570/5570 [01:19<00:00, 69.68batch/s, loss=0.751, perplexity=2.14]\n"
     ]
    },
    {
     "name": "stdout",
     "output_type": "stream",
     "text": [
      "Valid: Loss = 1.098 Perplexity= 3.071, LR = 1.52587890625e-05\n",
      "\n"
     ]
    },
    {
     "name": "stderr",
     "output_type": "stream",
     "text": [
      "Epoch 118: 100%|██████████| 5570/5570 [01:19<00:00, 69.66batch/s, loss=0.751, perplexity=2.14]\n"
     ]
    },
    {
     "name": "stdout",
     "output_type": "stream",
     "text": [
      "Valid: Loss = 1.098 Perplexity= 3.07, LR = 7.62939453125e-06\n",
      "Model Saved!\n",
      "\n"
     ]
    },
    {
     "name": "stderr",
     "output_type": "stream",
     "text": [
      "Epoch 119: 100%|██████████| 5570/5570 [01:19<00:00, 69.63batch/s, loss=0.751, perplexity=2.14]\n"
     ]
    },
    {
     "name": "stdout",
     "output_type": "stream",
     "text": [
      "Valid: Loss = 1.098 Perplexity= 3.07, LR = 7.62939453125e-06\n",
      "Model Saved!\n",
      "\n"
     ]
    },
    {
     "name": "stderr",
     "output_type": "stream",
     "text": [
      "Epoch 120: 100%|██████████| 5570/5570 [01:20<00:00, 69.62batch/s, loss=0.751, perplexity=2.14]\n"
     ]
    },
    {
     "name": "stdout",
     "output_type": "stream",
     "text": [
      "Valid: Loss = 1.098 Perplexity= 3.07, LR = 7.62939453125e-06\n",
      "Model Saved!\n",
      "\n"
     ]
    },
    {
     "name": "stderr",
     "output_type": "stream",
     "text": [
      "Epoch 121: 100%|██████████| 5570/5570 [01:19<00:00, 69.68batch/s, loss=0.751, perplexity=2.14]\n"
     ]
    },
    {
     "name": "stdout",
     "output_type": "stream",
     "text": [
      "Valid: Loss = 1.098 Perplexity= 3.07, LR = 7.62939453125e-06\n",
      "\n"
     ]
    },
    {
     "name": "stderr",
     "output_type": "stream",
     "text": [
      "Epoch 122: 100%|██████████| 5570/5570 [01:19<00:00, 69.85batch/s, loss=0.75, perplexity=2.14] \n"
     ]
    },
    {
     "name": "stdout",
     "output_type": "stream",
     "text": [
      "Valid: Loss = 1.097 Perplexity= 3.07, LR = 3.814697265625e-06\n",
      "Model Saved!\n",
      "\n"
     ]
    },
    {
     "name": "stderr",
     "output_type": "stream",
     "text": [
      "Epoch 123: 100%|██████████| 5570/5570 [01:19<00:00, 69.70batch/s, loss=0.751, perplexity=2.14]\n"
     ]
    },
    {
     "name": "stdout",
     "output_type": "stream",
     "text": [
      "Valid: Loss = 1.097 Perplexity= 3.07, LR = 3.814697265625e-06\n",
      "Model Saved!\n",
      "\n"
     ]
    },
    {
     "name": "stderr",
     "output_type": "stream",
     "text": [
      "Epoch 124: 100%|██████████| 5570/5570 [01:20<00:00, 69.60batch/s, loss=0.751, perplexity=2.14]\n"
     ]
    },
    {
     "name": "stdout",
     "output_type": "stream",
     "text": [
      "Valid: Loss = 1.097 Perplexity= 3.07, LR = 3.814697265625e-06\n",
      "Model Saved!\n",
      "\n"
     ]
    },
    {
     "name": "stderr",
     "output_type": "stream",
     "text": [
      "Epoch 125: 100%|██████████| 5570/5570 [01:19<00:00, 69.90batch/s, loss=0.751, perplexity=2.14]\n"
     ]
    },
    {
     "name": "stdout",
     "output_type": "stream",
     "text": [
      "Valid: Loss = 1.097 Perplexity= 3.07, LR = 3.814697265625e-06\n",
      "Model Saved!\n",
      "\n"
     ]
    },
    {
     "name": "stderr",
     "output_type": "stream",
     "text": [
      "Epoch 126: 100%|██████████| 5570/5570 [01:19<00:00, 69.63batch/s, loss=0.751, perplexity=2.14]\n"
     ]
    },
    {
     "name": "stdout",
     "output_type": "stream",
     "text": [
      "Valid: Loss = 1.097 Perplexity= 3.069, LR = 3.814697265625e-06\n",
      "Model Saved!\n",
      "\n"
     ]
    },
    {
     "name": "stderr",
     "output_type": "stream",
     "text": [
      "Epoch 127: 100%|██████████| 5570/5570 [01:19<00:00, 69.79batch/s, loss=0.75, perplexity=2.14] \n"
     ]
    },
    {
     "name": "stdout",
     "output_type": "stream",
     "text": [
      "Valid: Loss = 1.097 Perplexity= 3.07, LR = 3.814697265625e-06\n",
      "\n"
     ]
    },
    {
     "name": "stderr",
     "output_type": "stream",
     "text": [
      "Epoch 128: 100%|██████████| 5570/5570 [01:19<00:00, 69.65batch/s, loss=0.751, perplexity=2.14]\n"
     ]
    },
    {
     "name": "stdout",
     "output_type": "stream",
     "text": [
      "Valid: Loss = 1.097 Perplexity= 3.069, LR = 1.9073486328125e-06\n",
      "Model Saved!\n",
      "\n"
     ]
    },
    {
     "name": "stderr",
     "output_type": "stream",
     "text": [
      "Epoch 129: 100%|██████████| 5570/5570 [01:20<00:00, 69.57batch/s, loss=0.751, perplexity=2.14]\n"
     ]
    },
    {
     "name": "stdout",
     "output_type": "stream",
     "text": [
      "Valid: Loss = 1.097 Perplexity= 3.07, LR = 1.9073486328125e-06\n",
      "\n"
     ]
    },
    {
     "name": "stderr",
     "output_type": "stream",
     "text": [
      "Epoch 130: 100%|██████████| 5570/5570 [01:19<00:00, 69.92batch/s, loss=0.751, perplexity=2.14]\n"
     ]
    },
    {
     "name": "stdout",
     "output_type": "stream",
     "text": [
      "Valid: Loss = 1.097 Perplexity= 3.069, LR = 9.5367431640625e-07\n",
      "\n"
     ]
    },
    {
     "name": "stderr",
     "output_type": "stream",
     "text": [
      "Epoch 131: 100%|██████████| 5570/5570 [01:19<00:00, 69.98batch/s, loss=0.75, perplexity=2.14] \n"
     ]
    },
    {
     "name": "stdout",
     "output_type": "stream",
     "text": [
      "Valid: Loss = 1.097 Perplexity= 3.069, LR = 4.76837158203125e-07\n",
      "\n"
     ]
    },
    {
     "name": "stderr",
     "output_type": "stream",
     "text": [
      "Epoch 132: 100%|██████████| 5570/5570 [01:19<00:00, 69.72batch/s, loss=0.751, perplexity=2.14]\n"
     ]
    },
    {
     "name": "stdout",
     "output_type": "stream",
     "text": [
      "Valid: Loss = 1.097 Perplexity= 3.069, LR = 2.384185791015625e-07\n",
      "Model Saved!\n",
      "\n"
     ]
    },
    {
     "name": "stderr",
     "output_type": "stream",
     "text": [
      "Epoch 133: 100%|██████████| 5570/5570 [01:19<00:00, 69.71batch/s, loss=0.75, perplexity=2.14] \n"
     ]
    },
    {
     "name": "stdout",
     "output_type": "stream",
     "text": [
      "Valid: Loss = 1.097 Perplexity= 3.069, LR = 2.384185791015625e-07\n",
      "Model Saved!\n",
      "\n"
     ]
    },
    {
     "name": "stderr",
     "output_type": "stream",
     "text": [
      "Epoch 134: 100%|██████████| 5570/5570 [01:19<00:00, 69.67batch/s, loss=0.751, perplexity=2.14]\n"
     ]
    },
    {
     "name": "stdout",
     "output_type": "stream",
     "text": [
      "Valid: Loss = 1.097 Perplexity= 3.069, LR = 2.384185791015625e-07\n",
      "\n"
     ]
    },
    {
     "name": "stderr",
     "output_type": "stream",
     "text": [
      "Epoch 135: 100%|██████████| 5570/5570 [01:19<00:00, 69.80batch/s, loss=0.751, perplexity=2.14]\n"
     ]
    },
    {
     "name": "stdout",
     "output_type": "stream",
     "text": [
      "Valid: Loss = 1.097 Perplexity= 3.069, LR = 1.1920928955078125e-07\n",
      "\n"
     ]
    },
    {
     "name": "stderr",
     "output_type": "stream",
     "text": [
      "Epoch 136: 100%|██████████| 5570/5570 [01:20<00:00, 69.57batch/s, loss=0.751, perplexity=2.14]\n"
     ]
    },
    {
     "name": "stdout",
     "output_type": "stream",
     "text": [
      "Valid: Loss = 1.097 Perplexity= 3.069, LR = 5.960464477539063e-08\n",
      "\n"
     ]
    },
    {
     "name": "stderr",
     "output_type": "stream",
     "text": [
      "Epoch 137: 100%|██████████| 5570/5570 [01:19<00:00, 69.68batch/s, loss=0.751, perplexity=2.14]\n"
     ]
    },
    {
     "name": "stdout",
     "output_type": "stream",
     "text": [
      "Valid: Loss = 1.097 Perplexity= 3.069, LR = 2.9802322387695312e-08\n",
      "\n"
     ]
    },
    {
     "name": "stderr",
     "output_type": "stream",
     "text": [
      "Epoch 138: 100%|██████████| 5570/5570 [01:19<00:00, 69.75batch/s, loss=0.751, perplexity=2.14]\n"
     ]
    },
    {
     "name": "stdout",
     "output_type": "stream",
     "text": [
      "Valid: Loss = 1.097 Perplexity= 3.069, LR = 1.4901161193847656e-08\n",
      "Model Saved!\n",
      "\n"
     ]
    },
    {
     "name": "stderr",
     "output_type": "stream",
     "text": [
      "Epoch 139: 100%|██████████| 5570/5570 [01:19<00:00, 69.74batch/s, loss=0.75, perplexity=2.14] \n"
     ]
    },
    {
     "name": "stdout",
     "output_type": "stream",
     "text": [
      "Valid: Loss = 1.097 Perplexity= 3.069, LR = 1.4901161193847656e-08\n",
      "\n"
     ]
    },
    {
     "name": "stderr",
     "output_type": "stream",
     "text": [
      "Epoch 140: 100%|██████████| 5570/5570 [01:20<00:00, 69.56batch/s, loss=0.751, perplexity=2.14]\n"
     ]
    },
    {
     "name": "stdout",
     "output_type": "stream",
     "text": [
      "Valid: Loss = 1.097 Perplexity= 3.069, LR = 7.450580596923828e-09\n",
      "\n"
     ]
    },
    {
     "name": "stderr",
     "output_type": "stream",
     "text": [
      "Epoch 141: 100%|██████████| 5570/5570 [01:20<00:00, 69.61batch/s, loss=0.751, perplexity=2.14]\n"
     ]
    },
    {
     "name": "stdout",
     "output_type": "stream",
     "text": [
      "Valid: Loss = 1.097 Perplexity= 3.069, LR = 3.725290298461914e-09\n",
      "\n"
     ]
    },
    {
     "name": "stderr",
     "output_type": "stream",
     "text": [
      "Epoch 142: 100%|██████████| 5570/5570 [01:20<00:00, 69.44batch/s, loss=0.751, perplexity=2.14]\n"
     ]
    },
    {
     "name": "stdout",
     "output_type": "stream",
     "text": [
      "Valid: Loss = 1.097 Perplexity= 3.069, LR = 1.862645149230957e-09\n",
      "\n"
     ]
    },
    {
     "name": "stderr",
     "output_type": "stream",
     "text": [
      "Epoch 143: 100%|██████████| 5570/5570 [01:19<00:00, 69.65batch/s, loss=0.751, perplexity=2.14]\n"
     ]
    },
    {
     "name": "stdout",
     "output_type": "stream",
     "text": [
      "Valid: Loss = 1.097 Perplexity= 3.069, LR = 9.313225746154785e-10\n",
      "\n"
     ]
    },
    {
     "name": "stderr",
     "output_type": "stream",
     "text": [
      "Epoch 144: 100%|██████████| 5570/5570 [01:20<00:00, 69.58batch/s, loss=0.751, perplexity=2.14]\n"
     ]
    },
    {
     "name": "stdout",
     "output_type": "stream",
     "text": [
      "Valid: Loss = 1.097 Perplexity= 3.069, LR = 4.656612873077393e-10\n",
      "LR_DEC==3 , Finished\n"
     ]
    }
   ],
   "source": [
    "num_epochs = 300\n",
    "max_lr_dec = 5\n",
    "lr_dec = 0\n",
    "\n",
    "for epoch in range(num_epochs):\n",
    "  # Train\n",
    "  model, loss_train, per_train = train_one_epoch(model, train_loader, loss_fn, optimizer, perp , epoch)\n",
    "  # Validation\n",
    "  loss_valid, per_val = evaluate(model, valid_loader, loss_fn, perp)\n",
    "\n",
    "  loss_train_hist.append(loss_train)\n",
    "  loss_valid_hist.append(loss_valid)\n",
    "\n",
    "  per_train_hist.append(per_train)\n",
    "  per_valid_hist.append(per_val)\n",
    "\n",
    "  lr_train_hist.append(lr)\n",
    "  \n",
    "  print(f'Valid: Loss = {loss_valid:.4} Perplexity= {per_val:.4}, LR = {lr}')\n",
    "  epoch_counter += 1\n",
    "  \n",
    "  if per_val < best_perplexity_valid:\n",
    "    lr_dec = 0\n",
    "    torch.save(model, f'model.pt')\n",
    "    best_perplexity_valid = per_val\n",
    "    print('Model Saved!')\n",
    "  else:\n",
    "    if lr_dec >= max_lr_dec :\n",
    "      print(\"LR_DEC==3 , Finished\")\n",
    "      break\n",
    "    lr_dec += 1\n",
    "    \n",
    "    del model\n",
    "    del perp\n",
    "    del loss_fn\n",
    "    del optimizer\n",
    "    \n",
    "    model_path = 'model.pt'\n",
    "    model = torch.load(model_path,map_location=device)\n",
    "    lr /= 2\n",
    "    optimizer = optim.SGD(model.parameters(), lr=lr, weight_decay=wd, momentum=0.9)\n",
    "    loss_fn = nn.CrossEntropyLoss()\n",
    "    perp = Perplexity().to(device)\n",
    "  print()\n",
    "  "
   ]
  },
  {
   "cell_type": "markdown",
   "metadata": {},
   "source": [
    "## Learning Curve"
   ]
  },
  {
   "cell_type": "code",
   "execution_count": 21,
   "metadata": {},
   "outputs": [
    {
     "data": {
      "image/png": "[encoded data removed]",
      "text/plain": [
       "<Figure size 2000x600 with 3 Axes>"
      ]
     },
     "metadata": {},
     "output_type": "display_data"
    }
   ],
   "source": [
    "# Save as CSV\n",
    "import pandas as pd\n",
    "datas = {\n",
    "    'epoch': range(epoch_counter),\n",
    "    'loss_train': loss_train_hist,\n",
    "    'loss_validation': loss_valid_hist,\n",
    "    'perplexity_train': per_train_hist , \n",
    "    'perplexity_validation':per_valid_hist,\n",
    "    'learning_rate': lr_train_hist\n",
    "}\n",
    "df = pd.DataFrame(datas)\n",
    "df.to_csv(\"learningCurve.csv\" , index=False)\n",
    "\n",
    "fig, (ax1, ax2 , ax3) = plt.subplots(1, 3, figsize=(20, 6))\n",
    "\n",
    "ax1.plot(range(epoch_counter), loss_train_hist, 'r-', label='Train')\n",
    "ax1.plot(range(epoch_counter), loss_valid_hist, 'b-', label='Validation')\n",
    "ax1.set_title('Learning Curve')\n",
    "ax1.set_xlabel('Epoch')\n",
    "ax1.set_ylabel('Loss')\n",
    "ax1.grid(True)\n",
    "ax1.legend()\n",
    "\n",
    "ax2.plot(range(epoch_counter), per_train_hist, 'r-', label='Train')\n",
    "ax2.plot(range(epoch_counter), per_valid_hist, 'b-', label='Validation')\n",
    "ax2.set_title('Perplexity')\n",
    "ax2.set_xlabel('Epoch')\n",
    "ax2.set_ylabel('Perplexity')\n",
    "ax2.grid(True)\n",
    "ax2.legend()\n",
    "\n",
    "ax3.plot(range(epoch_counter), lr_train_hist, 'r-', label='Rate')\n",
    "ax3.set_title('Learning Rate')\n",
    "ax3.set_xlabel('Epoch')\n",
    "ax3.set_ylabel('Rate')\n",
    "ax3.grid(True)\n",
    "ax3.legend()\n",
    "\n",
    "plt.tight_layout()\n",
    "plt.show()"
   ]
  },
  {
   "cell_type": "markdown",
   "metadata": {},
   "source": [
    "## Test Perplexity"
   ]
  },
  {
   "cell_type": "code",
   "execution_count": 17,
   "metadata": {},
   "outputs": [
    {
     "name": "stderr",
     "output_type": "stream",
     "text": [
      "/tmp/ipykernel_3111/1059837893.py:13: UserWarning: To copy construct from a tensor, it is recommended to use sourceTensor.clone().detach() or sourceTensor.clone().detach().requires_grad_(True), rather than torch.tensor(sourceTensor).\n",
      "  return torch.tensor(input), torch.tensor(target)\n"
     ]
    },
    {
     "name": "stdout",
     "output_type": "stream",
     "text": [
      "Validation: Loss = 1.097 , Perplexity = 3.069\n",
      "Test: Loss = 1.07 , Perplexity = 2.987\n"
     ]
    }
   ],
   "source": [
    "\n",
    "model_path = 'model.pt'\n",
    "model = torch.load(model_path)\n",
    "model = model.to(device)\n",
    "model.eval()\n",
    "\n",
    "loss_fn = nn.CrossEntropyLoss()\n",
    "perp = Perplexity().to(device)\n",
    "\n",
    "loss_valid , per_valid  = evaluate(model, valid_loader, loss_fn , perp )\n",
    "print(f\"Validation: Loss = {loss_valid:.4} , Perplexity = {per_valid:.4}\")\n",
    "\n",
    "loss_test , per_test  = evaluate(model, test_loader, loss_fn , perp)\n",
    "print(f\"Test: Loss = {loss_test:.4} , Perplexity = {per_test:.4}\")"
   ]
  },
  {
   "cell_type": "markdown",
   "metadata": {},
   "source": [
    "# Text Generation"
   ]
  },
  {
   "cell_type": "code",
   "execution_count": 19,
   "metadata": {},
   "outputs": [
    {
     "data": {
      "text/plain": [
       "H_LSTM(\n",
       "  (embedding): Embedding(33278, 500)\n",
       "  (dropout_em): Dropout(p=0.1, inplace=False)\n",
       "  (rnn1): LSTM(500, 500, batch_first=True)\n",
       "  (dropout1): Dropout(p=0.25, inplace=False)\n",
       "  (rnn2): LSTM(500, 500, batch_first=True)\n",
       "  (dropout2): Dropout(p=0.25, inplace=False)\n",
       "  (rnn3): LSTM(500, 500, batch_first=True)\n",
       "  (dropout3): Dropout(p=0.25, inplace=False)\n",
       "  (fc): Linear(in_features=500, out_features=33278, bias=True)\n",
       ")"
      ]
     },
     "execution_count": 19,
     "metadata": {},
     "output_type": "execute_result"
    }
   ],
   "source": [
    "loss_fn = nn.CrossEntropyLoss()\n",
    "\n",
    "model_path = 'model.pt'\n",
    "model = torch.load(model_path)\n",
    "model = model.to(device)\n",
    "model.eval()\n",
    "model"
   ]
  },
  {
   "cell_type": "code",
   "execution_count": 20,
   "metadata": {},
   "outputs": [
    {
     "data": {
      "text/plain": [
       "39.323278"
      ]
     },
     "execution_count": 20,
     "metadata": {},
     "output_type": "execute_result"
    }
   ],
   "source": [
    "num_trainable_params(model)"
   ]
  },
  {
   "cell_type": "code",
   "execution_count": 21,
   "metadata": {},
   "outputs": [
    {
     "name": "stdout",
     "output_type": "stream",
     "text": [
      "the machines can lead in the year system at initial low rates that affected the activity for economic activity , more significantly over years time .\n"
     ]
    }
   ],
   "source": [
    "def generate(prompt, max_seq_len, temperature, model ):\n",
    "\n",
    "    global device\n",
    "    global vocab_itos\n",
    "    global seq_len\n",
    "    global char2ind\n",
    "    \n",
    "    prompt_tokens = prompt.split(' ')\n",
    "    prompt_tokens = [char2ind[token] for token in prompt_tokens]  \n",
    "\n",
    "    with torch.no_grad():\n",
    "        current_token = torch.tensor(prompt_tokens).unsqueeze(0) \n",
    "        current_token = current_token.to(device)\n",
    "        generated_text = prompt  \n",
    "        for i in range(max_seq_len):\n",
    "            output = model(current_token)\n",
    "            probabilities = nn.functional.softmax(output[:, -1, :] / temperature, dim=-1)\n",
    "            next_word = \"<unk>\"\n",
    "            while next_word == \"<unk>\":\n",
    "                next_token_id = torch.multinomial(probabilities, 1).item()\n",
    "                next_word = findWordByToken(next_token_id)\n",
    "            \n",
    "            generated_text += \" \" + next_word\n",
    "\n",
    "            next_token_id = torch.tensor([[next_token_id]]).to(device)\n",
    "            if current_token.shape[1] < seq_len:\n",
    "                current_token = torch.cat( ( current_token  , next_token_id ), dim=1)\n",
    "            else:\n",
    "                current_token = torch.cat( ( current_token[:, 1:]  , next_token_id ), dim=1)\n",
    "            if next_word in [\"<eos>\", \".\"]:\n",
    "                break\n",
    "            del next_token_id\n",
    "    return generated_text\n",
    "\n",
    "prompt = \"the machines can\"\n",
    "generated_text = generate(prompt, \n",
    "                          max_seq_len = 100, \n",
    "                          temperature = 0.5, \n",
    "                          model = model)\n",
    "\n",
    "print(generated_text)"
   ]
  }
 ],
 "metadata": {
  "kernelspec": {
   "display_name": "base",
   "language": "python",
   "name": "python3"
  },
  "language_info": {
   "codemirror_mode": {
    "name": "ipython",
    "version": 3
   },
   "file_extension": ".py",
   "mimetype": "text/x-python",
   "name": "python",
   "nbconvert_exporter": "python",
   "pygments_lexer": "ipython3",
   "version": "3.11.5"
  },
  "orig_nbformat": 4
 },
 "nbformat": 4,
 "nbformat_minor": 2
}
