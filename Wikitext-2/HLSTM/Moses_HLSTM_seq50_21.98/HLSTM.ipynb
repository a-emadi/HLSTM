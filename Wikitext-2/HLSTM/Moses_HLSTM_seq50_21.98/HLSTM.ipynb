{
 "cells": [
  {
   "cell_type": "markdown",
   "metadata": {},
   "source": [
    "# Packages"
   ]
  },
  {
   "cell_type": "code",
   "execution_count": 1,
   "metadata": {},
   "outputs": [],
   "source": [
    "!pip install torchmetrics tqdm --upgrade"
   ]
  },
  {
   "cell_type": "markdown",
   "metadata": {},
   "source": [
    "# Imports"
   ]
  },
  {
   "cell_type": "code",
   "execution_count": 2,
   "metadata": {},
   "outputs": [
    {
     "name": "stdout",
     "output_type": "stream",
     "text": [
      "Setting ds_accelerator to cuda (auto detect)\n"
     ]
    },
    {
     "name": "stderr",
     "output_type": "stream",
     "text": [
      "2023-09-22 18:52:03.333024: I tensorflow/core/platform/cpu_feature_guard.cc:182] This TensorFlow binary is optimized to use available CPU instructions in performance-critical operations.\n",
      "To enable the following instructions: AVX2 FMA, in other operations, rebuild TensorFlow with the appropriate compiler flags.\n",
      "2023-09-22 18:52:03.940263: W tensorflow/compiler/tf2tensorrt/utils/py_utils.cc:38] TF-TRT Warning: Could not find TensorRT\n"
     ]
    }
   ],
   "source": [
    "from torchtext.data.utils import get_tokenizer\n",
    "from torchtext.vocab import build_vocab_from_iterator\n",
    "\n",
    "import numpy as np\n",
    "import pandas as pd\n",
    "import matplotlib.pyplot as plt\n",
    "import seaborn as sns\n",
    "\n",
    "import torch\n",
    "from torch import nn\n",
    "from torch import optim\n",
    "from torch.utils.data import Dataset, DataLoader, random_split\n",
    "\n",
    "from torchmetrics.text import Perplexity\n",
    "\n",
    "import tqdm\n",
    "\n",
    "from collections import Counter"
   ]
  },
  {
   "cell_type": "markdown",
   "metadata": {},
   "source": [
    "# Configuration"
   ]
  },
  {
   "cell_type": "code",
   "execution_count": 3,
   "metadata": {},
   "outputs": [],
   "source": [
    "device = 'cuda' if torch.cuda.is_available() else 'cpu'\n",
    "seq_len = 50\n",
    "batch_size = 25\n",
    "min_freq = 0\n",
    "\n",
    "num_epochs = 300\n",
    "\n",
    "max_lr_dec = 3\n",
    "lr_dec = 0"
   ]
  },
  {
   "cell_type": "markdown",
   "metadata": {},
   "source": [
    "# Utils"
   ]
  },
  {
   "cell_type": "code",
   "execution_count": 4,
   "metadata": {},
   "outputs": [],
   "source": [
    "class AverageMeter(object):\n",
    "    \"\"\"Computes and stores the average and current value\"\"\"\n",
    "    def __init__(self):\n",
    "        self.reset()\n",
    "\n",
    "    def reset(self):\n",
    "        self.val = 0\n",
    "        self.avg = 0\n",
    "        self.sum = 0\n",
    "        self.count = 0\n",
    "\n",
    "    def update(self, val, n=1):\n",
    "        self.val = val\n",
    "        self.sum += val * n\n",
    "        self.count += n\n",
    "        self.avg = self.sum / self.count"
   ]
  },
  {
   "cell_type": "code",
   "execution_count": 5,
   "metadata": {},
   "outputs": [],
   "source": [
    "def num_trainable_params(model):\n",
    "  nums = sum(p.numel() for p in model.parameters() if p.requires_grad)/1e6\n",
    "  return nums"
   ]
  },
  {
   "cell_type": "markdown",
   "metadata": {},
   "source": [
    "# Dataset"
   ]
  },
  {
   "cell_type": "markdown",
   "metadata": {},
   "source": [
    "## Download Dataset"
   ]
  },
  {
   "cell_type": "code",
   "execution_count": 6,
   "metadata": {},
   "outputs": [],
   "source": [
    "!wget --quiet --continue https://s3.amazonaws.com/research.metamind.io/wikitext/wikitext-2-v1.zip\n",
    "!unzip -q wikitext-2-v1.zip\n",
    "!cd wikitext-2 && mv wiki.train.tokens train.txt\n",
    "!cd wikitext-2 && mv wiki.valid.tokens valid.txt\n",
    "!cd wikitext-2 && mv wiki.test.tokens test.txt"
   ]
  },
  {
   "cell_type": "code",
   "execution_count": 7,
   "metadata": {},
   "outputs": [],
   "source": [
    "tokenizer = get_tokenizer(\"moses\")"
   ]
  },
  {
   "cell_type": "code",
   "execution_count": 8,
   "metadata": {},
   "outputs": [],
   "source": [
    "def load_dataset(file_path):\n",
    "    with open(file_path, 'r', encoding='utf-8') as file:\n",
    "        dataset = file.read()\n",
    "    return dataset\n",
    "\n",
    "def tokenize_dataset(dataset):\n",
    "    tokens = []\n",
    "    for line in dataset.split('\\n'):\n",
    "        line_tokens = tokenizer(line.strip())\n",
    "        tokens.extend(line_tokens)\n",
    "    return tokens\n",
    "\n",
    "train_dataset = load_dataset(\"./wikitext-2/train.txt\")\n",
    "valid_dataset = load_dataset(\"./wikitext-2/valid.txt\")\n",
    "test_dataset = load_dataset(\"./wikitext-2/test.txt\")\n",
    "\n",
    "train_tokens = tokenize_dataset(train_dataset)\n",
    "valid_tokens = tokenize_dataset(valid_dataset)\n",
    "test_tokens = tokenize_dataset(test_dataset)"
   ]
  },
  {
   "cell_type": "code",
   "execution_count": 9,
   "metadata": {},
   "outputs": [
    {
     "name": "stdout",
     "output_type": "stream",
     "text": [
      "Train Tokens:  2222445\n",
      "Valid Tokens:  243937\n",
      "Test Tokens:  279249\n",
      "Total number of tokens: 2745631\n"
     ]
    }
   ],
   "source": [
    "\n",
    "train_dataset = load_dataset(\"./wikitext-2/train.txt\")\n",
    "valid_dataset = load_dataset(\"./wikitext-2/valid.txt\")\n",
    "test_dataset = load_dataset(\"./wikitext-2/test.txt\")\n",
    "\n",
    "train_tokens = tokenize_dataset(train_dataset)\n",
    "valid_tokens = tokenize_dataset(valid_dataset)\n",
    "test_tokens = tokenize_dataset(test_dataset)\n",
    "\n",
    "all_tokens = train_tokens + valid_tokens + test_tokens\n",
    "print(\"Train Tokens: \" , len(train_tokens))\n",
    "print(\"Valid Tokens: \" , len(valid_tokens))\n",
    "print(\"Test Tokens: \" , len(test_tokens))\n",
    "print(\"Total number of tokens:\", len(all_tokens))"
   ]
  },
  {
   "cell_type": "code",
   "execution_count": 10,
   "metadata": {},
   "outputs": [
    {
     "name": "stdout",
     "output_type": "stream",
     "text": [
      "Vocabulary size: 33264\n"
     ]
    }
   ],
   "source": [
    "tokenized_datasets = [train_tokens] \n",
    "\n",
    "special_tokens = ['<pad>', '<unk>', '<bos>', '<eos>']\n",
    "\n",
    "vocab = build_vocab_from_iterator(tokenized_datasets, specials=special_tokens , min_freq=min_freq)\n",
    "\n",
    "vocab.set_default_index(vocab['<unk>'])\n",
    "\n",
    "vocab_size = len(vocab)\n",
    "vocab_itos = vocab.get_itos()\n",
    "\n",
    "torch.save(vocab, f\"./train_vocab_moses_{min_freq}.voc\")\n",
    "print(\"Vocabulary size:\", vocab_size)"
   ]
  },
  {
   "cell_type": "markdown",
   "metadata": {},
   "source": [
    "## Custom Dataset"
   ]
  },
  {
   "cell_type": "code",
   "execution_count": 11,
   "metadata": {},
   "outputs": [],
   "source": [
    "class Wikitext2Dataset(Dataset):\n",
    "  def __init__(self, tokens, seq_len):\n",
    "    self.tokens = tokens\n",
    "    self.seq_len = seq_len\n",
    "  def __len__(self):\n",
    "    return  len(self.tokens) // self.seq_len\n",
    "\n",
    "  def __getitem__(self, idx):\n",
    "    start_idx = idx * self.seq_len\n",
    "    end_idx = start_idx + self.seq_len\n",
    "    input = self.tokens[start_idx:end_idx]\n",
    "    target = self.tokens[start_idx+1:end_idx+1]\n",
    "    return torch.tensor(input), torch.tensor(target)"
   ]
  },
  {
   "cell_type": "markdown",
   "metadata": {},
   "source": [
    "## Load Dataset"
   ]
  },
  {
   "cell_type": "code",
   "execution_count": 12,
   "metadata": {},
   "outputs": [],
   "source": [
    "\n",
    "train_tokens_voc = vocab(train_tokens)\n",
    "valid_tokens_voc = vocab(valid_tokens)\n",
    "test_tokens_voc = vocab(test_tokens)\n",
    "\n",
    "# Datasets\n",
    "train_dataset = Wikitext2Dataset(train_tokens_voc, seq_len)\n",
    "valid_dataset = Wikitext2Dataset(valid_tokens_voc, seq_len)\n",
    "test_dataset = Wikitext2Dataset(test_tokens_voc, seq_len)\n",
    "\n",
    "\n",
    "# Dataloaders\n",
    "train_loader = DataLoader(train_dataset , batch_size )\n",
    "valid_loader = DataLoader(valid_dataset , batch_size )\n",
    "test_loader = DataLoader(test_dataset , batch_size )"
   ]
  },
  {
   "cell_type": "markdown",
   "metadata": {},
   "source": [
    "# Model"
   ]
  },
  {
   "cell_type": "code",
   "execution_count": 13,
   "metadata": {},
   "outputs": [],
   "source": [
    "class H_LSTM(nn.Module):\n",
    "\n",
    "  def __init__(self, vocab_size, embedding_dim, hidden_dim, num_layers, dropout_rate):\n",
    "    super().__init__()\n",
    "    self.vocab_size = vocab_size\n",
    "    \n",
    "    #Embedding Layer\n",
    "    self.embedding = nn.Embedding(vocab_size, embedding_dim)\n",
    "    self.dropout_em = nn.Dropout(0.1)\n",
    "    \n",
    "    # Layer 1\n",
    "    self.rnn1 = nn.LSTM(input_size=embedding_dim,\n",
    "                      hidden_size=hidden_dim,\n",
    "                      num_layers=num_layers,\n",
    "                      bidirectional=False,\n",
    "                      batch_first=True)\n",
    "    self.dropout1 = nn.Dropout(dropout_rate)\n",
    "    \n",
    "    # Layer 2\n",
    "    self.rnn2 = nn.LSTM(input_size=hidden_dim,\n",
    "                      hidden_size=hidden_dim,\n",
    "                      num_layers=num_layers,\n",
    "                      bidirectional=False,\n",
    "                      batch_first=True)\n",
    "    self.dropout2 = nn.Dropout(dropout_rate)\n",
    "    \n",
    "    # Layer 3\n",
    "    self.rnn3 = nn.LSTM(input_size=hidden_dim,\n",
    "                      hidden_size=hidden_dim,\n",
    "                      num_layers=1,\n",
    "                      bidirectional=False,\n",
    "                      batch_first=True)\n",
    "    self.dropout3 = nn.Dropout(dropout_rate)\n",
    "    \n",
    "    self.fc = nn.Linear(hidden_dim,vocab_size,bias=True)\n",
    "\n",
    "  def forward(self, src):\n",
    "    embedding = self.dropout_em( self.embedding(src) )\n",
    "    \n",
    "    output, (h,c) = self.rnn1(embedding)\n",
    "    output = self.dropout1(output)\n",
    "    \n",
    "    output, (h,c) = self.rnn2(output,(c,h))\n",
    "    output = self.dropout2(output)\n",
    "    \n",
    "    output, (h,c) = self.rnn3(output,(c,h))\n",
    "    output = self.dropout3(output)\n",
    "    \n",
    "    output = self.fc(output)\n",
    "    return output\n"
   ]
  },
  {
   "cell_type": "markdown",
   "metadata": {},
   "source": [
    "# Train"
   ]
  },
  {
   "cell_type": "markdown",
   "metadata": {},
   "source": [
    "## Learning Functions"
   ]
  },
  {
   "cell_type": "code",
   "execution_count": 14,
   "metadata": {},
   "outputs": [],
   "source": [
    "def train_one_epoch(model, train_loader, loss_fn, optimizer, perp , epoch=1):\n",
    "  \n",
    "  global seq_len\n",
    "  global batch_size\n",
    "  \n",
    "  model.train()\n",
    "  loss_train = AverageMeter()\n",
    "  perplexity_train = AverageMeter()\n",
    "    \n",
    "  with tqdm.tqdm(train_loader, unit='batch') as tepoch:\n",
    "    for inputs, targets in tepoch:\n",
    "\n",
    "      tepoch.set_description(f'Epoch {epoch}')\n",
    "\n",
    "      inputs = inputs.to(device)\n",
    "      targets = targets.to(device)\n",
    "\n",
    "      outputs = model(inputs)\n",
    "\n",
    "      batch_size, seq_len, vocab_size = outputs.size()\n",
    "      outputs = outputs.view(batch_size * seq_len, vocab_size)\n",
    "      targets = targets.view(-1)\n",
    "      \n",
    "      loss = loss_fn(outputs, targets)\n",
    "      \n",
    "      loss.backward()\n",
    "      \n",
    "      perplexity = perp(outputs.view(batch_size, seq_len, vocab_size), targets.view(batch_size, seq_len))\n",
    "      \n",
    "      optimizer.step()\n",
    "      optimizer.zero_grad()\n",
    "\n",
    "      loss_train.update(loss.item(), n=len(targets))\n",
    "      perplexity_train.update(perplexity.item(), n=len(targets))\n",
    "\n",
    "      tepoch.set_postfix(loss=loss_train.avg, perplexity = perplexity_train.avg )\n",
    "      \n",
    "      del inputs\n",
    "      del targets\n",
    "      del outputs\n",
    "\n",
    "  return model, loss_train.avg, perplexity_train.avg "
   ]
  },
  {
   "cell_type": "code",
   "execution_count": 15,
   "metadata": {},
   "outputs": [],
   "source": [
    "def evaluate(model, test_loader, loss_fn , perp ):\n",
    "  \n",
    "  global seq_len\n",
    "  global batch_size\n",
    "  \n",
    "  model.eval()\n",
    "  loss_eval = AverageMeter()\n",
    "  perplexity_eval = AverageMeter()\n",
    "\n",
    "  with torch.inference_mode():\n",
    "    for inputs, targets in test_loader:\n",
    "      inputs = inputs.to(device)\n",
    "      targets = targets.to(device)\n",
    "\n",
    "      outputs = model(inputs)\n",
    "      \n",
    "      batch_size, seq_len, vocab_size = outputs.size()\n",
    "      outputs = outputs.view(batch_size * seq_len, vocab_size)\n",
    "      targets = targets.view(-1)\n",
    "\n",
    "      loss = loss_fn(outputs, targets)\n",
    "      \n",
    "      perplexity = perp(outputs.view(batch_size, seq_len, vocab_size), targets.view(batch_size, seq_len))\n",
    "\n",
    "      loss_eval.update(loss.item(), n=len(targets))\n",
    "      perplexity_eval.update(perplexity.item(), n=len(targets))\n",
    "      \n",
    "      del inputs\n",
    "      del targets\n",
    "      del outputs\n",
    "\n",
    "  return loss_eval.avg,perplexity_eval.avg"
   ]
  },
  {
   "cell_type": "markdown",
   "metadata": {},
   "source": [
    "## Parameters"
   ]
  },
  {
   "cell_type": "code",
   "execution_count": 16,
   "metadata": {},
   "outputs": [
    {
     "name": "stdout",
     "output_type": "stream",
     "text": [
      "Trainable Parameters: 39.309264\n",
      "\n"
     ]
    },
    {
     "data": {
      "text/plain": [
       "H_LSTM(\n",
       "  (embedding): Embedding(33264, 500)\n",
       "  (dropout_em): Dropout(p=0.1, inplace=False)\n",
       "  (rnn1): LSTM(500, 500, batch_first=True)\n",
       "  (dropout1): Dropout(p=0.25, inplace=False)\n",
       "  (rnn2): LSTM(500, 500, batch_first=True)\n",
       "  (dropout2): Dropout(p=0.25, inplace=False)\n",
       "  (rnn3): LSTM(500, 500, batch_first=True)\n",
       "  (dropout3): Dropout(p=0.25, inplace=False)\n",
       "  (fc): Linear(in_features=500, out_features=33264, bias=True)\n",
       ")"
      ]
     },
     "execution_count": 16,
     "metadata": {},
     "output_type": "execute_result"
    }
   ],
   "source": [
    "embedding_dim = 500\n",
    "hidden_dim = 500\n",
    "num_layers = 1\n",
    "dropout_rate = 0.25\n",
    "\n",
    "model = H_LSTM( vocab_size, embedding_dim=embedding_dim, hidden_dim=hidden_dim , num_layers=num_layers, dropout_rate= dropout_rate )\n",
    "loss_train_hist = []\n",
    "loss_valid_hist = []\n",
    "\n",
    "per_train_hist = []\n",
    "per_valid_hist = []\n",
    "\n",
    "lr_train_hist = []\n",
    "\n",
    "best_perplexity_valid = torch.inf\n",
    "epoch_counter = 0\n",
    "print(f\"Trainable Parameters: {num_trainable_params(model)}\\n\")\n",
    "model = model.to(device)\n",
    "model"
   ]
  },
  {
   "cell_type": "markdown",
   "metadata": {},
   "source": [
    "## Learning Loop"
   ]
  },
  {
   "cell_type": "code",
   "execution_count": 17,
   "metadata": {},
   "outputs": [],
   "source": [
    "lr = 0.5\n",
    "wd = 1e-5\n",
    "optimizer = optim.SGD(model.parameters(), lr=lr, weight_decay=wd, momentum=0.9)\n",
    "loss_fn = nn.CrossEntropyLoss()  \n",
    "perp = Perplexity().to(device)"
   ]
  },
  {
   "cell_type": "code",
   "execution_count": 18,
   "metadata": {},
   "outputs": [
    {
     "name": "stderr",
     "output_type": "stream",
     "text": [
      "Epoch 0:   0%|          | 0/1778 [00:00<?, ?batch/s]"
     ]
    },
    {
     "name": "stderr",
     "output_type": "stream",
     "text": [
      "Epoch 0: 100%|██████████| 1778/1778 [01:59<00:00, 14.84batch/s, loss=6.19, perplexity=784]    \n"
     ]
    },
    {
     "name": "stdout",
     "output_type": "stream",
     "text": [
      "Valid: Loss = 5.253 Perplexity= 200.9, LR = 0.5\n",
      "Model Saved!\n",
      "\n"
     ]
    },
    {
     "name": "stderr",
     "output_type": "stream",
     "text": [
      "Epoch 1: 100%|██████████| 1778/1778 [01:59<00:00, 14.85batch/s, loss=5.58, perplexity=274]\n"
     ]
    },
    {
     "name": "stdout",
     "output_type": "stream",
     "text": [
      "Valid: Loss = 5.002 Perplexity= 155.7, LR = 0.5\n",
      "Model Saved!\n",
      "\n"
     ]
    },
    {
     "name": "stderr",
     "output_type": "stream",
     "text": [
      "Epoch 2: 100%|██████████| 1778/1778 [02:00<00:00, 14.75batch/s, loss=5.34, perplexity=216]\n"
     ]
    },
    {
     "name": "stdout",
     "output_type": "stream",
     "text": [
      "Valid: Loss = 4.863 Perplexity= 135.3, LR = 0.5\n",
      "Model Saved!\n",
      "\n"
     ]
    },
    {
     "name": "stderr",
     "output_type": "stream",
     "text": [
      "Epoch 3: 100%|██████████| 1778/1778 [01:59<00:00, 14.93batch/s, loss=5.17, perplexity=182]\n"
     ]
    },
    {
     "name": "stdout",
     "output_type": "stream",
     "text": [
      "Valid: Loss = 4.755 Perplexity= 121.4, LR = 0.5\n",
      "Model Saved!\n",
      "\n"
     ]
    },
    {
     "name": "stderr",
     "output_type": "stream",
     "text": [
      "Epoch 4: 100%|██████████| 1778/1778 [01:59<00:00, 14.84batch/s, loss=5.02, perplexity=157]\n"
     ]
    },
    {
     "name": "stdout",
     "output_type": "stream",
     "text": [
      "Valid: Loss = 4.663 Perplexity= 110.7, LR = 0.5\n",
      "Model Saved!\n",
      "\n"
     ]
    },
    {
     "name": "stderr",
     "output_type": "stream",
     "text": [
      "Epoch 5: 100%|██████████| 1778/1778 [02:00<00:00, 14.73batch/s, loss=4.9, perplexity=140] \n"
     ]
    },
    {
     "name": "stdout",
     "output_type": "stream",
     "text": [
      "Valid: Loss = 4.607 Perplexity= 104.6, LR = 0.5\n",
      "Model Saved!\n",
      "\n"
     ]
    },
    {
     "name": "stderr",
     "output_type": "stream",
     "text": [
      "Epoch 6: 100%|██████████| 1778/1778 [01:59<00:00, 14.83batch/s, loss=4.8, perplexity=127] \n"
     ]
    },
    {
     "name": "stdout",
     "output_type": "stream",
     "text": [
      "Valid: Loss = 4.566 Perplexity= 100.5, LR = 0.5\n",
      "Model Saved!\n",
      "\n"
     ]
    },
    {
     "name": "stderr",
     "output_type": "stream",
     "text": [
      "Epoch 7: 100%|██████████| 1778/1778 [01:58<00:00, 14.97batch/s, loss=4.71, perplexity=116]\n"
     ]
    },
    {
     "name": "stdout",
     "output_type": "stream",
     "text": [
      "Valid: Loss = 4.53 Perplexity= 97.02, LR = 0.5\n",
      "Model Saved!\n",
      "\n"
     ]
    },
    {
     "name": "stderr",
     "output_type": "stream",
     "text": [
      "Epoch 8: 100%|██████████| 1778/1778 [02:00<00:00, 14.76batch/s, loss=4.63, perplexity=107]\n"
     ]
    },
    {
     "name": "stdout",
     "output_type": "stream",
     "text": [
      "Valid: Loss = 4.494 Perplexity= 93.63, LR = 0.5\n",
      "Model Saved!\n",
      "\n"
     ]
    },
    {
     "name": "stderr",
     "output_type": "stream",
     "text": [
      "Epoch 9: 100%|██████████| 1778/1778 [02:00<00:00, 14.75batch/s, loss=4.56, perplexity=99.9]\n"
     ]
    },
    {
     "name": "stdout",
     "output_type": "stream",
     "text": [
      "Valid: Loss = 4.452 Perplexity= 89.95, LR = 0.5\n",
      "Model Saved!\n",
      "\n"
     ]
    },
    {
     "name": "stderr",
     "output_type": "stream",
     "text": [
      "Epoch 10: 100%|██████████| 1778/1778 [02:00<00:00, 14.77batch/s, loss=4.5, perplexity=93.8] \n"
     ]
    },
    {
     "name": "stdout",
     "output_type": "stream",
     "text": [
      "Valid: Loss = 4.438 Perplexity= 88.68, LR = 0.5\n",
      "Model Saved!\n",
      "\n"
     ]
    },
    {
     "name": "stderr",
     "output_type": "stream",
     "text": [
      "Epoch 11: 100%|██████████| 1778/1778 [01:59<00:00, 14.89batch/s, loss=4.43, perplexity=87.7]\n"
     ]
    },
    {
     "name": "stdout",
     "output_type": "stream",
     "text": [
      "Valid: Loss = 4.4 Perplexity= 85.49, LR = 0.5\n",
      "Model Saved!\n",
      "\n"
     ]
    },
    {
     "name": "stderr",
     "output_type": "stream",
     "text": [
      "Epoch 12: 100%|██████████| 1778/1778 [02:00<00:00, 14.78batch/s, loss=4.37, perplexity=82.2]\n"
     ]
    },
    {
     "name": "stdout",
     "output_type": "stream",
     "text": [
      "Valid: Loss = 4.362 Perplexity= 82.34, LR = 0.5\n",
      "Model Saved!\n",
      "\n"
     ]
    },
    {
     "name": "stderr",
     "output_type": "stream",
     "text": [
      "Epoch 13: 100%|██████████| 1778/1778 [02:00<00:00, 14.81batch/s, loss=4.31, perplexity=77.7]\n"
     ]
    },
    {
     "name": "stdout",
     "output_type": "stream",
     "text": [
      "Valid: Loss = 4.317 Perplexity= 78.65, LR = 0.5\n",
      "Model Saved!\n",
      "\n"
     ]
    },
    {
     "name": "stderr",
     "output_type": "stream",
     "text": [
      "Epoch 14: 100%|██████████| 1778/1778 [02:00<00:00, 14.71batch/s, loss=4.25, perplexity=73.4]\n"
     ]
    },
    {
     "name": "stdout",
     "output_type": "stream",
     "text": [
      "Valid: Loss = 4.291 Perplexity= 76.67, LR = 0.5\n",
      "Model Saved!\n",
      "\n"
     ]
    },
    {
     "name": "stderr",
     "output_type": "stream",
     "text": [
      "Epoch 15: 100%|██████████| 1778/1778 [01:59<00:00, 14.83batch/s, loss=4.2, perplexity=69.9] \n"
     ]
    },
    {
     "name": "stdout",
     "output_type": "stream",
     "text": [
      "Valid: Loss = 4.279 Perplexity= 75.82, LR = 0.5\n",
      "Model Saved!\n",
      "\n"
     ]
    },
    {
     "name": "stderr",
     "output_type": "stream",
     "text": [
      "Epoch 16: 100%|██████████| 1778/1778 [01:59<00:00, 14.90batch/s, loss=4.15, perplexity=65.9]\n"
     ]
    },
    {
     "name": "stdout",
     "output_type": "stream",
     "text": [
      "Valid: Loss = 4.243 Perplexity= 73.11, LR = 0.5\n",
      "Model Saved!\n",
      "\n"
     ]
    },
    {
     "name": "stderr",
     "output_type": "stream",
     "text": [
      "Epoch 17: 100%|██████████| 1778/1778 [01:58<00:00, 14.98batch/s, loss=4.1, perplexity=62.8] \n"
     ]
    },
    {
     "name": "stdout",
     "output_type": "stream",
     "text": [
      "Valid: Loss = 4.205 Perplexity= 70.36, LR = 0.5\n",
      "Model Saved!\n",
      "\n"
     ]
    },
    {
     "name": "stderr",
     "output_type": "stream",
     "text": [
      "Epoch 18: 100%|██████████| 1778/1778 [01:49<00:00, 16.20batch/s, loss=4.05, perplexity=59.9]\n"
     ]
    },
    {
     "name": "stdout",
     "output_type": "stream",
     "text": [
      "Valid: Loss = 4.157 Perplexity= 67.07, LR = 0.5\n",
      "Model Saved!\n",
      "\n"
     ]
    },
    {
     "name": "stderr",
     "output_type": "stream",
     "text": [
      "Epoch 19: 100%|██████████| 1778/1778 [01:49<00:00, 16.24batch/s, loss=3.99, perplexity=56.6]\n"
     ]
    },
    {
     "name": "stdout",
     "output_type": "stream",
     "text": [
      "Valid: Loss = 4.144 Perplexity= 66.11, LR = 0.5\n",
      "Model Saved!\n",
      "\n"
     ]
    },
    {
     "name": "stderr",
     "output_type": "stream",
     "text": [
      "Epoch 20: 100%|██████████| 1778/1778 [01:49<00:00, 16.22batch/s, loss=3.95, perplexity=54.2]\n"
     ]
    },
    {
     "name": "stdout",
     "output_type": "stream",
     "text": [
      "Valid: Loss = 4.106 Perplexity= 63.73, LR = 0.5\n",
      "Model Saved!\n",
      "\n"
     ]
    },
    {
     "name": "stderr",
     "output_type": "stream",
     "text": [
      "Epoch 21: 100%|██████████| 1778/1778 [01:49<00:00, 16.24batch/s, loss=3.91, perplexity=51.9]\n"
     ]
    },
    {
     "name": "stdout",
     "output_type": "stream",
     "text": [
      "Valid: Loss = 4.085 Perplexity= 62.26, LR = 0.5\n",
      "Model Saved!\n",
      "\n"
     ]
    },
    {
     "name": "stderr",
     "output_type": "stream",
     "text": [
      "Epoch 22: 100%|██████████| 1778/1778 [01:49<00:00, 16.21batch/s, loss=3.87, perplexity=49.8]\n"
     ]
    },
    {
     "name": "stdout",
     "output_type": "stream",
     "text": [
      "Valid: Loss = 4.063 Perplexity= 60.87, LR = 0.5\n",
      "Model Saved!\n",
      "\n"
     ]
    },
    {
     "name": "stderr",
     "output_type": "stream",
     "text": [
      "Epoch 23: 100%|██████████| 1778/1778 [01:49<00:00, 16.23batch/s, loss=3.83, perplexity=47.8]\n"
     ]
    },
    {
     "name": "stdout",
     "output_type": "stream",
     "text": [
      "Valid: Loss = 4.042 Perplexity= 59.69, LR = 0.5\n",
      "Model Saved!\n",
      "\n"
     ]
    },
    {
     "name": "stderr",
     "output_type": "stream",
     "text": [
      "Epoch 24: 100%|██████████| 1778/1778 [01:49<00:00, 16.21batch/s, loss=3.79, perplexity=46.2]\n"
     ]
    },
    {
     "name": "stdout",
     "output_type": "stream",
     "text": [
      "Valid: Loss = 4.05 Perplexity= 60.11, LR = 0.5\n",
      "\n"
     ]
    },
    {
     "name": "stderr",
     "output_type": "stream",
     "text": [
      "Epoch 25: 100%|██████████| 1778/1778 [01:49<00:00, 16.20batch/s, loss=3.65, perplexity=40]  \n"
     ]
    },
    {
     "name": "stdout",
     "output_type": "stream",
     "text": [
      "Valid: Loss = 3.93 Perplexity= 53.43, LR = 0.25\n",
      "Model Saved!\n",
      "\n"
     ]
    },
    {
     "name": "stderr",
     "output_type": "stream",
     "text": [
      "Epoch 26: 100%|██████████| 1778/1778 [01:49<00:00, 16.19batch/s, loss=3.57, perplexity=36.9]\n"
     ]
    },
    {
     "name": "stdout",
     "output_type": "stream",
     "text": [
      "Valid: Loss = 3.885 Perplexity= 51.06, LR = 0.25\n",
      "Model Saved!\n",
      "\n"
     ]
    },
    {
     "name": "stderr",
     "output_type": "stream",
     "text": [
      "Epoch 27: 100%|██████████| 1778/1778 [01:49<00:00, 16.19batch/s, loss=3.52, perplexity=35.1]\n"
     ]
    },
    {
     "name": "stdout",
     "output_type": "stream",
     "text": [
      "Valid: Loss = 3.841 Perplexity= 48.83, LR = 0.25\n",
      "Model Saved!\n",
      "\n"
     ]
    },
    {
     "name": "stderr",
     "output_type": "stream",
     "text": [
      "Epoch 28: 100%|██████████| 1778/1778 [01:49<00:00, 16.20batch/s, loss=3.48, perplexity=33.8]\n"
     ]
    },
    {
     "name": "stdout",
     "output_type": "stream",
     "text": [
      "Valid: Loss = 3.827 Perplexity= 48.2, LR = 0.25\n",
      "Model Saved!\n",
      "\n"
     ]
    },
    {
     "name": "stderr",
     "output_type": "stream",
     "text": [
      "Epoch 29: 100%|██████████| 1778/1778 [01:49<00:00, 16.18batch/s, loss=3.45, perplexity=32.7]\n"
     ]
    },
    {
     "name": "stdout",
     "output_type": "stream",
     "text": [
      "Valid: Loss = 3.8 Perplexity= 46.92, LR = 0.25\n",
      "Model Saved!\n",
      "\n"
     ]
    },
    {
     "name": "stderr",
     "output_type": "stream",
     "text": [
      "Epoch 30: 100%|██████████| 1778/1778 [01:49<00:00, 16.17batch/s, loss=3.41, perplexity=31.6]\n"
     ]
    },
    {
     "name": "stdout",
     "output_type": "stream",
     "text": [
      "Valid: Loss = 3.814 Perplexity= 47.68, LR = 0.25\n",
      "\n"
     ]
    },
    {
     "name": "stderr",
     "output_type": "stream",
     "text": [
      "Epoch 31: 100%|██████████| 1778/1778 [01:49<00:00, 16.21batch/s, loss=3.33, perplexity=29]  \n"
     ]
    },
    {
     "name": "stdout",
     "output_type": "stream",
     "text": [
      "Valid: Loss = 3.687 Perplexity= 41.84, LR = 0.125\n",
      "Model Saved!\n",
      "\n"
     ]
    },
    {
     "name": "stderr",
     "output_type": "stream",
     "text": [
      "Epoch 32: 100%|██████████| 1778/1778 [01:49<00:00, 16.21batch/s, loss=3.27, perplexity=27.4]\n"
     ]
    },
    {
     "name": "stdout",
     "output_type": "stream",
     "text": [
      "Valid: Loss = 3.669 Perplexity= 41.12, LR = 0.125\n",
      "Model Saved!\n",
      "\n"
     ]
    },
    {
     "name": "stderr",
     "output_type": "stream",
     "text": [
      "Epoch 33: 100%|██████████| 1778/1778 [01:49<00:00, 16.21batch/s, loss=3.24, perplexity=26.6]\n"
     ]
    },
    {
     "name": "stdout",
     "output_type": "stream",
     "text": [
      "Valid: Loss = 3.644 Perplexity= 40.07, LR = 0.125\n",
      "Model Saved!\n",
      "\n"
     ]
    },
    {
     "name": "stderr",
     "output_type": "stream",
     "text": [
      "Epoch 34: 100%|██████████| 1778/1778 [01:49<00:00, 16.21batch/s, loss=3.21, perplexity=25.8]\n"
     ]
    },
    {
     "name": "stdout",
     "output_type": "stream",
     "text": [
      "Valid: Loss = 3.633 Perplexity= 39.61, LR = 0.125\n",
      "Model Saved!\n",
      "\n"
     ]
    },
    {
     "name": "stderr",
     "output_type": "stream",
     "text": [
      "Epoch 35: 100%|██████████| 1778/1778 [01:49<00:00, 16.22batch/s, loss=3.19, perplexity=25.3]\n"
     ]
    },
    {
     "name": "stdout",
     "output_type": "stream",
     "text": [
      "Valid: Loss = 3.619 Perplexity= 39.09, LR = 0.125\n",
      "Model Saved!\n",
      "\n"
     ]
    },
    {
     "name": "stderr",
     "output_type": "stream",
     "text": [
      "Epoch 36: 100%|██████████| 1778/1778 [01:49<00:00, 16.21batch/s, loss=3.17, perplexity=24.7]\n"
     ]
    },
    {
     "name": "stdout",
     "output_type": "stream",
     "text": [
      "Valid: Loss = 3.611 Perplexity= 38.77, LR = 0.125\n",
      "Model Saved!\n",
      "\n"
     ]
    },
    {
     "name": "stderr",
     "output_type": "stream",
     "text": [
      "Epoch 37: 100%|██████████| 1778/1778 [01:49<00:00, 16.21batch/s, loss=3.15, perplexity=24.2]\n"
     ]
    },
    {
     "name": "stdout",
     "output_type": "stream",
     "text": [
      "Valid: Loss = 3.57 Perplexity= 37.18, LR = 0.125\n",
      "Model Saved!\n",
      "\n"
     ]
    },
    {
     "name": "stderr",
     "output_type": "stream",
     "text": [
      "Epoch 38: 100%|██████████| 1778/1778 [01:49<00:00, 16.22batch/s, loss=3.13, perplexity=23.7]\n"
     ]
    },
    {
     "name": "stdout",
     "output_type": "stream",
     "text": [
      "Valid: Loss = 3.585 Perplexity= 37.78, LR = 0.125\n",
      "\n"
     ]
    },
    {
     "name": "stderr",
     "output_type": "stream",
     "text": [
      "Epoch 39: 100%|██████████| 1778/1778 [01:49<00:00, 16.21batch/s, loss=3.07, perplexity=22.4]\n"
     ]
    },
    {
     "name": "stdout",
     "output_type": "stream",
     "text": [
      "Valid: Loss = 3.52 Perplexity= 35.33, LR = 0.0625\n",
      "Model Saved!\n",
      "\n"
     ]
    },
    {
     "name": "stderr",
     "output_type": "stream",
     "text": [
      "Epoch 40: 100%|██████████| 1778/1778 [01:49<00:00, 16.21batch/s, loss=3.04, perplexity=21.6]\n"
     ]
    },
    {
     "name": "stdout",
     "output_type": "stream",
     "text": [
      "Valid: Loss = 3.509 Perplexity= 34.95, LR = 0.0625\n",
      "Model Saved!\n",
      "\n"
     ]
    },
    {
     "name": "stderr",
     "output_type": "stream",
     "text": [
      "Epoch 41: 100%|██████████| 1778/1778 [01:49<00:00, 16.21batch/s, loss=3.01, perplexity=21.1]\n"
     ]
    },
    {
     "name": "stdout",
     "output_type": "stream",
     "text": [
      "Valid: Loss = 3.501 Perplexity= 34.71, LR = 0.0625\n",
      "Model Saved!\n",
      "\n"
     ]
    },
    {
     "name": "stderr",
     "output_type": "stream",
     "text": [
      "Epoch 42: 100%|██████████| 1778/1778 [01:49<00:00, 16.21batch/s, loss=3, perplexity=20.7]   \n"
     ]
    },
    {
     "name": "stdout",
     "output_type": "stream",
     "text": [
      "Valid: Loss = 3.481 Perplexity= 33.98, LR = 0.0625\n",
      "Model Saved!\n",
      "\n"
     ]
    },
    {
     "name": "stderr",
     "output_type": "stream",
     "text": [
      "Epoch 43: 100%|██████████| 1778/1778 [01:49<00:00, 16.20batch/s, loss=2.98, perplexity=20.4]\n"
     ]
    },
    {
     "name": "stdout",
     "output_type": "stream",
     "text": [
      "Valid: Loss = 3.465 Perplexity= 33.46, LR = 0.0625\n",
      "Model Saved!\n",
      "\n"
     ]
    },
    {
     "name": "stderr",
     "output_type": "stream",
     "text": [
      "Epoch 44: 100%|██████████| 1778/1778 [01:49<00:00, 16.21batch/s, loss=2.97, perplexity=20.1]\n"
     ]
    },
    {
     "name": "stdout",
     "output_type": "stream",
     "text": [
      "Valid: Loss = 3.452 Perplexity= 33.0, LR = 0.0625\n",
      "Model Saved!\n",
      "\n"
     ]
    },
    {
     "name": "stderr",
     "output_type": "stream",
     "text": [
      "Epoch 45: 100%|██████████| 1778/1778 [01:56<00:00, 15.27batch/s, loss=2.95, perplexity=19.8]\n"
     ]
    },
    {
     "name": "stdout",
     "output_type": "stream",
     "text": [
      "Valid: Loss = 3.453 Perplexity= 33.03, LR = 0.0625\n",
      "\n"
     ]
    },
    {
     "name": "stderr",
     "output_type": "stream",
     "text": [
      "Epoch 46: 100%|██████████| 1778/1778 [01:59<00:00, 14.92batch/s, loss=2.93, perplexity=19.3]\n"
     ]
    },
    {
     "name": "stdout",
     "output_type": "stream",
     "text": [
      "Valid: Loss = 3.4 Perplexity= 31.31, LR = 0.03125\n",
      "Model Saved!\n",
      "\n"
     ]
    },
    {
     "name": "stderr",
     "output_type": "stream",
     "text": [
      "Epoch 47: 100%|██████████| 1778/1778 [02:00<00:00, 14.80batch/s, loss=2.91, perplexity=18.9]\n"
     ]
    },
    {
     "name": "stdout",
     "output_type": "stream",
     "text": [
      "Valid: Loss = 3.376 Perplexity= 30.57, LR = 0.03125\n",
      "Model Saved!\n",
      "\n"
     ]
    },
    {
     "name": "stderr",
     "output_type": "stream",
     "text": [
      "Epoch 48: 100%|██████████| 1778/1778 [01:56<00:00, 15.21batch/s, loss=2.89, perplexity=18.7]\n"
     ]
    },
    {
     "name": "stdout",
     "output_type": "stream",
     "text": [
      "Valid: Loss = 3.374 Perplexity= 30.52, LR = 0.03125\n",
      "Model Saved!\n",
      "\n"
     ]
    },
    {
     "name": "stderr",
     "output_type": "stream",
     "text": [
      "Epoch 49: 100%|██████████| 1778/1778 [01:56<00:00, 15.32batch/s, loss=2.88, perplexity=18.5]\n"
     ]
    },
    {
     "name": "stdout",
     "output_type": "stream",
     "text": [
      "Valid: Loss = 3.353 Perplexity= 29.87, LR = 0.03125\n",
      "Model Saved!\n",
      "\n"
     ]
    },
    {
     "name": "stderr",
     "output_type": "stream",
     "text": [
      "Epoch 50: 100%|██████████| 1778/1778 [01:54<00:00, 15.50batch/s, loss=2.87, perplexity=18.2]\n"
     ]
    },
    {
     "name": "stdout",
     "output_type": "stream",
     "text": [
      "Valid: Loss = 3.354 Perplexity= 29.89, LR = 0.03125\n",
      "\n"
     ]
    },
    {
     "name": "stderr",
     "output_type": "stream",
     "text": [
      "Epoch 51: 100%|██████████| 1778/1778 [03:45<00:00,  7.88batch/s, loss=2.87, perplexity=18.2]\n"
     ]
    },
    {
     "name": "stdout",
     "output_type": "stream",
     "text": [
      "Valid: Loss = 3.311 Perplexity= 28.63, LR = 0.015625\n",
      "Model Saved!\n",
      "\n"
     ]
    },
    {
     "name": "stderr",
     "output_type": "stream",
     "text": [
      "Epoch 52: 100%|██████████| 1778/1778 [03:51<00:00,  7.67batch/s, loss=2.86, perplexity=18]  \n"
     ]
    },
    {
     "name": "stdout",
     "output_type": "stream",
     "text": [
      "Valid: Loss = 3.301 Perplexity= 28.35, LR = 0.015625\n",
      "Model Saved!\n",
      "\n"
     ]
    },
    {
     "name": "stderr",
     "output_type": "stream",
     "text": [
      "Epoch 53: 100%|██████████| 1778/1778 [03:51<00:00,  7.68batch/s, loss=2.85, perplexity=17.8]\n"
     ]
    },
    {
     "name": "stdout",
     "output_type": "stream",
     "text": [
      "Valid: Loss = 3.291 Perplexity= 28.06, LR = 0.015625\n",
      "Model Saved!\n",
      "\n"
     ]
    },
    {
     "name": "stderr",
     "output_type": "stream",
     "text": [
      "Epoch 54: 100%|██████████| 1778/1778 [03:49<00:00,  7.74batch/s, loss=2.84, perplexity=17.6]\n"
     ]
    },
    {
     "name": "stdout",
     "output_type": "stream",
     "text": [
      "Valid: Loss = 3.287 Perplexity= 27.93, LR = 0.015625\n",
      "Model Saved!\n",
      "\n"
     ]
    },
    {
     "name": "stderr",
     "output_type": "stream",
     "text": [
      "Epoch 55: 100%|██████████| 1778/1778 [03:52<00:00,  7.65batch/s, loss=2.83, perplexity=17.5]\n"
     ]
    },
    {
     "name": "stdout",
     "output_type": "stream",
     "text": [
      "Valid: Loss = 3.275 Perplexity= 27.6, LR = 0.015625\n",
      "Model Saved!\n",
      "\n"
     ]
    },
    {
     "name": "stderr",
     "output_type": "stream",
     "text": [
      "Epoch 56: 100%|██████████| 1778/1778 [03:54<00:00,  7.60batch/s, loss=2.82, perplexity=17.3]\n"
     ]
    },
    {
     "name": "stdout",
     "output_type": "stream",
     "text": [
      "Valid: Loss = 3.277 Perplexity= 27.65, LR = 0.015625\n",
      "\n"
     ]
    },
    {
     "name": "stderr",
     "output_type": "stream",
     "text": [
      "Epoch 57: 100%|██████████| 1778/1778 [03:48<00:00,  7.77batch/s, loss=2.82, perplexity=17.4]\n"
     ]
    },
    {
     "name": "stdout",
     "output_type": "stream",
     "text": [
      "Valid: Loss = 3.244 Perplexity= 26.71, LR = 0.0078125\n",
      "Model Saved!\n",
      "\n"
     ]
    },
    {
     "name": "stderr",
     "output_type": "stream",
     "text": [
      "Epoch 58: 100%|██████████| 1778/1778 [03:53<00:00,  7.60batch/s, loss=2.81, perplexity=17.2]\n"
     ]
    },
    {
     "name": "stdout",
     "output_type": "stream",
     "text": [
      "Valid: Loss = 3.238 Perplexity= 26.57, LR = 0.0078125\n",
      "Model Saved!\n",
      "\n"
     ]
    },
    {
     "name": "stderr",
     "output_type": "stream",
     "text": [
      "Epoch 59: 100%|██████████| 1778/1778 [03:54<00:00,  7.58batch/s, loss=2.81, perplexity=17.2]\n"
     ]
    },
    {
     "name": "stdout",
     "output_type": "stream",
     "text": [
      "Valid: Loss = 3.233 Perplexity= 26.43, LR = 0.0078125\n",
      "Model Saved!\n",
      "\n"
     ]
    },
    {
     "name": "stderr",
     "output_type": "stream",
     "text": [
      "Epoch 60: 100%|██████████| 1778/1778 [03:50<00:00,  7.72batch/s, loss=2.8, perplexity=17.1] \n"
     ]
    },
    {
     "name": "stdout",
     "output_type": "stream",
     "text": [
      "Valid: Loss = 3.224 Perplexity= 26.18, LR = 0.0078125\n",
      "Model Saved!\n",
      "\n"
     ]
    },
    {
     "name": "stderr",
     "output_type": "stream",
     "text": [
      "Epoch 61: 100%|██████████| 1778/1778 [03:53<00:00,  7.61batch/s, loss=2.8, perplexity=17]   \n"
     ]
    },
    {
     "name": "stdout",
     "output_type": "stream",
     "text": [
      "Valid: Loss = 3.221 Perplexity= 26.11, LR = 0.0078125\n",
      "Model Saved!\n",
      "\n"
     ]
    },
    {
     "name": "stderr",
     "output_type": "stream",
     "text": [
      "Epoch 62: 100%|██████████| 1778/1778 [03:53<00:00,  7.60batch/s, loss=2.79, perplexity=16.9]\n"
     ]
    },
    {
     "name": "stdout",
     "output_type": "stream",
     "text": [
      "Valid: Loss = 3.215 Perplexity= 25.96, LR = 0.0078125\n",
      "Model Saved!\n",
      "\n"
     ]
    },
    {
     "name": "stderr",
     "output_type": "stream",
     "text": [
      "Epoch 63: 100%|██████████| 1778/1778 [03:52<00:00,  7.65batch/s, loss=2.79, perplexity=16.8]\n"
     ]
    },
    {
     "name": "stdout",
     "output_type": "stream",
     "text": [
      "Valid: Loss = 3.212 Perplexity= 25.88, LR = 0.0078125\n",
      "Model Saved!\n",
      "\n"
     ]
    },
    {
     "name": "stderr",
     "output_type": "stream",
     "text": [
      "Epoch 64: 100%|██████████| 1778/1778 [03:48<00:00,  7.78batch/s, loss=2.79, perplexity=16.8]\n"
     ]
    },
    {
     "name": "stdout",
     "output_type": "stream",
     "text": [
      "Valid: Loss = 3.202 Perplexity= 25.61, LR = 0.0078125\n",
      "Model Saved!\n",
      "\n"
     ]
    },
    {
     "name": "stderr",
     "output_type": "stream",
     "text": [
      "Epoch 65: 100%|██████████| 1778/1778 [03:42<00:00,  7.98batch/s, loss=2.78, perplexity=16.7]\n"
     ]
    },
    {
     "name": "stdout",
     "output_type": "stream",
     "text": [
      "Valid: Loss = 3.201 Perplexity= 25.59, LR = 0.0078125\n",
      "Model Saved!\n",
      "\n"
     ]
    },
    {
     "name": "stderr",
     "output_type": "stream",
     "text": [
      "Epoch 66: 100%|██████████| 1778/1778 [03:51<00:00,  7.68batch/s, loss=2.77, perplexity=16.6]\n"
     ]
    },
    {
     "name": "stdout",
     "output_type": "stream",
     "text": [
      "Valid: Loss = 3.195 Perplexity= 25.42, LR = 0.0078125\n",
      "Model Saved!\n",
      "\n"
     ]
    },
    {
     "name": "stderr",
     "output_type": "stream",
     "text": [
      "Epoch 67: 100%|██████████| 1778/1778 [03:53<00:00,  7.61batch/s, loss=2.77, perplexity=16.5]\n"
     ]
    },
    {
     "name": "stdout",
     "output_type": "stream",
     "text": [
      "Valid: Loss = 3.191 Perplexity= 25.32, LR = 0.0078125\n",
      "Model Saved!\n",
      "\n"
     ]
    },
    {
     "name": "stderr",
     "output_type": "stream",
     "text": [
      "Epoch 68: 100%|██████████| 1778/1778 [03:53<00:00,  7.61batch/s, loss=2.77, perplexity=16.4]\n"
     ]
    },
    {
     "name": "stdout",
     "output_type": "stream",
     "text": [
      "Valid: Loss = 3.188 Perplexity= 25.25, LR = 0.0078125\n",
      "Model Saved!\n",
      "\n"
     ]
    },
    {
     "name": "stderr",
     "output_type": "stream",
     "text": [
      "Epoch 69: 100%|██████████| 1778/1778 [03:34<00:00,  8.30batch/s, loss=2.76, perplexity=16.3]\n"
     ]
    },
    {
     "name": "stdout",
     "output_type": "stream",
     "text": [
      "Valid: Loss = 3.184 Perplexity= 25.14, LR = 0.0078125\n",
      "Model Saved!\n",
      "\n"
     ]
    },
    {
     "name": "stderr",
     "output_type": "stream",
     "text": [
      "Epoch 70: 100%|██████████| 1778/1778 [01:58<00:00, 14.97batch/s, loss=2.76, perplexity=16.3]\n"
     ]
    },
    {
     "name": "stdout",
     "output_type": "stream",
     "text": [
      "Valid: Loss = 3.177 Perplexity= 24.97, LR = 0.0078125\n",
      "Model Saved!\n",
      "\n"
     ]
    },
    {
     "name": "stderr",
     "output_type": "stream",
     "text": [
      "Epoch 71: 100%|██████████| 1778/1778 [02:00<00:00, 14.75batch/s, loss=2.75, perplexity=16.2]\n"
     ]
    },
    {
     "name": "stdout",
     "output_type": "stream",
     "text": [
      "Valid: Loss = 3.177 Perplexity= 24.97, LR = 0.0078125\n",
      "Model Saved!\n",
      "\n"
     ]
    },
    {
     "name": "stderr",
     "output_type": "stream",
     "text": [
      "Epoch 72: 100%|██████████| 1778/1778 [01:59<00:00, 14.83batch/s, loss=2.75, perplexity=16.1]\n"
     ]
    },
    {
     "name": "stdout",
     "output_type": "stream",
     "text": [
      "Valid: Loss = 3.174 Perplexity= 24.9, LR = 0.0078125\n",
      "Model Saved!\n",
      "\n"
     ]
    },
    {
     "name": "stderr",
     "output_type": "stream",
     "text": [
      "Epoch 73: 100%|██████████| 1778/1778 [01:58<00:00, 14.95batch/s, loss=2.74, perplexity=16]  \n"
     ]
    },
    {
     "name": "stdout",
     "output_type": "stream",
     "text": [
      "Valid: Loss = 3.165 Perplexity= 24.67, LR = 0.0078125\n",
      "Model Saved!\n",
      "\n"
     ]
    },
    {
     "name": "stderr",
     "output_type": "stream",
     "text": [
      "Epoch 74: 100%|██████████| 1778/1778 [01:58<00:00, 14.97batch/s, loss=2.74, perplexity=16]  \n"
     ]
    },
    {
     "name": "stdout",
     "output_type": "stream",
     "text": [
      "Valid: Loss = 3.163 Perplexity= 24.62, LR = 0.0078125\n",
      "Model Saved!\n",
      "\n"
     ]
    },
    {
     "name": "stderr",
     "output_type": "stream",
     "text": [
      "Epoch 75: 100%|██████████| 1778/1778 [01:59<00:00, 14.87batch/s, loss=2.73, perplexity=15.9]\n"
     ]
    },
    {
     "name": "stdout",
     "output_type": "stream",
     "text": [
      "Valid: Loss = 3.16 Perplexity= 24.55, LR = 0.0078125\n",
      "Model Saved!\n",
      "\n"
     ]
    },
    {
     "name": "stderr",
     "output_type": "stream",
     "text": [
      "Epoch 76: 100%|██████████| 1778/1778 [02:00<00:00, 14.80batch/s, loss=2.73, perplexity=15.8]\n"
     ]
    },
    {
     "name": "stdout",
     "output_type": "stream",
     "text": [
      "Valid: Loss = 3.154 Perplexity= 24.42, LR = 0.0078125\n",
      "Model Saved!\n",
      "\n"
     ]
    },
    {
     "name": "stderr",
     "output_type": "stream",
     "text": [
      "Epoch 77: 100%|██████████| 1778/1778 [02:00<00:00, 14.76batch/s, loss=2.73, perplexity=15.8]\n"
     ]
    },
    {
     "name": "stdout",
     "output_type": "stream",
     "text": [
      "Valid: Loss = 3.157 Perplexity= 24.47, LR = 0.0078125\n",
      "\n"
     ]
    },
    {
     "name": "stderr",
     "output_type": "stream",
     "text": [
      "Epoch 78: 100%|██████████| 1778/1778 [01:58<00:00, 14.96batch/s, loss=2.72, perplexity=15.8]\n"
     ]
    },
    {
     "name": "stdout",
     "output_type": "stream",
     "text": [
      "Valid: Loss = 3.136 Perplexity= 23.96, LR = 0.00390625\n",
      "Model Saved!\n",
      "\n"
     ]
    },
    {
     "name": "stderr",
     "output_type": "stream",
     "text": [
      "Epoch 79: 100%|██████████| 1778/1778 [01:58<00:00, 15.01batch/s, loss=2.72, perplexity=15.7]\n"
     ]
    },
    {
     "name": "stdout",
     "output_type": "stream",
     "text": [
      "Valid: Loss = 3.131 Perplexity= 23.85, LR = 0.00390625\n",
      "Model Saved!\n",
      "\n"
     ]
    },
    {
     "name": "stderr",
     "output_type": "stream",
     "text": [
      "Epoch 80: 100%|██████████| 1778/1778 [02:00<00:00, 14.77batch/s, loss=2.72, perplexity=15.7]\n"
     ]
    },
    {
     "name": "stdout",
     "output_type": "stream",
     "text": [
      "Valid: Loss = 3.127 Perplexity= 23.75, LR = 0.00390625\n",
      "Model Saved!\n",
      "\n"
     ]
    },
    {
     "name": "stderr",
     "output_type": "stream",
     "text": [
      "Epoch 81: 100%|██████████| 1778/1778 [01:51<00:00, 15.89batch/s, loss=2.72, perplexity=15.6]\n"
     ]
    },
    {
     "name": "stdout",
     "output_type": "stream",
     "text": [
      "Valid: Loss = 3.124 Perplexity= 23.68, LR = 0.00390625\n",
      "Model Saved!\n",
      "\n"
     ]
    },
    {
     "name": "stderr",
     "output_type": "stream",
     "text": [
      "Epoch 82: 100%|██████████| 1778/1778 [01:50<00:00, 16.15batch/s, loss=2.71, perplexity=15.6]\n"
     ]
    },
    {
     "name": "stdout",
     "output_type": "stream",
     "text": [
      "Valid: Loss = 3.124 Perplexity= 23.67, LR = 0.00390625\n",
      "Model Saved!\n",
      "\n"
     ]
    },
    {
     "name": "stderr",
     "output_type": "stream",
     "text": [
      "Epoch 83: 100%|██████████| 1778/1778 [01:49<00:00, 16.18batch/s, loss=2.71, perplexity=15.5]\n"
     ]
    },
    {
     "name": "stdout",
     "output_type": "stream",
     "text": [
      "Valid: Loss = 3.12 Perplexity= 23.57, LR = 0.00390625\n",
      "Model Saved!\n",
      "\n"
     ]
    },
    {
     "name": "stderr",
     "output_type": "stream",
     "text": [
      "Epoch 84: 100%|██████████| 1778/1778 [01:50<00:00, 16.16batch/s, loss=2.71, perplexity=15.5]\n"
     ]
    },
    {
     "name": "stdout",
     "output_type": "stream",
     "text": [
      "Valid: Loss = 3.118 Perplexity= 23.53, LR = 0.00390625\n",
      "Model Saved!\n",
      "\n"
     ]
    },
    {
     "name": "stderr",
     "output_type": "stream",
     "text": [
      "Epoch 85: 100%|██████████| 1778/1778 [01:49<00:00, 16.18batch/s, loss=2.7, perplexity=15.4] \n"
     ]
    },
    {
     "name": "stdout",
     "output_type": "stream",
     "text": [
      "Valid: Loss = 3.116 Perplexity= 23.49, LR = 0.00390625\n",
      "Model Saved!\n",
      "\n"
     ]
    },
    {
     "name": "stderr",
     "output_type": "stream",
     "text": [
      "Epoch 86: 100%|██████████| 1778/1778 [01:49<00:00, 16.19batch/s, loss=2.7, perplexity=15.4] \n"
     ]
    },
    {
     "name": "stdout",
     "output_type": "stream",
     "text": [
      "Valid: Loss = 3.115 Perplexity= 23.45, LR = 0.00390625\n",
      "Model Saved!\n",
      "\n"
     ]
    },
    {
     "name": "stderr",
     "output_type": "stream",
     "text": [
      "Epoch 87: 100%|██████████| 1778/1778 [01:49<00:00, 16.19batch/s, loss=2.7, perplexity=15.3] \n"
     ]
    },
    {
     "name": "stdout",
     "output_type": "stream",
     "text": [
      "Valid: Loss = 3.113 Perplexity= 23.41, LR = 0.00390625\n",
      "Model Saved!\n",
      "\n"
     ]
    },
    {
     "name": "stderr",
     "output_type": "stream",
     "text": [
      "Epoch 88: 100%|██████████| 1778/1778 [01:49<00:00, 16.19batch/s, loss=2.7, perplexity=15.3] \n"
     ]
    },
    {
     "name": "stdout",
     "output_type": "stream",
     "text": [
      "Valid: Loss = 3.109 Perplexity= 23.32, LR = 0.00390625\n",
      "Model Saved!\n",
      "\n"
     ]
    },
    {
     "name": "stderr",
     "output_type": "stream",
     "text": [
      "Epoch 89: 100%|██████████| 1778/1778 [01:49<00:00, 16.18batch/s, loss=2.69, perplexity=15.3]\n"
     ]
    },
    {
     "name": "stdout",
     "output_type": "stream",
     "text": [
      "Valid: Loss = 3.108 Perplexity= 23.28, LR = 0.00390625\n",
      "Model Saved!\n",
      "\n"
     ]
    },
    {
     "name": "stderr",
     "output_type": "stream",
     "text": [
      "Epoch 90: 100%|██████████| 1778/1778 [01:49<00:00, 16.18batch/s, loss=2.69, perplexity=15.2]\n"
     ]
    },
    {
     "name": "stdout",
     "output_type": "stream",
     "text": [
      "Valid: Loss = 3.102 Perplexity= 23.14, LR = 0.00390625\n",
      "Model Saved!\n",
      "\n"
     ]
    },
    {
     "name": "stderr",
     "output_type": "stream",
     "text": [
      "Epoch 91: 100%|██████████| 1778/1778 [01:49<00:00, 16.19batch/s, loss=2.69, perplexity=15.2]\n"
     ]
    },
    {
     "name": "stdout",
     "output_type": "stream",
     "text": [
      "Valid: Loss = 3.104 Perplexity= 23.2, LR = 0.00390625\n",
      "\n"
     ]
    },
    {
     "name": "stderr",
     "output_type": "stream",
     "text": [
      "Epoch 92: 100%|██████████| 1778/1778 [01:49<00:00, 16.17batch/s, loss=2.69, perplexity=15.2]\n"
     ]
    },
    {
     "name": "stdout",
     "output_type": "stream",
     "text": [
      "Valid: Loss = 3.094 Perplexity= 22.97, LR = 0.001953125\n",
      "Model Saved!\n",
      "\n"
     ]
    },
    {
     "name": "stderr",
     "output_type": "stream",
     "text": [
      "Epoch 93: 100%|██████████| 1778/1778 [01:49<00:00, 16.20batch/s, loss=2.68, perplexity=15.1]\n"
     ]
    },
    {
     "name": "stdout",
     "output_type": "stream",
     "text": [
      "Valid: Loss = 3.092 Perplexity= 22.92, LR = 0.001953125\n",
      "Model Saved!\n",
      "\n"
     ]
    },
    {
     "name": "stderr",
     "output_type": "stream",
     "text": [
      "Epoch 94: 100%|██████████| 1778/1778 [01:50<00:00, 16.15batch/s, loss=2.68, perplexity=15.1]\n"
     ]
    },
    {
     "name": "stdout",
     "output_type": "stream",
     "text": [
      "Valid: Loss = 3.089 Perplexity= 22.85, LR = 0.001953125\n",
      "Model Saved!\n",
      "\n"
     ]
    },
    {
     "name": "stderr",
     "output_type": "stream",
     "text": [
      "Epoch 95: 100%|██████████| 1778/1778 [01:49<00:00, 16.18batch/s, loss=2.68, perplexity=15.1]\n"
     ]
    },
    {
     "name": "stdout",
     "output_type": "stream",
     "text": [
      "Valid: Loss = 3.088 Perplexity= 22.83, LR = 0.001953125\n",
      "Model Saved!\n",
      "\n"
     ]
    },
    {
     "name": "stderr",
     "output_type": "stream",
     "text": [
      "Epoch 96: 100%|██████████| 1778/1778 [01:49<00:00, 16.17batch/s, loss=2.68, perplexity=15]  \n"
     ]
    },
    {
     "name": "stdout",
     "output_type": "stream",
     "text": [
      "Valid: Loss = 3.087 Perplexity= 22.79, LR = 0.001953125\n",
      "Model Saved!\n",
      "\n"
     ]
    },
    {
     "name": "stderr",
     "output_type": "stream",
     "text": [
      "Epoch 97: 100%|██████████| 1778/1778 [01:49<00:00, 16.18batch/s, loss=2.68, perplexity=15]  \n"
     ]
    },
    {
     "name": "stdout",
     "output_type": "stream",
     "text": [
      "Valid: Loss = 3.084 Perplexity= 22.74, LR = 0.001953125\n",
      "Model Saved!\n",
      "\n"
     ]
    },
    {
     "name": "stderr",
     "output_type": "stream",
     "text": [
      "Epoch 98: 100%|██████████| 1778/1778 [01:53<00:00, 15.73batch/s, loss=2.67, perplexity=15]  \n"
     ]
    },
    {
     "name": "stdout",
     "output_type": "stream",
     "text": [
      "Valid: Loss = 3.084 Perplexity= 22.73, LR = 0.001953125\n",
      "Model Saved!\n",
      "\n"
     ]
    },
    {
     "name": "stderr",
     "output_type": "stream",
     "text": [
      "Epoch 99: 100%|██████████| 1778/1778 [02:00<00:00, 14.73batch/s, loss=2.67, perplexity=15]  \n"
     ]
    },
    {
     "name": "stdout",
     "output_type": "stream",
     "text": [
      "Valid: Loss = 3.083 Perplexity= 22.71, LR = 0.001953125\n",
      "Model Saved!\n",
      "\n"
     ]
    },
    {
     "name": "stderr",
     "output_type": "stream",
     "text": [
      "Epoch 100: 100%|██████████| 1778/1778 [02:01<00:00, 14.58batch/s, loss=2.67, perplexity=14.9]\n"
     ]
    },
    {
     "name": "stdout",
     "output_type": "stream",
     "text": [
      "Valid: Loss = 3.081 Perplexity= 22.67, LR = 0.001953125\n",
      "Model Saved!\n",
      "\n"
     ]
    },
    {
     "name": "stderr",
     "output_type": "stream",
     "text": [
      "Epoch 101: 100%|██████████| 1778/1778 [01:58<00:00, 15.03batch/s, loss=2.67, perplexity=14.9]\n"
     ]
    },
    {
     "name": "stdout",
     "output_type": "stream",
     "text": [
      "Valid: Loss = 3.08 Perplexity= 22.64, LR = 0.001953125\n",
      "Model Saved!\n",
      "\n"
     ]
    },
    {
     "name": "stderr",
     "output_type": "stream",
     "text": [
      "Epoch 102: 100%|██████████| 1778/1778 [02:02<00:00, 14.48batch/s, loss=2.67, perplexity=14.9]\n"
     ]
    },
    {
     "name": "stdout",
     "output_type": "stream",
     "text": [
      "Valid: Loss = 3.079 Perplexity= 22.61, LR = 0.001953125\n",
      "Model Saved!\n",
      "\n"
     ]
    },
    {
     "name": "stderr",
     "output_type": "stream",
     "text": [
      "Epoch 103: 100%|██████████| 1778/1778 [02:02<00:00, 14.51batch/s, loss=2.67, perplexity=14.9]\n"
     ]
    },
    {
     "name": "stdout",
     "output_type": "stream",
     "text": [
      "Valid: Loss = 3.08 Perplexity= 22.63, LR = 0.001953125\n",
      "\n"
     ]
    },
    {
     "name": "stderr",
     "output_type": "stream",
     "text": [
      "Epoch 104: 100%|██████████| 1778/1778 [02:32<00:00, 11.63batch/s, loss=2.67, perplexity=14.9]\n"
     ]
    },
    {
     "name": "stdout",
     "output_type": "stream",
     "text": [
      "Valid: Loss = 3.07 Perplexity= 22.42, LR = 0.0009765625\n",
      "Model Saved!\n",
      "\n"
     ]
    },
    {
     "name": "stderr",
     "output_type": "stream",
     "text": [
      "Epoch 105: 100%|██████████| 1778/1778 [03:35<00:00,  8.24batch/s, loss=2.66, perplexity=14.8]\n"
     ]
    },
    {
     "name": "stdout",
     "output_type": "stream",
     "text": [
      "Valid: Loss = 3.069 Perplexity= 22.4, LR = 0.0009765625\n",
      "Model Saved!\n",
      "\n"
     ]
    },
    {
     "name": "stderr",
     "output_type": "stream",
     "text": [
      "Epoch 106: 100%|██████████| 1778/1778 [03:36<00:00,  8.23batch/s, loss=2.66, perplexity=14.8]\n"
     ]
    },
    {
     "name": "stdout",
     "output_type": "stream",
     "text": [
      "Valid: Loss = 3.068 Perplexity= 22.37, LR = 0.0009765625\n",
      "Model Saved!\n",
      "\n"
     ]
    },
    {
     "name": "stderr",
     "output_type": "stream",
     "text": [
      "Epoch 107: 100%|██████████| 1778/1778 [03:35<00:00,  8.27batch/s, loss=2.66, perplexity=14.8]\n"
     ]
    },
    {
     "name": "stdout",
     "output_type": "stream",
     "text": [
      "Valid: Loss = 3.068 Perplexity= 22.37, LR = 0.0009765625\n",
      "\n"
     ]
    },
    {
     "name": "stderr",
     "output_type": "stream",
     "text": [
      "Epoch 108: 100%|██████████| 1778/1778 [03:34<00:00,  8.28batch/s, loss=2.66, perplexity=14.8]\n"
     ]
    },
    {
     "name": "stdout",
     "output_type": "stream",
     "text": [
      "Valid: Loss = 3.06 Perplexity= 22.2, LR = 0.00048828125\n",
      "Model Saved!\n",
      "\n"
     ]
    },
    {
     "name": "stderr",
     "output_type": "stream",
     "text": [
      "Epoch 109: 100%|██████████| 1778/1778 [03:35<00:00,  8.26batch/s, loss=2.66, perplexity=14.8]\n"
     ]
    },
    {
     "name": "stdout",
     "output_type": "stream",
     "text": [
      "Valid: Loss = 3.06 Perplexity= 22.2, LR = 0.00048828125\n",
      "Model Saved!\n",
      "\n"
     ]
    },
    {
     "name": "stderr",
     "output_type": "stream",
     "text": [
      "Epoch 110: 100%|██████████| 1778/1778 [03:34<00:00,  8.30batch/s, loss=2.66, perplexity=14.8]\n"
     ]
    },
    {
     "name": "stdout",
     "output_type": "stream",
     "text": [
      "Valid: Loss = 3.059 Perplexity= 22.16, LR = 0.00048828125\n",
      "Model Saved!\n",
      "\n"
     ]
    },
    {
     "name": "stderr",
     "output_type": "stream",
     "text": [
      "Epoch 111: 100%|██████████| 1778/1778 [03:34<00:00,  8.30batch/s, loss=2.66, perplexity=14.8]\n"
     ]
    },
    {
     "name": "stdout",
     "output_type": "stream",
     "text": [
      "Valid: Loss = 3.059 Perplexity= 22.17, LR = 0.00048828125\n",
      "\n"
     ]
    },
    {
     "name": "stderr",
     "output_type": "stream",
     "text": [
      "Epoch 112: 100%|██████████| 1778/1778 [03:31<00:00,  8.42batch/s, loss=2.66, perplexity=14.8]\n"
     ]
    },
    {
     "name": "stdout",
     "output_type": "stream",
     "text": [
      "Valid: Loss = 3.055 Perplexity= 22.08, LR = 0.000244140625\n",
      "Model Saved!\n",
      "\n"
     ]
    },
    {
     "name": "stderr",
     "output_type": "stream",
     "text": [
      "Epoch 113: 100%|██████████| 1778/1778 [03:35<00:00,  8.24batch/s, loss=2.66, perplexity=14.8]\n"
     ]
    },
    {
     "name": "stdout",
     "output_type": "stream",
     "text": [
      "Valid: Loss = 3.055 Perplexity= 22.08, LR = 0.000244140625\n",
      "Model Saved!\n",
      "\n"
     ]
    },
    {
     "name": "stderr",
     "output_type": "stream",
     "text": [
      "Epoch 114: 100%|██████████| 1778/1778 [03:35<00:00,  8.27batch/s, loss=2.66, perplexity=14.8]\n"
     ]
    },
    {
     "name": "stdout",
     "output_type": "stream",
     "text": [
      "Valid: Loss = 3.055 Perplexity= 22.07, LR = 0.000244140625\n",
      "Model Saved!\n",
      "\n"
     ]
    },
    {
     "name": "stderr",
     "output_type": "stream",
     "text": [
      "Epoch 115: 100%|██████████| 1778/1778 [03:35<00:00,  8.27batch/s, loss=2.66, perplexity=14.8]\n"
     ]
    },
    {
     "name": "stdout",
     "output_type": "stream",
     "text": [
      "Valid: Loss = 3.055 Perplexity= 22.09, LR = 0.000244140625\n",
      "\n"
     ]
    },
    {
     "name": "stderr",
     "output_type": "stream",
     "text": [
      "Epoch 116: 100%|██████████| 1778/1778 [03:35<00:00,  8.25batch/s, loss=2.66, perplexity=14.8]\n"
     ]
    },
    {
     "name": "stdout",
     "output_type": "stream",
     "text": [
      "Valid: Loss = 3.052 Perplexity= 22.02, LR = 0.0001220703125\n",
      "Model Saved!\n",
      "\n"
     ]
    },
    {
     "name": "stderr",
     "output_type": "stream",
     "text": [
      "Epoch 117: 100%|██████████| 1778/1778 [03:35<00:00,  8.24batch/s, loss=2.66, perplexity=14.8]\n"
     ]
    },
    {
     "name": "stdout",
     "output_type": "stream",
     "text": [
      "Valid: Loss = 3.053 Perplexity= 22.03, LR = 0.0001220703125\n",
      "\n"
     ]
    },
    {
     "name": "stderr",
     "output_type": "stream",
     "text": [
      "Epoch 118: 100%|██████████| 1778/1778 [03:35<00:00,  8.24batch/s, loss=2.66, perplexity=14.8]\n"
     ]
    },
    {
     "name": "stdout",
     "output_type": "stream",
     "text": [
      "Valid: Loss = 3.051 Perplexity= 22.0, LR = 6.103515625e-05\n",
      "Model Saved!\n",
      "\n"
     ]
    },
    {
     "name": "stderr",
     "output_type": "stream",
     "text": [
      "Epoch 119: 100%|██████████| 1778/1778 [03:35<00:00,  8.24batch/s, loss=2.66, perplexity=14.8]\n"
     ]
    },
    {
     "name": "stdout",
     "output_type": "stream",
     "text": [
      "Valid: Loss = 3.051 Perplexity= 22.0, LR = 6.103515625e-05\n",
      "\n"
     ]
    },
    {
     "name": "stderr",
     "output_type": "stream",
     "text": [
      "Epoch 120: 100%|██████████| 1778/1778 [03:26<00:00,  8.60batch/s, loss=2.66, perplexity=14.8]\n"
     ]
    },
    {
     "name": "stdout",
     "output_type": "stream",
     "text": [
      "Valid: Loss = 3.051 Perplexity= 21.99, LR = 3.0517578125e-05\n",
      "Model Saved!\n",
      "\n"
     ]
    },
    {
     "name": "stderr",
     "output_type": "stream",
     "text": [
      "Epoch 121: 100%|██████████| 1778/1778 [01:58<00:00, 14.97batch/s, loss=2.66, perplexity=14.8]\n"
     ]
    },
    {
     "name": "stdout",
     "output_type": "stream",
     "text": [
      "Valid: Loss = 3.051 Perplexity= 21.99, LR = 3.0517578125e-05\n",
      "\n"
     ]
    },
    {
     "name": "stderr",
     "output_type": "stream",
     "text": [
      "Epoch 122: 100%|██████████| 1778/1778 [03:14<00:00,  9.13batch/s, loss=2.66, perplexity=14.7]\n"
     ]
    },
    {
     "name": "stdout",
     "output_type": "stream",
     "text": [
      "Valid: Loss = 3.051 Perplexity= 21.99, LR = 1.52587890625e-05\n",
      "Model Saved!\n",
      "\n"
     ]
    },
    {
     "name": "stderr",
     "output_type": "stream",
     "text": [
      "Epoch 123: 100%|██████████| 1778/1778 [03:20<00:00,  8.85batch/s, loss=2.66, perplexity=14.7]\n"
     ]
    },
    {
     "name": "stdout",
     "output_type": "stream",
     "text": [
      "Valid: Loss = 3.051 Perplexity= 21.98, LR = 1.52587890625e-05\n",
      "Model Saved!\n",
      "\n"
     ]
    },
    {
     "name": "stderr",
     "output_type": "stream",
     "text": [
      "Epoch 124: 100%|██████████| 1778/1778 [03:17<00:00,  8.99batch/s, loss=2.66, perplexity=14.7]\n"
     ]
    },
    {
     "name": "stdout",
     "output_type": "stream",
     "text": [
      "Valid: Loss = 3.051 Perplexity= 21.98, LR = 1.52587890625e-05\n",
      "\n"
     ]
    },
    {
     "name": "stderr",
     "output_type": "stream",
     "text": [
      "Epoch 125: 100%|██████████| 1778/1778 [03:22<00:00,  8.78batch/s, loss=2.66, perplexity=14.7]\n"
     ]
    },
    {
     "name": "stdout",
     "output_type": "stream",
     "text": [
      "Valid: Loss = 3.051 Perplexity= 21.98, LR = 7.62939453125e-06\n",
      "Model Saved!\n",
      "\n"
     ]
    },
    {
     "name": "stderr",
     "output_type": "stream",
     "text": [
      "Epoch 126: 100%|██████████| 1778/1778 [03:23<00:00,  8.74batch/s, loss=2.66, perplexity=14.8]\n"
     ]
    },
    {
     "name": "stdout",
     "output_type": "stream",
     "text": [
      "Valid: Loss = 3.051 Perplexity= 21.98, LR = 7.62939453125e-06\n",
      "\n"
     ]
    },
    {
     "name": "stderr",
     "output_type": "stream",
     "text": [
      "Epoch 127: 100%|██████████| 1778/1778 [03:22<00:00,  8.77batch/s, loss=2.66, perplexity=14.8]\n"
     ]
    },
    {
     "name": "stdout",
     "output_type": "stream",
     "text": [
      "Valid: Loss = 3.051 Perplexity= 21.98, LR = 3.814697265625e-06\n",
      "Model Saved!\n",
      "\n"
     ]
    },
    {
     "name": "stderr",
     "output_type": "stream",
     "text": [
      "Epoch 128: 100%|██████████| 1778/1778 [03:23<00:00,  8.75batch/s, loss=2.66, perplexity=14.8]\n"
     ]
    },
    {
     "name": "stdout",
     "output_type": "stream",
     "text": [
      "Valid: Loss = 3.05 Perplexity= 21.98, LR = 3.814697265625e-06\n",
      "Model Saved!\n",
      "\n"
     ]
    },
    {
     "name": "stderr",
     "output_type": "stream",
     "text": [
      "Epoch 129: 100%|██████████| 1778/1778 [03:22<00:00,  8.78batch/s, loss=2.66, perplexity=14.7]\n"
     ]
    },
    {
     "name": "stdout",
     "output_type": "stream",
     "text": [
      "Valid: Loss = 3.051 Perplexity= 21.98, LR = 3.814697265625e-06\n",
      "\n"
     ]
    },
    {
     "name": "stderr",
     "output_type": "stream",
     "text": [
      "Epoch 130: 100%|██████████| 1778/1778 [03:22<00:00,  8.76batch/s, loss=2.66, perplexity=14.7]\n"
     ]
    },
    {
     "name": "stdout",
     "output_type": "stream",
     "text": [
      "Valid: Loss = 3.05 Perplexity= 21.98, LR = 1.9073486328125e-06\n",
      "\n"
     ]
    },
    {
     "name": "stderr",
     "output_type": "stream",
     "text": [
      "Epoch 131: 100%|██████████| 1778/1778 [03:22<00:00,  8.77batch/s, loss=2.66, perplexity=14.8]\n"
     ]
    },
    {
     "name": "stdout",
     "output_type": "stream",
     "text": [
      "Valid: Loss = 3.05 Perplexity= 21.98, LR = 9.5367431640625e-07\n",
      "\n"
     ]
    },
    {
     "name": "stderr",
     "output_type": "stream",
     "text": [
      "Epoch 132: 100%|██████████| 1778/1778 [03:22<00:00,  8.77batch/s, loss=2.66, perplexity=14.7]\n"
     ]
    },
    {
     "name": "stdout",
     "output_type": "stream",
     "text": [
      "Valid: Loss = 3.05 Perplexity= 21.98, LR = 4.76837158203125e-07\n",
      "Model Saved!\n",
      "\n"
     ]
    },
    {
     "name": "stderr",
     "output_type": "stream",
     "text": [
      "Epoch 133: 100%|██████████| 1778/1778 [03:23<00:00,  8.75batch/s, loss=2.66, perplexity=14.8]\n"
     ]
    },
    {
     "name": "stdout",
     "output_type": "stream",
     "text": [
      "Valid: Loss = 3.05 Perplexity= 21.98, LR = 4.76837158203125e-07\n",
      "Model Saved!\n",
      "\n"
     ]
    },
    {
     "name": "stderr",
     "output_type": "stream",
     "text": [
      "Epoch 134: 100%|██████████| 1778/1778 [03:13<00:00,  9.20batch/s, loss=2.66, perplexity=14.8]\n"
     ]
    },
    {
     "name": "stdout",
     "output_type": "stream",
     "text": [
      "Valid: Loss = 3.05 Perplexity= 21.98, LR = 4.76837158203125e-07\n",
      "\n"
     ]
    },
    {
     "name": "stderr",
     "output_type": "stream",
     "text": [
      "Epoch 135: 100%|██████████| 1778/1778 [03:10<00:00,  9.33batch/s, loss=2.66, perplexity=14.7]\n"
     ]
    },
    {
     "name": "stdout",
     "output_type": "stream",
     "text": [
      "Valid: Loss = 3.05 Perplexity= 21.98, LR = 2.384185791015625e-07\n",
      "\n"
     ]
    },
    {
     "name": "stderr",
     "output_type": "stream",
     "text": [
      "Epoch 136: 100%|██████████| 1778/1778 [03:10<00:00,  9.32batch/s, loss=2.66, perplexity=14.7]\n"
     ]
    },
    {
     "name": "stdout",
     "output_type": "stream",
     "text": [
      "Valid: Loss = 3.05 Perplexity= 21.98, LR = 1.1920928955078125e-07\n",
      "\n"
     ]
    },
    {
     "name": "stderr",
     "output_type": "stream",
     "text": [
      "Epoch 137: 100%|██████████| 1778/1778 [03:10<00:00,  9.33batch/s, loss=2.66, perplexity=14.7]\n"
     ]
    },
    {
     "name": "stdout",
     "output_type": "stream",
     "text": [
      "Valid: Loss = 3.05 Perplexity= 21.98, LR = 5.960464477539063e-08\n",
      "\n"
     ]
    },
    {
     "name": "stderr",
     "output_type": "stream",
     "text": [
      "Epoch 138: 100%|██████████| 1778/1778 [03:10<00:00,  9.33batch/s, loss=2.66, perplexity=14.8]\n"
     ]
    },
    {
     "name": "stdout",
     "output_type": "stream",
     "text": [
      "Valid: Loss = 3.05 Perplexity= 21.98, LR = 2.9802322387695312e-08\n",
      "LR_DEC==3 , Finished\n"
     ]
    }
   ],
   "source": [
    "num_epochs = 300\n",
    "max_lr_dec = 4\n",
    "lr_dec = 0\n",
    "\n",
    "for epoch in range(num_epochs):\n",
    "  # Train\n",
    "  model, loss_train, per_train = train_one_epoch(model, train_loader, loss_fn, optimizer, perp , epoch)\n",
    "  # Validation\n",
    "  loss_valid, per_val = evaluate(model, valid_loader, loss_fn, perp)\n",
    "\n",
    "  loss_train_hist.append(loss_train)\n",
    "  loss_valid_hist.append(loss_valid)\n",
    "\n",
    "  per_train_hist.append(per_train)\n",
    "  per_valid_hist.append(per_val)\n",
    "\n",
    "  lr_train_hist.append(lr)\n",
    "  \n",
    "  print(f'Valid: Loss = {loss_valid:.4} Perplexity= {per_val:.4}, LR = {lr}')\n",
    "  epoch_counter += 1\n",
    "  \n",
    "  if per_val < best_perplexity_valid:\n",
    "    lr_dec = 0\n",
    "    torch.save(model, f'model.pt')\n",
    "    best_perplexity_valid = per_val\n",
    "    print('Model Saved!')\n",
    "  else:\n",
    "    if lr_dec >= max_lr_dec :\n",
    "      print(\"LR_DEC==3 , Finished\")\n",
    "      break\n",
    "    lr_dec += 1\n",
    "    \n",
    "    del model\n",
    "    del perp\n",
    "    del loss_fn\n",
    "    del optimizer\n",
    "    \n",
    "    model_path = 'model.pt'\n",
    "    model = torch.load(model_path,map_location=device)\n",
    "    lr /= 2\n",
    "    optimizer = optim.SGD(model.parameters(), lr=lr, weight_decay=wd, momentum=0.9)\n",
    "    loss_fn = nn.CrossEntropyLoss()\n",
    "    perp = Perplexity().to(device)\n",
    "  print()\n",
    "  "
   ]
  },
  {
   "cell_type": "markdown",
   "metadata": {},
   "source": [
    "## Learning Curve"
   ]
  },
  {
   "cell_type": "code",
   "execution_count": 24,
   "metadata": {},
   "outputs": [
    {
     "data": {
      "image/png": "[encoded data removed]",
      "text/plain": [
       "<Figure size 2000x600 with 3 Axes>"
      ]
     },
     "metadata": {},
     "output_type": "display_data"
    }
   ],
   "source": [
    "# Save as CSV\n",
    "import pandas as pd\n",
    "datas = {\n",
    "    'epoch': range(epoch_counter),\n",
    "    'loss_train': loss_train_hist,\n",
    "    'loss_validation': loss_valid_hist,\n",
    "    'perplexity_train': per_train_hist , \n",
    "    'perplexity_validation':per_valid_hist,\n",
    "    'learning_rate': lr_train_hist\n",
    "}\n",
    "df = pd.DataFrame(datas)\n",
    "df.to_csv(\"learningCurve.csv\" , index=False)\n",
    "\n",
    "fig, (ax1, ax2 , ax3) = plt.subplots(1, 3, figsize=(20, 6))\n",
    "\n",
    "ax1.plot(range(epoch_counter), loss_train_hist, 'r-', label='Train')\n",
    "ax1.plot(range(epoch_counter), loss_valid_hist, 'b-', label='Validation')\n",
    "ax1.set_title('Learning Curve')\n",
    "ax1.set_xlabel('Epoch')\n",
    "ax1.set_ylabel('Loss')\n",
    "ax1.grid(True)\n",
    "ax1.legend()\n",
    "\n",
    "ax2.plot(range(epoch_counter), per_train_hist, 'r-', label='Train')\n",
    "ax2.plot(range(epoch_counter), per_valid_hist, 'b-', label='Validation')\n",
    "ax2.set_title('Perplexity')\n",
    "ax2.set_xlabel('Epoch')\n",
    "ax2.set_ylabel('Perplexity')\n",
    "ax2.grid(True)\n",
    "ax2.legend()\n",
    "\n",
    "ax3.plot(range(epoch_counter), lr_train_hist, 'r-', label='Rate')\n",
    "ax3.set_title('Learning Rate')\n",
    "ax3.set_xlabel('Epoch')\n",
    "ax3.set_ylabel('Rate')\n",
    "ax3.grid(True)\n",
    "ax3.legend()\n",
    "\n",
    "plt.tight_layout()\n",
    "plt.show()"
   ]
  },
  {
   "cell_type": "markdown",
   "metadata": {},
   "source": [
    "## Test Perplexity"
   ]
  },
  {
   "cell_type": "code",
   "execution_count": 20,
   "metadata": {},
   "outputs": [
    {
     "name": "stdout",
     "output_type": "stream",
     "text": [
      "Validation: Loss = 3.05 , Perplexity = 21.98\n",
      "Test: Loss = 2.946 , Perplexity = 20.39\n"
     ]
    }
   ],
   "source": [
    "model_path = 'model.pt'\n",
    "model = torch.load(model_path)\n",
    "model = model.to(device)\n",
    "model.eval()\n",
    "\n",
    "loss_fn = nn.CrossEntropyLoss()\n",
    "perp = Perplexity().to(device)\n",
    "\n",
    "loss_valid , per_valid  = evaluate(model, valid_loader, loss_fn , perp )\n",
    "print(f\"Validation: Loss = {loss_valid:.4} , Perplexity = {per_valid:.4}\")\n",
    "\n",
    "loss_test , per_test  = evaluate(model, test_loader, loss_fn , perp)\n",
    "print(f\"Test: Loss = {loss_test:.4} , Perplexity = {per_test:.4}\")"
   ]
  },
  {
   "cell_type": "markdown",
   "metadata": {},
   "source": [
    "# Text Generation"
   ]
  },
  {
   "cell_type": "code",
   "execution_count": 21,
   "metadata": {},
   "outputs": [
    {
     "data": {
      "text/plain": [
       "H_LSTM(\n",
       "  (embedding): Embedding(33264, 500)\n",
       "  (dropout_em): Dropout(p=0.1, inplace=False)\n",
       "  (rnn1): LSTM(500, 500, batch_first=True)\n",
       "  (dropout1): Dropout(p=0.25, inplace=False)\n",
       "  (rnn2): LSTM(500, 500, batch_first=True)\n",
       "  (dropout2): Dropout(p=0.25, inplace=False)\n",
       "  (rnn3): LSTM(500, 500, batch_first=True)\n",
       "  (dropout3): Dropout(p=0.25, inplace=False)\n",
       "  (fc): Linear(in_features=500, out_features=33264, bias=True)\n",
       ")"
      ]
     },
     "execution_count": 21,
     "metadata": {},
     "output_type": "execute_result"
    }
   ],
   "source": [
    "loss_fn = nn.CrossEntropyLoss()\n",
    "\n",
    "model_path = 'model.pt'\n",
    "model = torch.load(model_path)\n",
    "model = model.to(device)\n",
    "model.eval()\n",
    "model"
   ]
  },
  {
   "cell_type": "code",
   "execution_count": 22,
   "metadata": {},
   "outputs": [
    {
     "data": {
      "text/plain": [
       "39.309264"
      ]
     },
     "execution_count": 22,
     "metadata": {},
     "output_type": "execute_result"
    }
   ],
   "source": [
    "num_trainable_params(model)"
   ]
  },
  {
   "cell_type": "code",
   "execution_count": 134,
   "metadata": {},
   "outputs": [
    {
     "name": "stdout",
     "output_type": "stream",
     "text": [
      "i think the movie becomes clearly different .\n"
     ]
    }
   ],
   "source": [
    "def generate(prompt, max_seq_len, temperature, model ):\n",
    "\n",
    "    global device\n",
    "    global vocab_itos\n",
    "    global seq_len\n",
    "    global char2ind\n",
    "    \n",
    "    prompt_tokens = prompt.split(' ')\n",
    "    prompt_tokens = [vocab[token] for token in prompt_tokens]  \n",
    "\n",
    "    with torch.no_grad():\n",
    "        current_token = torch.tensor(prompt_tokens).unsqueeze(0) \n",
    "        current_token = current_token.to(device)\n",
    "        generated_text = prompt  \n",
    "        for i in range(max_seq_len):\n",
    "            output = model(current_token)\n",
    "            probabilities = nn.functional.softmax(output[:, -1, :] / temperature, dim=-1)\n",
    "            next_word = \"<unk>\"\n",
    "            while next_word == \"<unk>\":\n",
    "                next_token_id = torch.multinomial(probabilities, 1).item()\n",
    "                next_word = vocab_itos[next_token_id]\n",
    "            \n",
    "            generated_text += \" \" + next_word\n",
    "\n",
    "            next_token_id = torch.tensor([[next_token_id]]).to(device)\n",
    "            if current_token.shape[1] < seq_len:\n",
    "                current_token = torch.cat( ( current_token  , next_token_id ), dim=1)\n",
    "            else:\n",
    "                current_token = torch.cat( ( current_token[:, 1:]  , next_token_id ), dim=1)\n",
    "            if next_word in [\"<eos>\", \".\"]:\n",
    "                break\n",
    "            del next_token_id\n",
    "    return generated_text\n",
    "\n",
    "prompt = \"i think the movie\"\n",
    "generated_text = generate(prompt, \n",
    "                          max_seq_len = 100, \n",
    "                          temperature = 0.9, \n",
    "                          model = model)\n",
    "\n",
    "print(generated_text)"
   ]
  }
 ],
 "metadata": {
  "kernelspec": {
   "display_name": "base",
   "language": "python",
   "name": "python3"
  },
  "language_info": {
   "codemirror_mode": {
    "name": "ipython",
    "version": 3
   },
   "file_extension": ".py",
   "mimetype": "text/x-python",
   "name": "python",
   "nbconvert_exporter": "python",
   "pygments_lexer": "ipython3",
   "version": "3.10.9"
  },
  "orig_nbformat": 4
 },
 "nbformat": 4,
 "nbformat_minor": 2
}
