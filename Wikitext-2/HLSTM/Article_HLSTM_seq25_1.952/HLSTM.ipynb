{
 "cells": [
  {
   "cell_type": "markdown",
   "metadata": {},
   "source": [
    "# Packages"
   ]
  },
  {
   "cell_type": "code",
   "execution_count": 1,
   "metadata": {},
   "outputs": [],
   "source": [
    "!pip install torchmetrics tqdm --upgrade"
   ]
  },
  {
   "cell_type": "markdown",
   "metadata": {},
   "source": [
    "# Imports"
   ]
  },
  {
   "cell_type": "code",
   "execution_count": 14,
   "metadata": {},
   "outputs": [],
   "source": [
    "from torchtext.data.utils import get_tokenizer\n",
    "from torchtext.vocab import build_vocab_from_iterator\n",
    "\n",
    "import numpy as np\n",
    "import pandas as pd\n",
    "import matplotlib.pyplot as plt\n",
    "import seaborn as sns\n",
    "\n",
    "import torch\n",
    "from torch import nn\n",
    "from torch import optim\n",
    "from torch.utils.data import Dataset, DataLoader, random_split\n",
    "\n",
    "from torchmetrics.text import Perplexity\n",
    "\n",
    "import tqdm\n",
    "\n",
    "from collections import Counter\n",
    "from torchview import draw_graph"
   ]
  },
  {
   "cell_type": "markdown",
   "metadata": {},
   "source": [
    "# Configuration"
   ]
  },
  {
   "cell_type": "code",
   "execution_count": 2,
   "metadata": {},
   "outputs": [],
   "source": [
    "device = 'cuda' if torch.cuda.is_available() else 'cpu'\n",
    "seq_len = 25\n",
    "batch_size = 25\n",
    "min_freq = 0\n",
    "\n",
    "num_epochs = 100\n",
    "\n",
    "max_lr_dec = 3\n",
    "lr_dec = 0\n"
   ]
  },
  {
   "cell_type": "markdown",
   "metadata": {},
   "source": [
    "# Utils"
   ]
  },
  {
   "cell_type": "code",
   "execution_count": 3,
   "metadata": {},
   "outputs": [],
   "source": [
    "class AverageMeter(object):\n",
    "    \"\"\"Computes and stores the average and current value\"\"\"\n",
    "    def __init__(self):\n",
    "        self.reset()\n",
    "\n",
    "    def reset(self):\n",
    "        self.val = 0\n",
    "        self.avg = 0\n",
    "        self.sum = 0\n",
    "        self.count = 0\n",
    "\n",
    "    def update(self, val, n=1):\n",
    "        self.val = val\n",
    "        self.sum += val * n\n",
    "        self.count += n\n",
    "        self.avg = self.sum / self.count"
   ]
  },
  {
   "cell_type": "code",
   "execution_count": 4,
   "metadata": {},
   "outputs": [],
   "source": [
    "def num_trainable_params(model):\n",
    "  nums = sum(p.numel() for p in model.parameters() if p.requires_grad)/1e6\n",
    "  return nums"
   ]
  },
  {
   "cell_type": "markdown",
   "metadata": {},
   "source": [
    "# Dataset"
   ]
  },
  {
   "cell_type": "markdown",
   "metadata": {},
   "source": [
    "## Download Dataset"
   ]
  },
  {
   "cell_type": "code",
   "execution_count": null,
   "metadata": {},
   "outputs": [],
   "source": [
    "!wget --quiet --continue https://s3.amazonaws.com/research.metamind.io/wikitext/wikitext-2-v1.zip\n",
    "!unzip -q wikitext-2-v1.zip\n",
    "!cd wikitext-2 && mv wiki.train.tokens train.txt\n",
    "!cd wikitext-2 && mv wiki.valid.tokens valid.txt\n",
    "!cd wikitext-2 && mv wiki.test.tokens test.txt"
   ]
  },
  {
   "cell_type": "code",
   "execution_count": 6,
   "metadata": {},
   "outputs": [],
   "source": [
    "char2ind = {}\n",
    "def data_init():\n",
    "    global char2ind\n",
    "    with open(\"./wikitext-2/train.txt\", encoding=\"utf8\") as f:\n",
    "        file = f.read()\n",
    "        trn = file[1:].split(' ')\n",
    "    with open(\"./wikitext-2/valid.txt\", encoding=\"utf8\") as f:\n",
    "        file = f.read()\n",
    "        vld = file[1:].split(' ')\n",
    "    with open(\"./wikitext-2/test.txt\", encoding=\"utf8\") as f:\n",
    "        file = f.read()\n",
    "        tst = file[1:].split(' ')\n",
    "    words = sorted(set(trn))\n",
    "    char2ind = {c: i for i, c in enumerate(words)}\n",
    "    trn = [char2ind[c] for c in trn]\n",
    "    vld = [char2ind[c] for c in vld]\n",
    "    tst = [char2ind[c] for c in tst]\n",
    "    return torch.tensor(trn,dtype=torch.int64), torch.tensor(vld,dtype=torch.int64), torch.tensor(tst,dtype=torch.int64), len(words)\n",
    "\n",
    "def findWordByToken(iToken):\n",
    "    for word, toekn in char2ind.items():  # for name, age in dictionary.iteritems():  (for Python 2.x)\n",
    "        if toekn == iToken:\n",
    "            return word\n",
    "    return ''"
   ]
  },
  {
   "cell_type": "code",
   "execution_count": 7,
   "metadata": {},
   "outputs": [],
   "source": [
    "class Wikitext2Dataset(Dataset):\n",
    "  def __init__(self, tokens, seq_len):\n",
    "    self.tokens = tokens\n",
    "    self.seq_len = seq_len\n",
    "  def __len__(self):\n",
    "    return  len(self.tokens) // self.seq_len\n",
    "\n",
    "  def __getitem__(self, idx):\n",
    "    start_idx = idx * self.seq_len\n",
    "    end_idx = start_idx + self.seq_len\n",
    "    input = self.tokens[start_idx:end_idx]\n",
    "    target = self.tokens[start_idx+1:end_idx+1]\n",
    "    return torch.tensor(input), torch.tensor(target)"
   ]
  },
  {
   "cell_type": "code",
   "execution_count": 8,
   "metadata": {},
   "outputs": [],
   "source": [
    "train_tokens_voc , valid_tokens_voc , test_tokens_voc , vocab_size= data_init()\n",
    "\n",
    "# Datasets\n",
    "train_dataset = Wikitext2Dataset(train_tokens_voc, seq_len)\n",
    "valid_dataset = Wikitext2Dataset(valid_tokens_voc, seq_len)\n",
    "test_dataset = Wikitext2Dataset(test_tokens_voc, seq_len)\n",
    "\n",
    "# Dataloaders\n",
    "train_loader = DataLoader(train_dataset , batch_size )\n",
    "valid_loader = DataLoader(valid_dataset , batch_size )\n",
    "test_loader = DataLoader(test_dataset , batch_size )"
   ]
  },
  {
   "cell_type": "markdown",
   "metadata": {},
   "source": [
    "# Model"
   ]
  },
  {
   "cell_type": "code",
   "execution_count": 9,
   "metadata": {},
   "outputs": [],
   "source": [
    "class H_LSTM(nn.Module):\n",
    "\n",
    "  def __init__(self, vocab_size, embedding_dim, hidden_dim, num_layers, dropout_rate):\n",
    "    super().__init__()\n",
    "    self.vocab_size = vocab_size\n",
    "    \n",
    "    #Embedding Layer\n",
    "    self.embedding = nn.Embedding(vocab_size, embedding_dim)\n",
    "    self.dropout_em = nn.Dropout(0.1)\n",
    "    \n",
    "    # Layer 1\n",
    "    self.rnn1 = nn.LSTM(input_size=embedding_dim,\n",
    "                      hidden_size=hidden_dim,\n",
    "                      num_layers=num_layers,\n",
    "                      bidirectional=False,\n",
    "                      batch_first=True)\n",
    "    self.dropout1 = nn.Dropout(dropout_rate)\n",
    "    \n",
    "    # Layer 2\n",
    "    self.rnn2 = nn.LSTM(input_size=hidden_dim,\n",
    "                      hidden_size=hidden_dim,\n",
    "                      num_layers=num_layers,\n",
    "                      bidirectional=False,\n",
    "                      batch_first=True)\n",
    "    self.dropout2 = nn.Dropout(dropout_rate)\n",
    "    \n",
    "    # Layer 3\n",
    "    self.rnn3 = nn.LSTM(input_size=hidden_dim,\n",
    "                      hidden_size=hidden_dim,\n",
    "                      num_layers=1,\n",
    "                      bidirectional=False,\n",
    "                      batch_first=True)\n",
    "    self.dropout3 = nn.Dropout(dropout_rate)\n",
    "    \n",
    "    self.fc = nn.Linear(hidden_dim,vocab_size,bias=True)\n",
    "\n",
    "  def forward(self, src):\n",
    "    embedding = self.dropout_em( self.embedding(src) )\n",
    "    \n",
    "    output, (h,c) = self.rnn1(embedding)\n",
    "    output = self.dropout1(output)\n",
    "    \n",
    "    output, (h,c) = self.rnn2(output,(c,h))\n",
    "    output = self.dropout2(output)\n",
    "    \n",
    "    output, (h,c) = self.rnn3(output,(c,h))\n",
    "    output = self.dropout3(output)\n",
    "    \n",
    "    output = self.fc(output)\n",
    "    return output"
   ]
  },
  {
   "cell_type": "markdown",
   "metadata": {},
   "source": [
    "# Train"
   ]
  },
  {
   "cell_type": "markdown",
   "metadata": {},
   "source": [
    "## Learning Functions"
   ]
  },
  {
   "cell_type": "code",
   "execution_count": 10,
   "metadata": {},
   "outputs": [],
   "source": [
    "def train_one_epoch(model, train_loader, loss_fn, optimizer, perp , epoch=1):\n",
    "  \n",
    "  global seq_len\n",
    "  global batch_size\n",
    "  \n",
    "  model.train()\n",
    "  loss_train = AverageMeter()\n",
    "  perplexity_train = AverageMeter()\n",
    "    \n",
    "  with tqdm.tqdm(train_loader, unit='batch') as tepoch:\n",
    "    for inputs, targets in tepoch:\n",
    "\n",
    "      tepoch.set_description(f'Epoch {epoch}')\n",
    "\n",
    "      inputs = inputs.to(device)\n",
    "      targets = targets.to(device)\n",
    "\n",
    "      outputs = model(inputs)\n",
    "\n",
    "      batch_size, seq_len, vocab_size = outputs.size()\n",
    "      outputs = outputs.view(batch_size * seq_len, vocab_size)\n",
    "      targets = targets.view(-1)\n",
    "      \n",
    "      loss = loss_fn(outputs, targets)\n",
    "      \n",
    "      loss.backward()\n",
    "      \n",
    "      perplexity = perp(outputs.view(batch_size, seq_len, vocab_size), targets.view(batch_size, seq_len))\n",
    "      \n",
    "      optimizer.step()\n",
    "      optimizer.zero_grad()\n",
    "\n",
    "      loss_train.update(loss.item(), n=len(targets))\n",
    "      perplexity_train.update(perplexity.item(), n=len(targets))\n",
    "\n",
    "      tepoch.set_postfix(loss=loss_train.avg, perplexity = perplexity_train.avg )\n",
    "      \n",
    "      del inputs\n",
    "      del targets\n",
    "      del outputs\n",
    "\n",
    "  return model, loss_train.avg, perplexity_train.avg "
   ]
  },
  {
   "cell_type": "code",
   "execution_count": 11,
   "metadata": {},
   "outputs": [],
   "source": [
    "def evaluate(model, test_loader, loss_fn , perp ):\n",
    "  \n",
    "  global seq_len\n",
    "  global batch_size\n",
    "  \n",
    "  model.eval()\n",
    "  loss_eval = AverageMeter()\n",
    "  perplexity_eval = AverageMeter()\n",
    "\n",
    "  with torch.inference_mode():\n",
    "    for inputs, targets in test_loader:\n",
    "      inputs = inputs.to(device)\n",
    "      targets = targets.to(device)\n",
    "\n",
    "      outputs = model(inputs)\n",
    "      \n",
    "      batch_size, seq_len, vocab_size = outputs.size()\n",
    "      outputs = outputs.view(batch_size * seq_len, vocab_size)\n",
    "      targets = targets.view(-1)\n",
    "\n",
    "      loss = loss_fn(outputs, targets)\n",
    "      \n",
    "      perplexity = perp(outputs.view(batch_size, seq_len, vocab_size), targets.view(batch_size, seq_len))\n",
    "\n",
    "      loss_eval.update(loss.item(), n=len(targets))\n",
    "      perplexity_eval.update(perplexity.item(), n=len(targets))\n",
    "      \n",
    "      del inputs\n",
    "      del targets\n",
    "      del outputs\n",
    "\n",
    "  return loss_eval.avg,perplexity_eval.avg"
   ]
  },
  {
   "cell_type": "markdown",
   "metadata": {},
   "source": [
    "## Parameters"
   ]
  },
  {
   "cell_type": "code",
   "execution_count": 12,
   "metadata": {},
   "outputs": [
    {
     "data": {
      "text/plain": [
       "H_LSTM(\n",
       "  (embedding): Embedding(33278, 500)\n",
       "  (dropout_em): Dropout(p=0.1, inplace=False)\n",
       "  (rnn1): LSTM(500, 500, batch_first=True)\n",
       "  (dropout1): Dropout(p=0.25, inplace=False)\n",
       "  (rnn2): LSTM(500, 500, batch_first=True)\n",
       "  (dropout2): Dropout(p=0.25, inplace=False)\n",
       "  (rnn3): LSTM(500, 500, batch_first=True)\n",
       "  (dropout3): Dropout(p=0.25, inplace=False)\n",
       "  (fc): Linear(in_features=500, out_features=33278, bias=True)\n",
       ")"
      ]
     },
     "execution_count": 12,
     "metadata": {},
     "output_type": "execute_result"
    }
   ],
   "source": [
    "embedding_dim = 500\n",
    "hidden_dim = 500\n",
    "num_layers = 1\n",
    "dropout_rate = 0.25\n",
    "\n",
    "\n",
    "model = H_LSTM( vocab_size, embedding_dim=embedding_dim, hidden_dim=hidden_dim , num_layers=num_layers, dropout_rate= dropout_rate )\n",
    "model = model.to(device)\n",
    "\n",
    "loss_train_hist = []\n",
    "loss_valid_hist = []\n",
    "\n",
    "per_train_hist = []\n",
    "per_valid_hist = []\n",
    "\n",
    "lr_train_hist = []\n",
    "\n",
    "best_perplexity_valid = torch.inf\n",
    "epoch_counter = 0\n",
    "\n",
    "model"
   ]
  },
  {
   "cell_type": "code",
   "execution_count": 13,
   "metadata": {},
   "outputs": [
    {
     "data": {
      "text/plain": [
       "39.323278"
      ]
     },
     "execution_count": 13,
     "metadata": {},
     "output_type": "execute_result"
    }
   ],
   "source": [
    "num_trainable_params(model)"
   ]
  },
  {
   "cell_type": "code",
   "execution_count": 16,
   "metadata": {},
   "outputs": [
    {
     "name": "stderr",
     "output_type": "stream",
     "text": [
      "/tmp/ipykernel_57918/1059837893.py:13: UserWarning: To copy construct from a tensor, it is recommended to use sourceTensor.clone().detach() or sourceTensor.clone().detach().requires_grad_(True), rather than torch.tensor(sourceTensor).\n",
      "  return torch.tensor(input), torch.tensor(target)\n"
     ]
    },
    {
     "data": {
      "image/svg+xml": [
       "<?xml version=\"1.0\" encoding=\"UTF-8\" standalone=\"no\"?>\n",
       "<!DOCTYPE svg PUBLIC \"-//W3C//DTD SVG 1.1//EN\"\n",
       " \"http://www.w3.org/Graphics/SVG/1.1/DTD/svg11.dtd\">\n",
       "<!-- Generated by graphviz version 2.43.0 (0)\n",
       " -->\n",
       "<!-- Title: model Pages: 1 -->\n",
       "<svg width=\"329pt\" height=\"820pt\"\n",
       " viewBox=\"0.00 0.00 328.50 820.00\" xmlns=\"http://www.w3.org/2000/svg\" xmlns:xlink=\"http://www.w3.org/1999/xlink\">\n",
       "<g id=\"graph0\" class=\"graph\" transform=\"scale(1 1) rotate(0) translate(4 816)\">\n",
       "<title>model</title>\n",
       "<polygon fill=\"white\" stroke=\"transparent\" points=\"-4,4 -4,-816 324.5,-816 324.5,4 -4,4\"/>\n",
       "<!-- 0 -->\n",
       "<g id=\"node1\" class=\"node\">\n",
       "<title>0</title>\n",
       "<polygon fill=\"lightyellow\" stroke=\"transparent\" points=\"184,-812 66,-812 66,-780 184,-780 184,-812\"/>\n",
       "<polygon fill=\"none\" stroke=\"black\" points=\"66,-780 66,-812 136,-812 136,-780 66,-780\"/>\n",
       "<text text-anchor=\"start\" x=\"71\" y=\"-799\" font-family=\"Linux libertine\" font-size=\"10.00\">input&#45;tensor</text>\n",
       "<text text-anchor=\"start\" x=\"82.5\" y=\"-788\" font-family=\"Linux libertine\" font-size=\"10.00\">depth:0</text>\n",
       "<polygon fill=\"none\" stroke=\"black\" points=\"136,-780 136,-812 184,-812 184,-780 136,-780\"/>\n",
       "<text text-anchor=\"start\" x=\"141\" y=\"-793.5\" font-family=\"Linux libertine\" font-size=\"10.00\">(25, 25)</text>\n",
       "</g>\n",
       "<!-- 1 -->\n",
       "<g id=\"node2\" class=\"node\">\n",
       "<title>1</title>\n",
       "<polygon fill=\"#c1ffc1\" stroke=\"transparent\" points=\"219,-743 31,-743 31,-701 219,-701 219,-743\"/>\n",
       "<polygon fill=\"none\" stroke=\"black\" points=\"31,-701 31,-743 96,-743 96,-701 31,-701\"/>\n",
       "<text text-anchor=\"start\" x=\"36\" y=\"-725\" font-family=\"Linux libertine\" font-size=\"10.00\">Embedding</text>\n",
       "<text text-anchor=\"start\" x=\"45\" y=\"-714\" font-family=\"Linux libertine\" font-size=\"10.00\">depth:1</text>\n",
       "<polygon fill=\"none\" stroke=\"black\" points=\"96,-722 96,-743 144,-743 144,-722 96,-722\"/>\n",
       "<text text-anchor=\"start\" x=\"106\" y=\"-730\" font-family=\"Linux libertine\" font-size=\"10.00\">input:</text>\n",
       "<polygon fill=\"none\" stroke=\"black\" points=\"144,-722 144,-743 219,-743 219,-722 144,-722\"/>\n",
       "<text text-anchor=\"start\" x=\"161\" y=\"-730\" font-family=\"Linux libertine\" font-size=\"10.00\">(25, 25) </text>\n",
       "<polygon fill=\"none\" stroke=\"black\" points=\"96,-701 96,-722 144,-722 144,-701 96,-701\"/>\n",
       "<text text-anchor=\"start\" x=\"101\" y=\"-709\" font-family=\"Linux libertine\" font-size=\"10.00\">output: </text>\n",
       "<polygon fill=\"none\" stroke=\"black\" points=\"144,-701 144,-722 219,-722 219,-701 144,-701\"/>\n",
       "<text text-anchor=\"start\" x=\"149\" y=\"-709\" font-family=\"Linux libertine\" font-size=\"10.00\">(25, 25, 500) </text>\n",
       "</g>\n",
       "<!-- 0&#45;&gt;1 -->\n",
       "<g id=\"edge1\" class=\"edge\">\n",
       "<title>0&#45;&gt;1</title>\n",
       "<path fill=\"none\" stroke=\"black\" d=\"M125,-779.73C125,-772.08 125,-762.52 125,-753.45\"/>\n",
       "<polygon fill=\"black\" stroke=\"black\" points=\"128.5,-753.17 125,-743.17 121.5,-753.17 128.5,-753.17\"/>\n",
       "</g>\n",
       "<!-- 2 -->\n",
       "<g id=\"node3\" class=\"node\">\n",
       "<title>2</title>\n",
       "<polygon fill=\"#c1ffc1\" stroke=\"transparent\" points=\"211.5,-664 38.5,-664 38.5,-622 211.5,-622 211.5,-664\"/>\n",
       "<polygon fill=\"none\" stroke=\"black\" points=\"39,-622 39,-664 89,-664 89,-622 39,-622\"/>\n",
       "<text text-anchor=\"start\" x=\"44\" y=\"-646\" font-family=\"Linux libertine\" font-size=\"10.00\">Dropout</text>\n",
       "<text text-anchor=\"start\" x=\"45.5\" y=\"-635\" font-family=\"Linux libertine\" font-size=\"10.00\">depth:1</text>\n",
       "<polygon fill=\"none\" stroke=\"black\" points=\"89,-643 89,-664 137,-664 137,-643 89,-643\"/>\n",
       "<text text-anchor=\"start\" x=\"99\" y=\"-651\" font-family=\"Linux libertine\" font-size=\"10.00\">input:</text>\n",
       "<polygon fill=\"none\" stroke=\"black\" points=\"137,-643 137,-664 212,-664 212,-643 137,-643\"/>\n",
       "<text text-anchor=\"start\" x=\"142\" y=\"-651\" font-family=\"Linux libertine\" font-size=\"10.00\">(25, 25, 500) </text>\n",
       "<polygon fill=\"none\" stroke=\"black\" points=\"89,-622 89,-643 137,-643 137,-622 89,-622\"/>\n",
       "<text text-anchor=\"start\" x=\"94\" y=\"-630\" font-family=\"Linux libertine\" font-size=\"10.00\">output: </text>\n",
       "<polygon fill=\"none\" stroke=\"black\" points=\"137,-622 137,-643 212,-643 212,-622 137,-622\"/>\n",
       "<text text-anchor=\"start\" x=\"142\" y=\"-630\" font-family=\"Linux libertine\" font-size=\"10.00\">(25, 25, 500) </text>\n",
       "</g>\n",
       "<!-- 1&#45;&gt;2 -->\n",
       "<g id=\"edge2\" class=\"edge\">\n",
       "<title>1&#45;&gt;2</title>\n",
       "<path fill=\"none\" stroke=\"black\" d=\"M125,-700.77C125,-692.63 125,-683.08 125,-674.16\"/>\n",
       "<polygon fill=\"black\" stroke=\"black\" points=\"128.5,-674.1 125,-664.1 121.5,-674.1 128.5,-674.1\"/>\n",
       "</g>\n",
       "<!-- 3 -->\n",
       "<g id=\"node4\" class=\"node\">\n",
       "<title>3</title>\n",
       "<polygon fill=\"#c1ffc1\" stroke=\"transparent\" points=\"250,-585 0,-585 0,-543 250,-543 250,-585\"/>\n",
       "<polygon fill=\"none\" stroke=\"black\" points=\"0,-543 0,-585 47,-585 47,-543 0,-543\"/>\n",
       "<text text-anchor=\"start\" x=\"10\" y=\"-567\" font-family=\"Linux libertine\" font-size=\"10.00\">LSTM</text>\n",
       "<text text-anchor=\"start\" x=\"5\" y=\"-556\" font-family=\"Linux libertine\" font-size=\"10.00\">depth:1</text>\n",
       "<polygon fill=\"none\" stroke=\"black\" points=\"47,-564 47,-585 95,-585 95,-564 47,-564\"/>\n",
       "<text text-anchor=\"start\" x=\"57\" y=\"-572\" font-family=\"Linux libertine\" font-size=\"10.00\">input:</text>\n",
       "<polygon fill=\"none\" stroke=\"black\" points=\"95,-564 95,-585 250,-585 250,-564 95,-564\"/>\n",
       "<text text-anchor=\"start\" x=\"140\" y=\"-572\" font-family=\"Linux libertine\" font-size=\"10.00\">(25, 25, 500) </text>\n",
       "<polygon fill=\"none\" stroke=\"black\" points=\"47,-543 47,-564 95,-564 95,-543 47,-543\"/>\n",
       "<text text-anchor=\"start\" x=\"52\" y=\"-551\" font-family=\"Linux libertine\" font-size=\"10.00\">output: </text>\n",
       "<polygon fill=\"none\" stroke=\"black\" points=\"95,-543 95,-564 250,-564 250,-543 95,-543\"/>\n",
       "<text text-anchor=\"start\" x=\"100\" y=\"-551\" font-family=\"Linux libertine\" font-size=\"10.00\">(25, 25, 500), 2 x (1, 25, 500) </text>\n",
       "</g>\n",
       "<!-- 2&#45;&gt;3 -->\n",
       "<g id=\"edge3\" class=\"edge\">\n",
       "<title>2&#45;&gt;3</title>\n",
       "<path fill=\"none\" stroke=\"black\" d=\"M125,-621.77C125,-613.63 125,-604.08 125,-595.16\"/>\n",
       "<polygon fill=\"black\" stroke=\"black\" points=\"128.5,-595.1 125,-585.1 121.5,-595.1 128.5,-595.1\"/>\n",
       "</g>\n",
       "<!-- 4 -->\n",
       "<g id=\"node5\" class=\"node\">\n",
       "<title>4</title>\n",
       "<polygon fill=\"#c1ffc1\" stroke=\"transparent\" points=\"320.5,-506 147.5,-506 147.5,-464 320.5,-464 320.5,-506\"/>\n",
       "<polygon fill=\"none\" stroke=\"black\" points=\"148,-464 148,-506 198,-506 198,-464 148,-464\"/>\n",
       "<text text-anchor=\"start\" x=\"153\" y=\"-488\" font-family=\"Linux libertine\" font-size=\"10.00\">Dropout</text>\n",
       "<text text-anchor=\"start\" x=\"154.5\" y=\"-477\" font-family=\"Linux libertine\" font-size=\"10.00\">depth:1</text>\n",
       "<polygon fill=\"none\" stroke=\"black\" points=\"198,-485 198,-506 246,-506 246,-485 198,-485\"/>\n",
       "<text text-anchor=\"start\" x=\"208\" y=\"-493\" font-family=\"Linux libertine\" font-size=\"10.00\">input:</text>\n",
       "<polygon fill=\"none\" stroke=\"black\" points=\"246,-485 246,-506 321,-506 321,-485 246,-485\"/>\n",
       "<text text-anchor=\"start\" x=\"251\" y=\"-493\" font-family=\"Linux libertine\" font-size=\"10.00\">(25, 25, 500) </text>\n",
       "<polygon fill=\"none\" stroke=\"black\" points=\"198,-464 198,-485 246,-485 246,-464 198,-464\"/>\n",
       "<text text-anchor=\"start\" x=\"203\" y=\"-472\" font-family=\"Linux libertine\" font-size=\"10.00\">output: </text>\n",
       "<polygon fill=\"none\" stroke=\"black\" points=\"246,-464 246,-485 321,-485 321,-464 246,-464\"/>\n",
       "<text text-anchor=\"start\" x=\"251\" y=\"-472\" font-family=\"Linux libertine\" font-size=\"10.00\">(25, 25, 500) </text>\n",
       "</g>\n",
       "<!-- 3&#45;&gt;4 -->\n",
       "<g id=\"edge4\" class=\"edge\">\n",
       "<title>3&#45;&gt;4</title>\n",
       "<path fill=\"none\" stroke=\"black\" d=\"M153.35,-542.97C166.75,-533.51 182.9,-522.1 197.22,-511.98\"/>\n",
       "<polygon fill=\"black\" stroke=\"black\" points=\"199.26,-514.83 205.41,-506.2 195.22,-509.11 199.26,-514.83\"/>\n",
       "</g>\n",
       "<!-- 5 -->\n",
       "<g id=\"node6\" class=\"node\">\n",
       "<title>5</title>\n",
       "<polygon fill=\"#c1ffc1\" stroke=\"transparent\" points=\"250,-427 0,-427 0,-385 250,-385 250,-427\"/>\n",
       "<polygon fill=\"none\" stroke=\"black\" points=\"0,-385 0,-427 47,-427 47,-385 0,-385\"/>\n",
       "<text text-anchor=\"start\" x=\"10\" y=\"-409\" font-family=\"Linux libertine\" font-size=\"10.00\">LSTM</text>\n",
       "<text text-anchor=\"start\" x=\"5\" y=\"-398\" font-family=\"Linux libertine\" font-size=\"10.00\">depth:1</text>\n",
       "<polygon fill=\"none\" stroke=\"black\" points=\"47,-406 47,-427 95,-427 95,-406 47,-406\"/>\n",
       "<text text-anchor=\"start\" x=\"57\" y=\"-414\" font-family=\"Linux libertine\" font-size=\"10.00\">input:</text>\n",
       "<polygon fill=\"none\" stroke=\"black\" points=\"95,-406 95,-427 250,-427 250,-406 95,-406\"/>\n",
       "<text text-anchor=\"start\" x=\"100\" y=\"-414\" font-family=\"Linux libertine\" font-size=\"10.00\">(25, 25, 500), 2 x (1, 25, 500) </text>\n",
       "<polygon fill=\"none\" stroke=\"black\" points=\"47,-385 47,-406 95,-406 95,-385 47,-385\"/>\n",
       "<text text-anchor=\"start\" x=\"52\" y=\"-393\" font-family=\"Linux libertine\" font-size=\"10.00\">output: </text>\n",
       "<polygon fill=\"none\" stroke=\"black\" points=\"95,-385 95,-406 250,-406 250,-385 95,-385\"/>\n",
       "<text text-anchor=\"start\" x=\"100\" y=\"-393\" font-family=\"Linux libertine\" font-size=\"10.00\">(25, 25, 500), 2 x (1, 25, 500) </text>\n",
       "</g>\n",
       "<!-- 3&#45;&gt;5 -->\n",
       "<g id=\"edge5\" class=\"edge\">\n",
       "<title>3&#45;&gt;5</title>\n",
       "<path fill=\"none\" stroke=\"black\" d=\"M124.12,-542.96C123.69,-532.03 123.22,-518.28 123,-506 122.67,-487.34 122.67,-482.66 123,-464 123.15,-455.27 123.44,-445.8 123.75,-437.12\"/>\n",
       "<polygon fill=\"black\" stroke=\"black\" points=\"127.25,-437.17 124.12,-427.04 120.25,-436.9 127.25,-437.17\"/>\n",
       "<text text-anchor=\"middle\" x=\"131\" y=\"-482.5\" font-family=\"Times,serif\" font-size=\"10.00\"> x2</text>\n",
       "</g>\n",
       "<!-- 4&#45;&gt;5 -->\n",
       "<g id=\"edge6\" class=\"edge\">\n",
       "<title>4&#45;&gt;5</title>\n",
       "<path fill=\"none\" stroke=\"black\" d=\"M205.65,-463.97C192.25,-454.51 176.1,-443.1 161.78,-432.98\"/>\n",
       "<polygon fill=\"black\" stroke=\"black\" points=\"163.78,-430.11 153.59,-427.2 159.74,-435.83 163.78,-430.11\"/>\n",
       "</g>\n",
       "<!-- 6 -->\n",
       "<g id=\"node7\" class=\"node\">\n",
       "<title>6</title>\n",
       "<polygon fill=\"#c1ffc1\" stroke=\"transparent\" points=\"320.5,-348 147.5,-348 147.5,-306 320.5,-306 320.5,-348\"/>\n",
       "<polygon fill=\"none\" stroke=\"black\" points=\"148,-306 148,-348 198,-348 198,-306 148,-306\"/>\n",
       "<text text-anchor=\"start\" x=\"153\" y=\"-330\" font-family=\"Linux libertine\" font-size=\"10.00\">Dropout</text>\n",
       "<text text-anchor=\"start\" x=\"154.5\" y=\"-319\" font-family=\"Linux libertine\" font-size=\"10.00\">depth:1</text>\n",
       "<polygon fill=\"none\" stroke=\"black\" points=\"198,-327 198,-348 246,-348 246,-327 198,-327\"/>\n",
       "<text text-anchor=\"start\" x=\"208\" y=\"-335\" font-family=\"Linux libertine\" font-size=\"10.00\">input:</text>\n",
       "<polygon fill=\"none\" stroke=\"black\" points=\"246,-327 246,-348 321,-348 321,-327 246,-327\"/>\n",
       "<text text-anchor=\"start\" x=\"251\" y=\"-335\" font-family=\"Linux libertine\" font-size=\"10.00\">(25, 25, 500) </text>\n",
       "<polygon fill=\"none\" stroke=\"black\" points=\"198,-306 198,-327 246,-327 246,-306 198,-306\"/>\n",
       "<text text-anchor=\"start\" x=\"203\" y=\"-314\" font-family=\"Linux libertine\" font-size=\"10.00\">output: </text>\n",
       "<polygon fill=\"none\" stroke=\"black\" points=\"246,-306 246,-327 321,-327 321,-306 246,-306\"/>\n",
       "<text text-anchor=\"start\" x=\"251\" y=\"-314\" font-family=\"Linux libertine\" font-size=\"10.00\">(25, 25, 500) </text>\n",
       "</g>\n",
       "<!-- 5&#45;&gt;6 -->\n",
       "<g id=\"edge7\" class=\"edge\">\n",
       "<title>5&#45;&gt;6</title>\n",
       "<path fill=\"none\" stroke=\"black\" d=\"M153.35,-384.97C166.75,-375.51 182.9,-364.1 197.22,-353.98\"/>\n",
       "<polygon fill=\"black\" stroke=\"black\" points=\"199.26,-356.83 205.41,-348.2 195.22,-351.11 199.26,-356.83\"/>\n",
       "</g>\n",
       "<!-- 7 -->\n",
       "<g id=\"node8\" class=\"node\">\n",
       "<title>7</title>\n",
       "<polygon fill=\"#c1ffc1\" stroke=\"transparent\" points=\"250,-269 0,-269 0,-227 250,-227 250,-269\"/>\n",
       "<polygon fill=\"none\" stroke=\"black\" points=\"0,-227 0,-269 47,-269 47,-227 0,-227\"/>\n",
       "<text text-anchor=\"start\" x=\"10\" y=\"-251\" font-family=\"Linux libertine\" font-size=\"10.00\">LSTM</text>\n",
       "<text text-anchor=\"start\" x=\"5\" y=\"-240\" font-family=\"Linux libertine\" font-size=\"10.00\">depth:1</text>\n",
       "<polygon fill=\"none\" stroke=\"black\" points=\"47,-248 47,-269 95,-269 95,-248 47,-248\"/>\n",
       "<text text-anchor=\"start\" x=\"57\" y=\"-256\" font-family=\"Linux libertine\" font-size=\"10.00\">input:</text>\n",
       "<polygon fill=\"none\" stroke=\"black\" points=\"95,-248 95,-269 250,-269 250,-248 95,-248\"/>\n",
       "<text text-anchor=\"start\" x=\"100\" y=\"-256\" font-family=\"Linux libertine\" font-size=\"10.00\">(25, 25, 500), 2 x (1, 25, 500) </text>\n",
       "<polygon fill=\"none\" stroke=\"black\" points=\"47,-227 47,-248 95,-248 95,-227 47,-227\"/>\n",
       "<text text-anchor=\"start\" x=\"52\" y=\"-235\" font-family=\"Linux libertine\" font-size=\"10.00\">output: </text>\n",
       "<polygon fill=\"none\" stroke=\"black\" points=\"95,-227 95,-248 250,-248 250,-227 95,-227\"/>\n",
       "<text text-anchor=\"start\" x=\"100\" y=\"-235\" font-family=\"Linux libertine\" font-size=\"10.00\">(25, 25, 500), 2 x (1, 25, 500) </text>\n",
       "</g>\n",
       "<!-- 5&#45;&gt;7 -->\n",
       "<g id=\"edge8\" class=\"edge\">\n",
       "<title>5&#45;&gt;7</title>\n",
       "<path fill=\"none\" stroke=\"black\" d=\"M124.12,-384.96C123.69,-374.03 123.22,-360.28 123,-348 122.67,-329.34 122.67,-324.66 123,-306 123.15,-297.27 123.44,-287.8 123.75,-279.12\"/>\n",
       "<polygon fill=\"black\" stroke=\"black\" points=\"127.25,-279.17 124.12,-269.04 120.25,-278.9 127.25,-279.17\"/>\n",
       "<text text-anchor=\"middle\" x=\"131\" y=\"-324.5\" font-family=\"Times,serif\" font-size=\"10.00\"> x2</text>\n",
       "</g>\n",
       "<!-- 6&#45;&gt;7 -->\n",
       "<g id=\"edge9\" class=\"edge\">\n",
       "<title>6&#45;&gt;7</title>\n",
       "<path fill=\"none\" stroke=\"black\" d=\"M205.65,-305.97C192.25,-296.51 176.1,-285.1 161.78,-274.98\"/>\n",
       "<polygon fill=\"black\" stroke=\"black\" points=\"163.78,-272.11 153.59,-269.2 159.74,-277.83 163.78,-272.11\"/>\n",
       "</g>\n",
       "<!-- 8 -->\n",
       "<g id=\"node9\" class=\"node\">\n",
       "<title>8</title>\n",
       "<polygon fill=\"#c1ffc1\" stroke=\"transparent\" points=\"211.5,-190 38.5,-190 38.5,-148 211.5,-148 211.5,-190\"/>\n",
       "<polygon fill=\"none\" stroke=\"black\" points=\"39,-148 39,-190 89,-190 89,-148 39,-148\"/>\n",
       "<text text-anchor=\"start\" x=\"44\" y=\"-172\" font-family=\"Linux libertine\" font-size=\"10.00\">Dropout</text>\n",
       "<text text-anchor=\"start\" x=\"45.5\" y=\"-161\" font-family=\"Linux libertine\" font-size=\"10.00\">depth:1</text>\n",
       "<polygon fill=\"none\" stroke=\"black\" points=\"89,-169 89,-190 137,-190 137,-169 89,-169\"/>\n",
       "<text text-anchor=\"start\" x=\"99\" y=\"-177\" font-family=\"Linux libertine\" font-size=\"10.00\">input:</text>\n",
       "<polygon fill=\"none\" stroke=\"black\" points=\"137,-169 137,-190 212,-190 212,-169 137,-169\"/>\n",
       "<text text-anchor=\"start\" x=\"142\" y=\"-177\" font-family=\"Linux libertine\" font-size=\"10.00\">(25, 25, 500) </text>\n",
       "<polygon fill=\"none\" stroke=\"black\" points=\"89,-148 89,-169 137,-169 137,-148 89,-148\"/>\n",
       "<text text-anchor=\"start\" x=\"94\" y=\"-156\" font-family=\"Linux libertine\" font-size=\"10.00\">output: </text>\n",
       "<polygon fill=\"none\" stroke=\"black\" points=\"137,-148 137,-169 212,-169 212,-148 137,-148\"/>\n",
       "<text text-anchor=\"start\" x=\"142\" y=\"-156\" font-family=\"Linux libertine\" font-size=\"10.00\">(25, 25, 500) </text>\n",
       "</g>\n",
       "<!-- 7&#45;&gt;8 -->\n",
       "<g id=\"edge10\" class=\"edge\">\n",
       "<title>7&#45;&gt;8</title>\n",
       "<path fill=\"none\" stroke=\"black\" d=\"M125,-226.77C125,-218.63 125,-209.08 125,-200.16\"/>\n",
       "<polygon fill=\"black\" stroke=\"black\" points=\"128.5,-200.1 125,-190.1 121.5,-200.1 128.5,-200.1\"/>\n",
       "</g>\n",
       "<!-- 9 -->\n",
       "<g id=\"node10\" class=\"node\">\n",
       "<title>9</title>\n",
       "<polygon fill=\"#c1ffc1\" stroke=\"transparent\" points=\"216,-111 34,-111 34,-69 216,-69 216,-111\"/>\n",
       "<polygon fill=\"none\" stroke=\"black\" points=\"34,-69 34,-111 81,-111 81,-69 34,-69\"/>\n",
       "<text text-anchor=\"start\" x=\"42\" y=\"-93\" font-family=\"Linux libertine\" font-size=\"10.00\">Linear</text>\n",
       "<text text-anchor=\"start\" x=\"39\" y=\"-82\" font-family=\"Linux libertine\" font-size=\"10.00\">depth:1</text>\n",
       "<polygon fill=\"none\" stroke=\"black\" points=\"81,-90 81,-111 129,-111 129,-90 81,-90\"/>\n",
       "<text text-anchor=\"start\" x=\"91\" y=\"-98\" font-family=\"Linux libertine\" font-size=\"10.00\">input:</text>\n",
       "<polygon fill=\"none\" stroke=\"black\" points=\"129,-90 129,-111 216,-111 216,-90 129,-90\"/>\n",
       "<text text-anchor=\"start\" x=\"140\" y=\"-98\" font-family=\"Linux libertine\" font-size=\"10.00\">(25, 25, 500) </text>\n",
       "<polygon fill=\"none\" stroke=\"black\" points=\"81,-69 81,-90 129,-90 129,-69 81,-69\"/>\n",
       "<text text-anchor=\"start\" x=\"86\" y=\"-77\" font-family=\"Linux libertine\" font-size=\"10.00\">output: </text>\n",
       "<polygon fill=\"none\" stroke=\"black\" points=\"129,-69 129,-90 216,-90 216,-69 129,-69\"/>\n",
       "<text text-anchor=\"start\" x=\"134\" y=\"-77\" font-family=\"Linux libertine\" font-size=\"10.00\">(25, 25, 33278) </text>\n",
       "</g>\n",
       "<!-- 8&#45;&gt;9 -->\n",
       "<g id=\"edge11\" class=\"edge\">\n",
       "<title>8&#45;&gt;9</title>\n",
       "<path fill=\"none\" stroke=\"black\" d=\"M125,-147.77C125,-139.63 125,-130.08 125,-121.16\"/>\n",
       "<polygon fill=\"black\" stroke=\"black\" points=\"128.5,-121.1 125,-111.1 121.5,-121.1 128.5,-121.1\"/>\n",
       "</g>\n",
       "<!-- 10 -->\n",
       "<g id=\"node11\" class=\"node\">\n",
       "<title>10</title>\n",
       "<polygon fill=\"lightyellow\" stroke=\"transparent\" points=\"205.5,-32 44.5,-32 44.5,0 205.5,0 205.5,-32\"/>\n",
       "<polygon fill=\"none\" stroke=\"black\" points=\"45,0 45,-32 122,-32 122,0 45,0\"/>\n",
       "<text text-anchor=\"start\" x=\"50\" y=\"-19\" font-family=\"Linux libertine\" font-size=\"10.00\">output&#45;tensor</text>\n",
       "<text text-anchor=\"start\" x=\"65\" y=\"-8\" font-family=\"Linux libertine\" font-size=\"10.00\">depth:0</text>\n",
       "<polygon fill=\"none\" stroke=\"black\" points=\"122,0 122,-32 206,-32 206,0 122,0\"/>\n",
       "<text text-anchor=\"start\" x=\"127\" y=\"-13.5\" font-family=\"Linux libertine\" font-size=\"10.00\">(25, 25, 33278)</text>\n",
       "</g>\n",
       "<!-- 9&#45;&gt;10 -->\n",
       "<g id=\"edge12\" class=\"edge\">\n",
       "<title>9&#45;&gt;10</title>\n",
       "<path fill=\"none\" stroke=\"black\" d=\"M125,-68.94C125,-60.66 125,-50.97 125,-42.21\"/>\n",
       "<polygon fill=\"black\" stroke=\"black\" points=\"128.5,-42.15 125,-32.15 121.5,-42.15 128.5,-42.15\"/>\n",
       "</g>\n",
       "</g>\n",
       "</svg>\n"
      ],
      "text/plain": [
       "<graphviz.graphs.Digraph at 0x7f42f2da56c0>"
      ]
     },
     "execution_count": 16,
     "metadata": {},
     "output_type": "execute_result"
    }
   ],
   "source": [
    "inputs, targets = next(iter(train_loader))\n",
    "model_graph = draw_graph(model, input_data=inputs ,expand_nested=True,save_graph=True)\n",
    "model_graph.visual_graph"
   ]
  },
  {
   "cell_type": "markdown",
   "metadata": {},
   "source": [
    "## Learning Loop"
   ]
  },
  {
   "cell_type": "code",
   "execution_count": 19,
   "metadata": {},
   "outputs": [],
   "source": [
    "\n",
    "lr = 0.5\n",
    "wd = 1e-5\n",
    "optimizer = optim.SGD(model.parameters(), lr=lr, weight_decay=wd, momentum=0.9)\n",
    "loss_fn = nn.CrossEntropyLoss()  \n",
    "perp = Perplexity().to(device)"
   ]
  },
  {
   "cell_type": "code",
   "execution_count": 20,
   "metadata": {},
   "outputs": [
    {
     "name": "stderr",
     "output_type": "stream",
     "text": [
      "  0%|          | 0/3342 [00:00<?, ?batch/s]/tmp/ipykernel_16013/1059837893.py:13: UserWarning: To copy construct from a tensor, it is recommended to use sourceTensor.clone().detach() or sourceTensor.clone().detach().requires_grad_(True), rather than torch.tensor(sourceTensor).\n",
      "  return torch.tensor(input), torch.tensor(target)\n",
      "Epoch 0: 100%|██████████| 3342/3342 [01:16<00:00, 43.95batch/s, loss=6.38, perplexity=759]    \n"
     ]
    },
    {
     "name": "stdout",
     "output_type": "stream",
     "text": [
      "Valid: Loss = 5.762 Perplexity= 329.7, LR = 0.5\n",
      "Model Saved!\n",
      "\n"
     ]
    },
    {
     "name": "stderr",
     "output_type": "stream",
     "text": [
      "Epoch 1: 100%|██████████| 3342/3342 [01:14<00:00, 44.75batch/s, loss=5.67, perplexity=306]\n"
     ]
    },
    {
     "name": "stdout",
     "output_type": "stream",
     "text": [
      "Valid: Loss = 5.233 Perplexity= 194.8, LR = 0.5\n",
      "Model Saved!\n",
      "\n"
     ]
    },
    {
     "name": "stderr",
     "output_type": "stream",
     "text": [
      "Epoch 2: 100%|██████████| 3342/3342 [01:08<00:00, 48.96batch/s, loss=5.07, perplexity=168]\n"
     ]
    },
    {
     "name": "stdout",
     "output_type": "stream",
     "text": [
      "Valid: Loss = 4.611 Perplexity= 104.5, LR = 0.5\n",
      "Model Saved!\n",
      "\n"
     ]
    },
    {
     "name": "stderr",
     "output_type": "stream",
     "text": [
      "Epoch 3: 100%|██████████| 3342/3342 [01:09<00:00, 48.28batch/s, loss=4.51, perplexity=95.8]\n"
     ]
    },
    {
     "name": "stdout",
     "output_type": "stream",
     "text": [
      "Valid: Loss = 4.147 Perplexity= 65.62, LR = 0.5\n",
      "Model Saved!\n",
      "\n"
     ]
    },
    {
     "name": "stderr",
     "output_type": "stream",
     "text": [
      "Epoch 4: 100%|██████████| 3342/3342 [01:08<00:00, 48.97batch/s, loss=4.1, perplexity=63.4] \n"
     ]
    },
    {
     "name": "stdout",
     "output_type": "stream",
     "text": [
      "Valid: Loss = 3.806 Perplexity= 46.71, LR = 0.5\n",
      "Model Saved!\n",
      "\n"
     ]
    },
    {
     "name": "stderr",
     "output_type": "stream",
     "text": [
      "Epoch 5: 100%|██████████| 3342/3342 [01:08<00:00, 48.56batch/s, loss=3.78, perplexity=45.8]\n"
     ]
    },
    {
     "name": "stdout",
     "output_type": "stream",
     "text": [
      "Valid: Loss = 3.533 Perplexity= 35.53, LR = 0.5\n",
      "Model Saved!\n",
      "\n"
     ]
    },
    {
     "name": "stderr",
     "output_type": "stream",
     "text": [
      "Epoch 6: 100%|██████████| 3342/3342 [01:08<00:00, 48.87batch/s, loss=3.5, perplexity=34.5] \n"
     ]
    },
    {
     "name": "stdout",
     "output_type": "stream",
     "text": [
      "Valid: Loss = 3.274 Perplexity= 27.47, LR = 0.5\n",
      "Model Saved!\n",
      "\n"
     ]
    },
    {
     "name": "stderr",
     "output_type": "stream",
     "text": [
      "Epoch 7: 100%|██████████| 3342/3342 [01:09<00:00, 48.12batch/s, loss=3.26, perplexity=27]  \n"
     ]
    },
    {
     "name": "stdout",
     "output_type": "stream",
     "text": [
      "Valid: Loss = 3.085 Perplexity= 22.72, LR = 0.5\n",
      "Model Saved!\n",
      "\n"
     ]
    },
    {
     "name": "stderr",
     "output_type": "stream",
     "text": [
      "Epoch 8: 100%|██████████| 3342/3342 [01:09<00:00, 48.28batch/s, loss=3.04, perplexity=21.8]\n"
     ]
    },
    {
     "name": "stdout",
     "output_type": "stream",
     "text": [
      "Valid: Loss = 2.891 Perplexity= 18.71, LR = 0.5\n",
      "Model Saved!\n",
      "\n"
     ]
    },
    {
     "name": "stderr",
     "output_type": "stream",
     "text": [
      "Epoch 9: 100%|██████████| 3342/3342 [01:09<00:00, 47.85batch/s, loss=2.85, perplexity=18]  \n"
     ]
    },
    {
     "name": "stdout",
     "output_type": "stream",
     "text": [
      "Valid: Loss = 2.728 Perplexity= 15.9, LR = 0.5\n",
      "Model Saved!\n",
      "\n"
     ]
    },
    {
     "name": "stderr",
     "output_type": "stream",
     "text": [
      "Epoch 10: 100%|██████████| 3342/3342 [01:09<00:00, 48.23batch/s, loss=2.75, perplexity=16.5]\n"
     ]
    },
    {
     "name": "stdout",
     "output_type": "stream",
     "text": [
      "Valid: Loss = 2.636 Perplexity= 14.49, LR = 0.5\n",
      "Model Saved!\n",
      "\n"
     ]
    },
    {
     "name": "stderr",
     "output_type": "stream",
     "text": [
      "Epoch 11: 100%|██████████| 3342/3342 [01:08<00:00, 48.63batch/s, loss=2.55, perplexity=13.2]\n"
     ]
    },
    {
     "name": "stdout",
     "output_type": "stream",
     "text": [
      "Valid: Loss = 2.492 Perplexity= 12.53, LR = 0.5\n",
      "Model Saved!\n",
      "\n"
     ]
    },
    {
     "name": "stderr",
     "output_type": "stream",
     "text": [
      "Epoch 12: 100%|██████████| 3342/3342 [01:09<00:00, 47.90batch/s, loss=2.4, perplexity=11.5] \n"
     ]
    },
    {
     "name": "stdout",
     "output_type": "stream",
     "text": [
      "Valid: Loss = 2.337 Perplexity= 10.71, LR = 0.5\n",
      "Model Saved!\n",
      "\n"
     ]
    },
    {
     "name": "stderr",
     "output_type": "stream",
     "text": [
      "Epoch 13: 100%|██████████| 3342/3342 [01:10<00:00, 47.70batch/s, loss=2.28, perplexity=10.1]\n"
     ]
    },
    {
     "name": "stdout",
     "output_type": "stream",
     "text": [
      "Valid: Loss = 2.268 Perplexity= 10.02, LR = 0.5\n",
      "Model Saved!\n",
      "\n"
     ]
    },
    {
     "name": "stderr",
     "output_type": "stream",
     "text": [
      "Epoch 14: 100%|██████████| 3342/3342 [01:10<00:00, 47.72batch/s, loss=2.19, perplexity=9.17]\n"
     ]
    },
    {
     "name": "stdout",
     "output_type": "stream",
     "text": [
      "Valid: Loss = 2.173 Perplexity= 9.092, LR = 0.5\n",
      "Model Saved!\n",
      "\n"
     ]
    },
    {
     "name": "stderr",
     "output_type": "stream",
     "text": [
      "Epoch 15: 100%|██████████| 3342/3342 [01:09<00:00, 47.79batch/s, loss=2.1, perplexity=8.37] \n"
     ]
    },
    {
     "name": "stdout",
     "output_type": "stream",
     "text": [
      "Valid: Loss = 2.106 Perplexity= 8.49, LR = 0.5\n",
      "Model Saved!\n",
      "\n"
     ]
    },
    {
     "name": "stderr",
     "output_type": "stream",
     "text": [
      "Epoch 16: 100%|██████████| 3342/3342 [01:09<00:00, 48.29batch/s, loss=2.02, perplexity=7.71]\n"
     ]
    },
    {
     "name": "stdout",
     "output_type": "stream",
     "text": [
      "Valid: Loss = 2.061 Perplexity= 8.117, LR = 0.5\n",
      "Model Saved!\n",
      "\n"
     ]
    },
    {
     "name": "stderr",
     "output_type": "stream",
     "text": [
      "Epoch 17: 100%|██████████| 3342/3342 [01:09<00:00, 48.02batch/s, loss=1.94, perplexity=7.18]\n"
     ]
    },
    {
     "name": "stdout",
     "output_type": "stream",
     "text": [
      "Valid: Loss = 1.986 Perplexity= 7.53, LR = 0.5\n",
      "Model Saved!\n",
      "\n"
     ]
    },
    {
     "name": "stderr",
     "output_type": "stream",
     "text": [
      "Epoch 18: 100%|██████████| 3342/3342 [01:09<00:00, 48.14batch/s, loss=1.88, perplexity=6.71]\n"
     ]
    },
    {
     "name": "stdout",
     "output_type": "stream",
     "text": [
      "Valid: Loss = 1.937 Perplexity= 7.167, LR = 0.5\n",
      "Model Saved!\n",
      "\n"
     ]
    },
    {
     "name": "stderr",
     "output_type": "stream",
     "text": [
      "Epoch 19: 100%|██████████| 3342/3342 [01:08<00:00, 48.52batch/s, loss=1.82, perplexity=6.33]\n"
     ]
    },
    {
     "name": "stdout",
     "output_type": "stream",
     "text": [
      "Valid: Loss = 1.897 Perplexity= 6.882, LR = 0.5\n",
      "Model Saved!\n",
      "\n"
     ]
    },
    {
     "name": "stderr",
     "output_type": "stream",
     "text": [
      "Epoch 20: 100%|██████████| 3342/3342 [01:09<00:00, 48.02batch/s, loss=1.77, perplexity=5.98]\n"
     ]
    },
    {
     "name": "stdout",
     "output_type": "stream",
     "text": [
      "Valid: Loss = 1.828 Perplexity= 6.416, LR = 0.5\n",
      "Model Saved!\n",
      "\n"
     ]
    },
    {
     "name": "stderr",
     "output_type": "stream",
     "text": [
      "Epoch 21: 100%|██████████| 3342/3342 [01:09<00:00, 47.81batch/s, loss=1.72, perplexity=5.73]\n"
     ]
    },
    {
     "name": "stdout",
     "output_type": "stream",
     "text": [
      "Valid: Loss = 1.822 Perplexity= 6.37, LR = 0.5\n",
      "Model Saved!\n",
      "\n"
     ]
    },
    {
     "name": "stderr",
     "output_type": "stream",
     "text": [
      "Epoch 22: 100%|██████████| 3342/3342 [01:09<00:00, 48.00batch/s, loss=1.67, perplexity=5.45]\n"
     ]
    },
    {
     "name": "stdout",
     "output_type": "stream",
     "text": [
      "Valid: Loss = 1.77 Perplexity= 6.049, LR = 0.5\n",
      "Model Saved!\n",
      "\n"
     ]
    },
    {
     "name": "stderr",
     "output_type": "stream",
     "text": [
      "Epoch 23: 100%|██████████| 3342/3342 [01:09<00:00, 48.19batch/s, loss=1.63, perplexity=5.22]\n"
     ]
    },
    {
     "name": "stdout",
     "output_type": "stream",
     "text": [
      "Valid: Loss = 1.718 Perplexity= 5.743, LR = 0.5\n",
      "Model Saved!\n",
      "\n"
     ]
    },
    {
     "name": "stderr",
     "output_type": "stream",
     "text": [
      "Epoch 24: 100%|██████████| 3342/3342 [01:10<00:00, 47.52batch/s, loss=1.59, perplexity=5.01]\n"
     ]
    },
    {
     "name": "stdout",
     "output_type": "stream",
     "text": [
      "Valid: Loss = 1.687 Perplexity= 5.564, LR = 0.5\n",
      "Model Saved!\n",
      "\n"
     ]
    },
    {
     "name": "stderr",
     "output_type": "stream",
     "text": [
      "Epoch 25: 100%|██████████| 3342/3342 [01:09<00:00, 48.12batch/s, loss=1.56, perplexity=4.85]\n"
     ]
    },
    {
     "name": "stdout",
     "output_type": "stream",
     "text": [
      "Valid: Loss = 1.661 Perplexity= 5.416, LR = 0.5\n",
      "Model Saved!\n",
      "\n"
     ]
    },
    {
     "name": "stderr",
     "output_type": "stream",
     "text": [
      "Epoch 26: 100%|██████████| 3342/3342 [01:10<00:00, 47.63batch/s, loss=1.53, perplexity=4.7] \n"
     ]
    },
    {
     "name": "stdout",
     "output_type": "stream",
     "text": [
      "Valid: Loss = 1.662 Perplexity= 5.419, LR = 0.5\n",
      "\n"
     ]
    },
    {
     "name": "stderr",
     "output_type": "stream",
     "text": [
      "Epoch 27: 100%|██████████| 3342/3342 [01:09<00:00, 48.16batch/s, loss=1.17, perplexity=3.28]\n"
     ]
    },
    {
     "name": "stdout",
     "output_type": "stream",
     "text": [
      "Valid: Loss = 1.26 Perplexity= 3.611, LR = 0.25\n",
      "Model Saved!\n",
      "\n"
     ]
    },
    {
     "name": "stderr",
     "output_type": "stream",
     "text": [
      "Epoch 28: 100%|██████████| 3342/3342 [01:09<00:00, 48.13batch/s, loss=1.06, perplexity=2.94]\n"
     ]
    },
    {
     "name": "stdout",
     "output_type": "stream",
     "text": [
      "Valid: Loss = 1.229 Perplexity= 3.495, LR = 0.25\n",
      "Model Saved!\n",
      "\n"
     ]
    },
    {
     "name": "stderr",
     "output_type": "stream",
     "text": [
      "Epoch 29: 100%|██████████| 3342/3342 [01:09<00:00, 48.13batch/s, loss=1.02, perplexity=2.81]\n"
     ]
    },
    {
     "name": "stdout",
     "output_type": "stream",
     "text": [
      "Valid: Loss = 1.193 Perplexity= 3.37, LR = 0.25\n",
      "Model Saved!\n",
      "\n"
     ]
    },
    {
     "name": "stderr",
     "output_type": "stream",
     "text": [
      "Epoch 30: 100%|██████████| 3342/3342 [01:08<00:00, 48.49batch/s, loss=0.996, perplexity=2.74]\n"
     ]
    },
    {
     "name": "stdout",
     "output_type": "stream",
     "text": [
      "Valid: Loss = 1.196 Perplexity= 3.38, LR = 0.25\n",
      "\n"
     ]
    },
    {
     "name": "stderr",
     "output_type": "stream",
     "text": [
      "Epoch 31: 100%|██████████| 3342/3342 [01:08<00:00, 48.47batch/s, loss=0.846, perplexity=2.35]\n"
     ]
    },
    {
     "name": "stdout",
     "output_type": "stream",
     "text": [
      "Valid: Loss = 1.016 Perplexity= 2.816, LR = 0.125\n",
      "Model Saved!\n",
      "\n"
     ]
    },
    {
     "name": "stderr",
     "output_type": "stream",
     "text": [
      "Epoch 32: 100%|██████████| 3342/3342 [01:09<00:00, 48.31batch/s, loss=0.795, perplexity=2.23]\n"
     ]
    },
    {
     "name": "stdout",
     "output_type": "stream",
     "text": [
      "Valid: Loss = 0.9928 Perplexity= 2.749, LR = 0.125\n",
      "Model Saved!\n",
      "\n"
     ]
    },
    {
     "name": "stderr",
     "output_type": "stream",
     "text": [
      "Epoch 33: 100%|██████████| 3342/3342 [01:10<00:00, 47.71batch/s, loss=0.773, perplexity=2.18]\n"
     ]
    },
    {
     "name": "stdout",
     "output_type": "stream",
     "text": [
      "Valid: Loss = 0.9799 Perplexity= 2.71, LR = 0.125\n",
      "Model Saved!\n",
      "\n"
     ]
    },
    {
     "name": "stderr",
     "output_type": "stream",
     "text": [
      "Epoch 34: 100%|██████████| 3342/3342 [01:09<00:00, 47.89batch/s, loss=0.76, perplexity=2.15] \n"
     ]
    },
    {
     "name": "stdout",
     "output_type": "stream",
     "text": [
      "Valid: Loss = 0.9682 Perplexity= 2.679, LR = 0.125\n",
      "Model Saved!\n",
      "\n"
     ]
    },
    {
     "name": "stderr",
     "output_type": "stream",
     "text": [
      "Epoch 35: 100%|██████████| 3342/3342 [01:09<00:00, 47.99batch/s, loss=0.749, perplexity=2.13]\n"
     ]
    },
    {
     "name": "stdout",
     "output_type": "stream",
     "text": [
      "Valid: Loss = 0.9642 Perplexity= 2.668, LR = 0.125\n",
      "Model Saved!\n",
      "\n"
     ]
    },
    {
     "name": "stderr",
     "output_type": "stream",
     "text": [
      "Epoch 36: 100%|██████████| 3342/3342 [01:09<00:00, 47.89batch/s, loss=0.74, perplexity=2.11] \n"
     ]
    },
    {
     "name": "stdout",
     "output_type": "stream",
     "text": [
      "Valid: Loss = 0.9563 Perplexity= 2.646, LR = 0.125\n",
      "Model Saved!\n",
      "\n"
     ]
    },
    {
     "name": "stderr",
     "output_type": "stream",
     "text": [
      "Epoch 37: 100%|██████████| 3342/3342 [01:08<00:00, 48.61batch/s, loss=0.732, perplexity=2.09]\n"
     ]
    },
    {
     "name": "stdout",
     "output_type": "stream",
     "text": [
      "Valid: Loss = 0.9561 Perplexity= 2.645, LR = 0.125\n",
      "Model Saved!\n",
      "\n"
     ]
    },
    {
     "name": "stderr",
     "output_type": "stream",
     "text": [
      "Epoch 38: 100%|██████████| 3342/3342 [01:08<00:00, 48.54batch/s, loss=0.725, perplexity=2.08]\n"
     ]
    },
    {
     "name": "stdout",
     "output_type": "stream",
     "text": [
      "Valid: Loss = 0.9473 Perplexity= 2.621, LR = 0.125\n",
      "Model Saved!\n",
      "\n"
     ]
    },
    {
     "name": "stderr",
     "output_type": "stream",
     "text": [
      "Epoch 39: 100%|██████████| 3342/3342 [01:09<00:00, 48.42batch/s, loss=0.72, perplexity=2.07] \n"
     ]
    },
    {
     "name": "stdout",
     "output_type": "stream",
     "text": [
      "Valid: Loss = 0.9442 Perplexity= 2.613, LR = 0.125\n",
      "Model Saved!\n",
      "\n"
     ]
    },
    {
     "name": "stderr",
     "output_type": "stream",
     "text": [
      "Epoch 40: 100%|██████████| 3342/3342 [01:09<00:00, 47.79batch/s, loss=0.716, perplexity=2.06]\n"
     ]
    },
    {
     "name": "stdout",
     "output_type": "stream",
     "text": [
      "Valid: Loss = 0.9465 Perplexity= 2.619, LR = 0.125\n",
      "\n"
     ]
    },
    {
     "name": "stderr",
     "output_type": "stream",
     "text": [
      "Epoch 41: 100%|██████████| 3342/3342 [01:09<00:00, 47.90batch/s, loss=0.632, perplexity=1.89]\n"
     ]
    },
    {
     "name": "stdout",
     "output_type": "stream",
     "text": [
      "Valid: Loss = 0.8542 Perplexity= 2.383, LR = 0.0625\n",
      "Model Saved!\n",
      "\n"
     ]
    },
    {
     "name": "stderr",
     "output_type": "stream",
     "text": [
      "Epoch 42: 100%|██████████| 3342/3342 [01:09<00:00, 48.38batch/s, loss=0.611, perplexity=1.85]\n"
     ]
    },
    {
     "name": "stdout",
     "output_type": "stream",
     "text": [
      "Valid: Loss = 0.8466 Perplexity= 2.365, LR = 0.0625\n",
      "Model Saved!\n",
      "\n"
     ]
    },
    {
     "name": "stderr",
     "output_type": "stream",
     "text": [
      "Epoch 43: 100%|██████████| 3342/3342 [01:07<00:00, 49.16batch/s, loss=0.602, perplexity=1.83]\n"
     ]
    },
    {
     "name": "stdout",
     "output_type": "stream",
     "text": [
      "Valid: Loss = 0.8341 Perplexity= 2.335, LR = 0.0625\n",
      "Model Saved!\n",
      "\n"
     ]
    },
    {
     "name": "stderr",
     "output_type": "stream",
     "text": [
      "Epoch 44: 100%|██████████| 3342/3342 [01:10<00:00, 47.62batch/s, loss=0.596, perplexity=1.82]\n"
     ]
    },
    {
     "name": "stdout",
     "output_type": "stream",
     "text": [
      "Valid: Loss = 0.8329 Perplexity= 2.332, LR = 0.0625\n",
      "Model Saved!\n",
      "\n"
     ]
    },
    {
     "name": "stderr",
     "output_type": "stream",
     "text": [
      "Epoch 45: 100%|██████████| 3342/3342 [01:11<00:00, 46.61batch/s, loss=0.593, perplexity=1.82]\n"
     ]
    },
    {
     "name": "stdout",
     "output_type": "stream",
     "text": [
      "Valid: Loss = 0.831 Perplexity= 2.327, LR = 0.0625\n",
      "Model Saved!\n",
      "\n"
     ]
    },
    {
     "name": "stderr",
     "output_type": "stream",
     "text": [
      "Epoch 46: 100%|██████████| 3342/3342 [01:16<00:00, 43.63batch/s, loss=0.588, perplexity=1.81]\n"
     ]
    },
    {
     "name": "stdout",
     "output_type": "stream",
     "text": [
      "Valid: Loss = 0.829 Perplexity= 2.322, LR = 0.0625\n",
      "Model Saved!\n",
      "\n"
     ]
    },
    {
     "name": "stderr",
     "output_type": "stream",
     "text": [
      "Epoch 47: 100%|██████████| 3342/3342 [01:16<00:00, 43.51batch/s, loss=0.584, perplexity=1.8] \n"
     ]
    },
    {
     "name": "stdout",
     "output_type": "stream",
     "text": [
      "Valid: Loss = 0.8257 Perplexity= 2.314, LR = 0.0625\n",
      "Model Saved!\n",
      "\n"
     ]
    },
    {
     "name": "stderr",
     "output_type": "stream",
     "text": [
      "Epoch 48: 100%|██████████| 3342/3342 [01:17<00:00, 43.25batch/s, loss=0.581, perplexity=1.79]\n"
     ]
    },
    {
     "name": "stdout",
     "output_type": "stream",
     "text": [
      "Valid: Loss = 0.8249 Perplexity= 2.312, LR = 0.0625\n",
      "Model Saved!\n",
      "\n"
     ]
    },
    {
     "name": "stderr",
     "output_type": "stream",
     "text": [
      "Epoch 49: 100%|██████████| 3342/3342 [01:09<00:00, 48.15batch/s, loss=0.578, perplexity=1.79]\n"
     ]
    },
    {
     "name": "stdout",
     "output_type": "stream",
     "text": [
      "Valid: Loss = 0.8234 Perplexity= 2.309, LR = 0.0625\n",
      "Model Saved!\n",
      "\n"
     ]
    },
    {
     "name": "stderr",
     "output_type": "stream",
     "text": [
      "Epoch 50: 100%|██████████| 3342/3342 [01:09<00:00, 47.91batch/s, loss=0.574, perplexity=1.78]\n"
     ]
    },
    {
     "name": "stdout",
     "output_type": "stream",
     "text": [
      "Valid: Loss = 0.822 Perplexity= 2.305, LR = 0.0625\n",
      "Model Saved!\n",
      "\n"
     ]
    },
    {
     "name": "stderr",
     "output_type": "stream",
     "text": [
      "Epoch 51: 100%|██████████| 3342/3342 [01:09<00:00, 48.17batch/s, loss=0.572, perplexity=1.78]\n"
     ]
    },
    {
     "name": "stdout",
     "output_type": "stream",
     "text": [
      "Valid: Loss = 0.8188 Perplexity= 2.297, LR = 0.0625\n",
      "Model Saved!\n",
      "\n"
     ]
    },
    {
     "name": "stderr",
     "output_type": "stream",
     "text": [
      "Epoch 52: 100%|██████████| 3342/3342 [01:10<00:00, 47.51batch/s, loss=0.569, perplexity=1.77]\n"
     ]
    },
    {
     "name": "stdout",
     "output_type": "stream",
     "text": [
      "Valid: Loss = 0.8127 Perplexity= 2.284, LR = 0.0625\n",
      "Model Saved!\n",
      "\n"
     ]
    },
    {
     "name": "stderr",
     "output_type": "stream",
     "text": [
      "Epoch 53: 100%|██████████| 3342/3342 [01:09<00:00, 48.02batch/s, loss=0.565, perplexity=1.77]\n"
     ]
    },
    {
     "name": "stdout",
     "output_type": "stream",
     "text": [
      "Valid: Loss = 0.8134 Perplexity= 2.284, LR = 0.0625\n",
      "\n"
     ]
    },
    {
     "name": "stderr",
     "output_type": "stream",
     "text": [
      "Epoch 54: 100%|██████████| 3342/3342 [01:09<00:00, 47.83batch/s, loss=0.526, perplexity=1.7] \n"
     ]
    },
    {
     "name": "stdout",
     "output_type": "stream",
     "text": [
      "Valid: Loss = 0.7646 Perplexity= 2.174, LR = 0.03125\n",
      "Model Saved!\n",
      "\n"
     ]
    },
    {
     "name": "stderr",
     "output_type": "stream",
     "text": [
      "Epoch 55: 100%|██████████| 3342/3342 [01:09<00:00, 48.00batch/s, loss=0.516, perplexity=1.68]\n"
     ]
    },
    {
     "name": "stdout",
     "output_type": "stream",
     "text": [
      "Valid: Loss = 0.7597 Perplexity= 2.163, LR = 0.03125\n",
      "Model Saved!\n",
      "\n"
     ]
    },
    {
     "name": "stderr",
     "output_type": "stream",
     "text": [
      "Epoch 56: 100%|██████████| 3342/3342 [01:09<00:00, 48.11batch/s, loss=0.511, perplexity=1.67]\n"
     ]
    },
    {
     "name": "stdout",
     "output_type": "stream",
     "text": [
      "Valid: Loss = 0.7576 Perplexity= 2.158, LR = 0.03125\n",
      "Model Saved!\n",
      "\n"
     ]
    },
    {
     "name": "stderr",
     "output_type": "stream",
     "text": [
      "Epoch 57: 100%|██████████| 3342/3342 [01:10<00:00, 47.13batch/s, loss=0.508, perplexity=1.67]\n"
     ]
    },
    {
     "name": "stdout",
     "output_type": "stream",
     "text": [
      "Valid: Loss = 0.7566 Perplexity= 2.156, LR = 0.03125\n",
      "Model Saved!\n",
      "\n"
     ]
    },
    {
     "name": "stderr",
     "output_type": "stream",
     "text": [
      "Epoch 58: 100%|██████████| 3342/3342 [01:10<00:00, 47.40batch/s, loss=0.505, perplexity=1.66]\n"
     ]
    },
    {
     "name": "stdout",
     "output_type": "stream",
     "text": [
      "Valid: Loss = 0.7553 Perplexity= 2.153, LR = 0.03125\n",
      "Model Saved!\n",
      "\n"
     ]
    },
    {
     "name": "stderr",
     "output_type": "stream",
     "text": [
      "Epoch 59: 100%|██████████| 3342/3342 [01:10<00:00, 47.58batch/s, loss=0.503, perplexity=1.66]\n"
     ]
    },
    {
     "name": "stdout",
     "output_type": "stream",
     "text": [
      "Valid: Loss = 0.7517 Perplexity= 2.145, LR = 0.03125\n",
      "Model Saved!\n",
      "\n"
     ]
    },
    {
     "name": "stderr",
     "output_type": "stream",
     "text": [
      "Epoch 60: 100%|██████████| 3342/3342 [01:10<00:00, 47.46batch/s, loss=0.5, perplexity=1.65]  \n"
     ]
    },
    {
     "name": "stdout",
     "output_type": "stream",
     "text": [
      "Valid: Loss = 0.7489 Perplexity= 2.139, LR = 0.03125\n",
      "Model Saved!\n",
      "\n"
     ]
    },
    {
     "name": "stderr",
     "output_type": "stream",
     "text": [
      "Epoch 61: 100%|██████████| 3342/3342 [01:10<00:00, 47.74batch/s, loss=0.498, perplexity=1.65]\n"
     ]
    },
    {
     "name": "stdout",
     "output_type": "stream",
     "text": [
      "Valid: Loss = 0.7495 Perplexity= 2.14, LR = 0.03125\n",
      "\n"
     ]
    },
    {
     "name": "stderr",
     "output_type": "stream",
     "text": [
      "Epoch 62: 100%|██████████| 3342/3342 [01:10<00:00, 47.19batch/s, loss=0.486, perplexity=1.63]\n"
     ]
    },
    {
     "name": "stdout",
     "output_type": "stream",
     "text": [
      "Valid: Loss = 0.7229 Perplexity= 2.083, LR = 0.015625\n",
      "Model Saved!\n",
      "\n"
     ]
    },
    {
     "name": "stderr",
     "output_type": "stream",
     "text": [
      "Epoch 63: 100%|██████████| 3342/3342 [01:10<00:00, 47.40batch/s, loss=0.483, perplexity=1.63]\n"
     ]
    },
    {
     "name": "stdout",
     "output_type": "stream",
     "text": [
      "Valid: Loss = 0.722 Perplexity= 2.081, LR = 0.015625\n",
      "Model Saved!\n",
      "\n"
     ]
    },
    {
     "name": "stderr",
     "output_type": "stream",
     "text": [
      "Epoch 64: 100%|██████████| 3342/3342 [01:10<00:00, 47.29batch/s, loss=0.481, perplexity=1.62]\n"
     ]
    },
    {
     "name": "stdout",
     "output_type": "stream",
     "text": [
      "Valid: Loss = 0.7183 Perplexity= 2.073, LR = 0.015625\n",
      "Model Saved!\n",
      "\n"
     ]
    },
    {
     "name": "stderr",
     "output_type": "stream",
     "text": [
      "Epoch 65: 100%|██████████| 3342/3342 [01:09<00:00, 47.75batch/s, loss=0.479, perplexity=1.62]\n"
     ]
    },
    {
     "name": "stdout",
     "output_type": "stream",
     "text": [
      "Valid: Loss = 0.7176 Perplexity= 2.072, LR = 0.015625\n",
      "Model Saved!\n",
      "\n"
     ]
    },
    {
     "name": "stderr",
     "output_type": "stream",
     "text": [
      "Epoch 66: 100%|██████████| 3342/3342 [01:10<00:00, 47.55batch/s, loss=0.477, perplexity=1.62]\n"
     ]
    },
    {
     "name": "stdout",
     "output_type": "stream",
     "text": [
      "Valid: Loss = 0.7164 Perplexity= 2.069, LR = 0.015625\n",
      "Model Saved!\n",
      "\n"
     ]
    },
    {
     "name": "stderr",
     "output_type": "stream",
     "text": [
      "Epoch 67: 100%|██████████| 3342/3342 [01:10<00:00, 47.12batch/s, loss=0.476, perplexity=1.61]\n"
     ]
    },
    {
     "name": "stdout",
     "output_type": "stream",
     "text": [
      "Valid: Loss = 0.714 Perplexity= 2.064, LR = 0.015625\n",
      "Model Saved!\n",
      "\n"
     ]
    },
    {
     "name": "stderr",
     "output_type": "stream",
     "text": [
      "Epoch 68: 100%|██████████| 3342/3342 [01:09<00:00, 48.02batch/s, loss=0.474, perplexity=1.61]\n"
     ]
    },
    {
     "name": "stdout",
     "output_type": "stream",
     "text": [
      "Valid: Loss = 0.7148 Perplexity= 2.066, LR = 0.015625\n",
      "\n"
     ]
    },
    {
     "name": "stderr",
     "output_type": "stream",
     "text": [
      "Epoch 69: 100%|██████████| 3342/3342 [01:10<00:00, 47.55batch/s, loss=0.474, perplexity=1.61]\n"
     ]
    },
    {
     "name": "stdout",
     "output_type": "stream",
     "text": [
      "Valid: Loss = 0.6975 Perplexity= 2.03, LR = 0.0078125\n",
      "Model Saved!\n",
      "\n"
     ]
    },
    {
     "name": "stderr",
     "output_type": "stream",
     "text": [
      "Epoch 70: 100%|██████████| 3342/3342 [01:11<00:00, 47.05batch/s, loss=0.472, perplexity=1.61]\n"
     ]
    },
    {
     "name": "stdout",
     "output_type": "stream",
     "text": [
      "Valid: Loss = 0.6966 Perplexity= 2.028, LR = 0.0078125\n",
      "Model Saved!\n",
      "\n"
     ]
    },
    {
     "name": "stderr",
     "output_type": "stream",
     "text": [
      "Epoch 71: 100%|██████████| 3342/3342 [01:10<00:00, 47.51batch/s, loss=0.472, perplexity=1.61]\n"
     ]
    },
    {
     "name": "stdout",
     "output_type": "stream",
     "text": [
      "Valid: Loss = 0.6953 Perplexity= 2.025, LR = 0.0078125\n",
      "Model Saved!\n",
      "\n"
     ]
    },
    {
     "name": "stderr",
     "output_type": "stream",
     "text": [
      "Epoch 72: 100%|██████████| 3342/3342 [01:10<00:00, 47.41batch/s, loss=0.471, perplexity=1.61]\n"
     ]
    },
    {
     "name": "stdout",
     "output_type": "stream",
     "text": [
      "Valid: Loss = 0.6948 Perplexity= 2.024, LR = 0.0078125\n",
      "Model Saved!\n",
      "\n"
     ]
    },
    {
     "name": "stderr",
     "output_type": "stream",
     "text": [
      "Epoch 73: 100%|██████████| 3342/3342 [01:10<00:00, 47.30batch/s, loss=0.47, perplexity=1.6]  \n"
     ]
    },
    {
     "name": "stdout",
     "output_type": "stream",
     "text": [
      "Valid: Loss = 0.6911 Perplexity= 2.016, LR = 0.0078125\n",
      "Model Saved!\n",
      "\n"
     ]
    },
    {
     "name": "stderr",
     "output_type": "stream",
     "text": [
      "Epoch 74: 100%|██████████| 3342/3342 [01:09<00:00, 48.12batch/s, loss=0.47, perplexity=1.6]  \n"
     ]
    },
    {
     "name": "stdout",
     "output_type": "stream",
     "text": [
      "Valid: Loss = 0.6909 Perplexity= 2.016, LR = 0.0078125\n",
      "Model Saved!\n",
      "\n"
     ]
    },
    {
     "name": "stderr",
     "output_type": "stream",
     "text": [
      "Epoch 75: 100%|██████████| 3342/3342 [01:10<00:00, 47.70batch/s, loss=0.469, perplexity=1.6] \n"
     ]
    },
    {
     "name": "stdout",
     "output_type": "stream",
     "text": [
      "Valid: Loss = 0.6914 Perplexity= 2.017, LR = 0.0078125\n",
      "\n"
     ]
    },
    {
     "name": "stderr",
     "output_type": "stream",
     "text": [
      "Epoch 76: 100%|██████████| 3342/3342 [01:11<00:00, 47.03batch/s, loss=0.471, perplexity=1.61]\n"
     ]
    },
    {
     "name": "stdout",
     "output_type": "stream",
     "text": [
      "Valid: Loss = 0.6833 Perplexity= 2.001, LR = 0.00390625\n",
      "Model Saved!\n",
      "\n"
     ]
    },
    {
     "name": "stderr",
     "output_type": "stream",
     "text": [
      "Epoch 77: 100%|██████████| 3342/3342 [01:10<00:00, 47.23batch/s, loss=0.471, perplexity=1.61]\n"
     ]
    },
    {
     "name": "stdout",
     "output_type": "stream",
     "text": [
      "Valid: Loss = 0.6808 Perplexity= 1.995, LR = 0.00390625\n",
      "Model Saved!\n",
      "\n"
     ]
    },
    {
     "name": "stderr",
     "output_type": "stream",
     "text": [
      "Epoch 78: 100%|██████████| 3342/3342 [01:10<00:00, 47.60batch/s, loss=0.47, perplexity=1.61] \n"
     ]
    },
    {
     "name": "stdout",
     "output_type": "stream",
     "text": [
      "Valid: Loss = 0.6788 Perplexity= 1.991, LR = 0.00390625\n",
      "Model Saved!\n",
      "\n"
     ]
    },
    {
     "name": "stderr",
     "output_type": "stream",
     "text": [
      "Epoch 79: 100%|██████████| 3342/3342 [01:10<00:00, 47.59batch/s, loss=0.469, perplexity=1.6] \n"
     ]
    },
    {
     "name": "stdout",
     "output_type": "stream",
     "text": [
      "Valid: Loss = 0.6797 Perplexity= 1.993, LR = 0.00390625\n",
      "\n"
     ]
    },
    {
     "name": "stderr",
     "output_type": "stream",
     "text": [
      "Epoch 80: 100%|██████████| 3342/3342 [01:11<00:00, 46.72batch/s, loss=0.472, perplexity=1.61]\n"
     ]
    },
    {
     "name": "stdout",
     "output_type": "stream",
     "text": [
      "Valid: Loss = 0.6729 Perplexity= 1.979, LR = 0.001953125\n",
      "Model Saved!\n",
      "\n"
     ]
    },
    {
     "name": "stderr",
     "output_type": "stream",
     "text": [
      "Epoch 81: 100%|██████████| 3342/3342 [01:11<00:00, 46.69batch/s, loss=0.469, perplexity=1.6] \n"
     ]
    },
    {
     "name": "stdout",
     "output_type": "stream",
     "text": [
      "Valid: Loss = 0.672 Perplexity= 1.978, LR = 0.001953125\n",
      "Model Saved!\n",
      "\n"
     ]
    },
    {
     "name": "stderr",
     "output_type": "stream",
     "text": [
      "Epoch 82: 100%|██████████| 3342/3342 [01:10<00:00, 47.69batch/s, loss=0.468, perplexity=1.6] \n"
     ]
    },
    {
     "name": "stdout",
     "output_type": "stream",
     "text": [
      "Valid: Loss = 0.6709 Perplexity= 1.975, LR = 0.001953125\n",
      "Model Saved!\n",
      "\n"
     ]
    },
    {
     "name": "stderr",
     "output_type": "stream",
     "text": [
      "Epoch 83: 100%|██████████| 3342/3342 [01:10<00:00, 47.29batch/s, loss=0.467, perplexity=1.6] \n"
     ]
    },
    {
     "name": "stdout",
     "output_type": "stream",
     "text": [
      "Valid: Loss = 0.6708 Perplexity= 1.975, LR = 0.001953125\n",
      "Model Saved!\n",
      "\n"
     ]
    },
    {
     "name": "stderr",
     "output_type": "stream",
     "text": [
      "Epoch 84: 100%|██████████| 3342/3342 [01:10<00:00, 47.55batch/s, loss=0.466, perplexity=1.6] \n"
     ]
    },
    {
     "name": "stdout",
     "output_type": "stream",
     "text": [
      "Valid: Loss = 0.6706 Perplexity= 1.975, LR = 0.001953125\n",
      "Model Saved!\n",
      "\n"
     ]
    },
    {
     "name": "stderr",
     "output_type": "stream",
     "text": [
      "Epoch 85: 100%|██████████| 3342/3342 [01:11<00:00, 46.57batch/s, loss=0.465, perplexity=1.6] \n"
     ]
    },
    {
     "name": "stdout",
     "output_type": "stream",
     "text": [
      "Valid: Loss = 0.6703 Perplexity= 1.974, LR = 0.001953125\n",
      "Model Saved!\n",
      "\n"
     ]
    },
    {
     "name": "stderr",
     "output_type": "stream",
     "text": [
      "Epoch 86: 100%|██████████| 3342/3342 [01:10<00:00, 47.12batch/s, loss=0.464, perplexity=1.6] \n"
     ]
    },
    {
     "name": "stdout",
     "output_type": "stream",
     "text": [
      "Valid: Loss = 0.6699 Perplexity= 1.973, LR = 0.001953125\n",
      "Model Saved!\n",
      "\n"
     ]
    },
    {
     "name": "stderr",
     "output_type": "stream",
     "text": [
      "Epoch 87: 100%|██████████| 3342/3342 [01:10<00:00, 47.11batch/s, loss=0.464, perplexity=1.6] \n"
     ]
    },
    {
     "name": "stdout",
     "output_type": "stream",
     "text": [
      "Valid: Loss = 0.6696 Perplexity= 1.973, LR = 0.001953125\n",
      "Model Saved!\n",
      "\n"
     ]
    },
    {
     "name": "stderr",
     "output_type": "stream",
     "text": [
      "Epoch 88: 100%|██████████| 3342/3342 [01:10<00:00, 47.53batch/s, loss=0.463, perplexity=1.59]\n"
     ]
    },
    {
     "name": "stdout",
     "output_type": "stream",
     "text": [
      "Valid: Loss = 0.6697 Perplexity= 1.973, LR = 0.001953125\n",
      "\n"
     ]
    },
    {
     "name": "stderr",
     "output_type": "stream",
     "text": [
      "Epoch 89: 100%|██████████| 3342/3342 [01:11<00:00, 46.80batch/s, loss=0.465, perplexity=1.6] \n"
     ]
    },
    {
     "name": "stdout",
     "output_type": "stream",
     "text": [
      "Valid: Loss = 0.6663 Perplexity= 1.966, LR = 0.0009765625\n",
      "Model Saved!\n",
      "\n"
     ]
    },
    {
     "name": "stderr",
     "output_type": "stream",
     "text": [
      "Epoch 90: 100%|██████████| 3342/3342 [01:11<00:00, 46.72batch/s, loss=0.463, perplexity=1.59]\n"
     ]
    },
    {
     "name": "stdout",
     "output_type": "stream",
     "text": [
      "Valid: Loss = 0.6655 Perplexity= 1.964, LR = 0.0009765625\n",
      "Model Saved!\n",
      "\n"
     ]
    },
    {
     "name": "stderr",
     "output_type": "stream",
     "text": [
      "Epoch 91: 100%|██████████| 3342/3342 [01:10<00:00, 47.10batch/s, loss=0.463, perplexity=1.59]\n"
     ]
    },
    {
     "name": "stdout",
     "output_type": "stream",
     "text": [
      "Valid: Loss = 0.6653 Perplexity= 1.964, LR = 0.0009765625\n",
      "Model Saved!\n",
      "\n"
     ]
    },
    {
     "name": "stderr",
     "output_type": "stream",
     "text": [
      "Epoch 92: 100%|██████████| 3342/3342 [01:10<00:00, 47.53batch/s, loss=0.463, perplexity=1.59]\n"
     ]
    },
    {
     "name": "stdout",
     "output_type": "stream",
     "text": [
      "Valid: Loss = 0.6652 Perplexity= 1.964, LR = 0.0009765625\n",
      "Model Saved!\n",
      "\n"
     ]
    },
    {
     "name": "stderr",
     "output_type": "stream",
     "text": [
      "Epoch 93: 100%|██████████| 3342/3342 [01:12<00:00, 46.27batch/s, loss=0.462, perplexity=1.59]\n"
     ]
    },
    {
     "name": "stdout",
     "output_type": "stream",
     "text": [
      "Valid: Loss = 0.6645 Perplexity= 1.962, LR = 0.0009765625\n",
      "Model Saved!\n",
      "\n"
     ]
    },
    {
     "name": "stderr",
     "output_type": "stream",
     "text": [
      "Epoch 94: 100%|██████████| 3342/3342 [01:10<00:00, 47.22batch/s, loss=0.462, perplexity=1.59]\n"
     ]
    },
    {
     "name": "stdout",
     "output_type": "stream",
     "text": [
      "Valid: Loss = 0.6651 Perplexity= 1.963, LR = 0.0009765625\n",
      "\n"
     ]
    },
    {
     "name": "stderr",
     "output_type": "stream",
     "text": [
      "Epoch 95: 100%|██████████| 3342/3342 [01:10<00:00, 47.19batch/s, loss=0.462, perplexity=1.59]\n"
     ]
    },
    {
     "name": "stdout",
     "output_type": "stream",
     "text": [
      "Valid: Loss = 0.6625 Perplexity= 1.958, LR = 0.00048828125\n",
      "Model Saved!\n",
      "\n"
     ]
    },
    {
     "name": "stderr",
     "output_type": "stream",
     "text": [
      "Epoch 96: 100%|██████████| 3342/3342 [01:11<00:00, 46.72batch/s, loss=0.461, perplexity=1.59]\n"
     ]
    },
    {
     "name": "stdout",
     "output_type": "stream",
     "text": [
      "Valid: Loss = 0.6624 Perplexity= 1.958, LR = 0.00048828125\n",
      "Model Saved!\n",
      "\n"
     ]
    },
    {
     "name": "stderr",
     "output_type": "stream",
     "text": [
      "Epoch 97: 100%|██████████| 3342/3342 [01:12<00:00, 46.24batch/s, loss=0.46, perplexity=1.59] \n"
     ]
    },
    {
     "name": "stdout",
     "output_type": "stream",
     "text": [
      "Valid: Loss = 0.6622 Perplexity= 1.958, LR = 0.00048828125\n",
      "Model Saved!\n",
      "\n"
     ]
    },
    {
     "name": "stderr",
     "output_type": "stream",
     "text": [
      "Epoch 98: 100%|██████████| 3342/3342 [01:11<00:00, 46.87batch/s, loss=0.461, perplexity=1.59]\n"
     ]
    },
    {
     "name": "stdout",
     "output_type": "stream",
     "text": [
      "Valid: Loss = 0.6621 Perplexity= 1.957, LR = 0.00048828125\n",
      "Model Saved!\n",
      "\n"
     ]
    },
    {
     "name": "stderr",
     "output_type": "stream",
     "text": [
      "Epoch 99: 100%|██████████| 3342/3342 [01:10<00:00, 47.14batch/s, loss=0.46, perplexity=1.59] \n"
     ]
    },
    {
     "name": "stdout",
     "output_type": "stream",
     "text": [
      "Valid: Loss = 0.6621 Perplexity= 1.957, LR = 0.00048828125\n",
      "\n"
     ]
    },
    {
     "name": "stderr",
     "output_type": "stream",
     "text": [
      "Epoch 100: 100%|██████████| 3342/3342 [01:10<00:00, 47.28batch/s, loss=0.461, perplexity=1.59]\n"
     ]
    },
    {
     "name": "stdout",
     "output_type": "stream",
     "text": [
      "Valid: Loss = 0.6615 Perplexity= 1.956, LR = 0.000244140625\n",
      "Model Saved!\n",
      "\n"
     ]
    },
    {
     "name": "stderr",
     "output_type": "stream",
     "text": [
      "Epoch 101: 100%|██████████| 3342/3342 [01:12<00:00, 46.17batch/s, loss=0.46, perplexity=1.59] \n"
     ]
    },
    {
     "name": "stdout",
     "output_type": "stream",
     "text": [
      "Valid: Loss = 0.6614 Perplexity= 1.956, LR = 0.000244140625\n",
      "Model Saved!\n",
      "\n"
     ]
    },
    {
     "name": "stderr",
     "output_type": "stream",
     "text": [
      "Epoch 102: 100%|██████████| 3342/3342 [01:11<00:00, 46.66batch/s, loss=0.46, perplexity=1.59] \n"
     ]
    },
    {
     "name": "stdout",
     "output_type": "stream",
     "text": [
      "Valid: Loss = 0.6612 Perplexity= 1.956, LR = 0.000244140625\n",
      "Model Saved!\n",
      "\n"
     ]
    },
    {
     "name": "stderr",
     "output_type": "stream",
     "text": [
      "Epoch 103: 100%|██████████| 3342/3342 [01:11<00:00, 46.64batch/s, loss=0.46, perplexity=1.59] \n"
     ]
    },
    {
     "name": "stdout",
     "output_type": "stream",
     "text": [
      "Valid: Loss = 0.6611 Perplexity= 1.955, LR = 0.000244140625\n",
      "Model Saved!\n",
      "\n"
     ]
    },
    {
     "name": "stderr",
     "output_type": "stream",
     "text": [
      "Epoch 104: 100%|██████████| 3342/3342 [01:11<00:00, 46.81batch/s, loss=0.46, perplexity=1.59] \n"
     ]
    },
    {
     "name": "stdout",
     "output_type": "stream",
     "text": [
      "Valid: Loss = 0.661 Perplexity= 1.955, LR = 0.000244140625\n",
      "Model Saved!\n",
      "\n"
     ]
    },
    {
     "name": "stderr",
     "output_type": "stream",
     "text": [
      "Epoch 105: 100%|██████████| 3342/3342 [01:11<00:00, 46.51batch/s, loss=0.46, perplexity=1.59] \n"
     ]
    },
    {
     "name": "stdout",
     "output_type": "stream",
     "text": [
      "Valid: Loss = 0.6609 Perplexity= 1.955, LR = 0.000244140625\n",
      "Model Saved!\n",
      "\n"
     ]
    },
    {
     "name": "stderr",
     "output_type": "stream",
     "text": [
      "Epoch 106: 100%|██████████| 3342/3342 [01:13<00:00, 45.61batch/s, loss=0.459, perplexity=1.59]\n"
     ]
    },
    {
     "name": "stdout",
     "output_type": "stream",
     "text": [
      "Valid: Loss = 0.6608 Perplexity= 1.955, LR = 0.000244140625\n",
      "Model Saved!\n",
      "\n"
     ]
    },
    {
     "name": "stderr",
     "output_type": "stream",
     "text": [
      "Epoch 107: 100%|██████████| 3342/3342 [01:11<00:00, 46.84batch/s, loss=0.459, perplexity=1.59]\n"
     ]
    },
    {
     "name": "stdout",
     "output_type": "stream",
     "text": [
      "Valid: Loss = 0.6607 Perplexity= 1.955, LR = 0.000244140625\n",
      "Model Saved!\n",
      "\n"
     ]
    },
    {
     "name": "stderr",
     "output_type": "stream",
     "text": [
      "Epoch 108: 100%|██████████| 3342/3342 [01:03<00:00, 52.94batch/s, loss=0.46, perplexity=1.59] \n"
     ]
    },
    {
     "name": "stdout",
     "output_type": "stream",
     "text": [
      "Valid: Loss = 0.6608 Perplexity= 1.955, LR = 0.000244140625\n",
      "\n"
     ]
    },
    {
     "name": "stderr",
     "output_type": "stream",
     "text": [
      "Epoch 109: 100%|██████████| 3342/3342 [01:03<00:00, 52.74batch/s, loss=0.46, perplexity=1.59] \n"
     ]
    },
    {
     "name": "stdout",
     "output_type": "stream",
     "text": [
      "Valid: Loss = 0.6602 Perplexity= 1.954, LR = 0.0001220703125\n",
      "Model Saved!\n",
      "\n"
     ]
    },
    {
     "name": "stderr",
     "output_type": "stream",
     "text": [
      "Epoch 110: 100%|██████████| 3342/3342 [01:03<00:00, 52.80batch/s, loss=0.459, perplexity=1.59]\n"
     ]
    },
    {
     "name": "stdout",
     "output_type": "stream",
     "text": [
      "Valid: Loss = 0.6601 Perplexity= 1.953, LR = 0.0001220703125\n",
      "Model Saved!\n",
      "\n"
     ]
    },
    {
     "name": "stderr",
     "output_type": "stream",
     "text": [
      "Epoch 111: 100%|██████████| 3342/3342 [01:03<00:00, 52.81batch/s, loss=0.459, perplexity=1.59]\n"
     ]
    },
    {
     "name": "stdout",
     "output_type": "stream",
     "text": [
      "Valid: Loss = 0.6601 Perplexity= 1.953, LR = 0.0001220703125\n",
      "Model Saved!\n",
      "\n"
     ]
    },
    {
     "name": "stderr",
     "output_type": "stream",
     "text": [
      "Epoch 112: 100%|██████████| 3342/3342 [01:03<00:00, 52.61batch/s, loss=0.459, perplexity=1.59]\n"
     ]
    },
    {
     "name": "stdout",
     "output_type": "stream",
     "text": [
      "Valid: Loss = 0.6601 Perplexity= 1.953, LR = 0.0001220703125\n",
      "Model Saved!\n",
      "\n"
     ]
    },
    {
     "name": "stderr",
     "output_type": "stream",
     "text": [
      "Epoch 113: 100%|██████████| 3342/3342 [01:03<00:00, 52.90batch/s, loss=0.459, perplexity=1.59]\n"
     ]
    },
    {
     "name": "stdout",
     "output_type": "stream",
     "text": [
      "Valid: Loss = 0.6602 Perplexity= 1.954, LR = 0.0001220703125\n",
      "\n"
     ]
    },
    {
     "name": "stderr",
     "output_type": "stream",
     "text": [
      "Epoch 114: 100%|██████████| 3342/3342 [01:03<00:00, 52.93batch/s, loss=0.459, perplexity=1.59]\n"
     ]
    },
    {
     "name": "stdout",
     "output_type": "stream",
     "text": [
      "Valid: Loss = 0.6599 Perplexity= 1.953, LR = 6.103515625e-05\n",
      "Model Saved!\n",
      "\n"
     ]
    },
    {
     "name": "stderr",
     "output_type": "stream",
     "text": [
      "Epoch 115: 100%|██████████| 3342/3342 [01:03<00:00, 52.49batch/s, loss=0.459, perplexity=1.59]\n"
     ]
    },
    {
     "name": "stdout",
     "output_type": "stream",
     "text": [
      "Valid: Loss = 0.6599 Perplexity= 1.953, LR = 6.103515625e-05\n",
      "Model Saved!\n",
      "\n"
     ]
    },
    {
     "name": "stderr",
     "output_type": "stream",
     "text": [
      "Epoch 116: 100%|██████████| 3342/3342 [01:03<00:00, 52.57batch/s, loss=0.458, perplexity=1.59]\n"
     ]
    },
    {
     "name": "stdout",
     "output_type": "stream",
     "text": [
      "Valid: Loss = 0.6598 Perplexity= 1.953, LR = 6.103515625e-05\n",
      "Model Saved!\n",
      "\n"
     ]
    },
    {
     "name": "stderr",
     "output_type": "stream",
     "text": [
      "Epoch 117: 100%|██████████| 3342/3342 [01:03<00:00, 52.62batch/s, loss=0.459, perplexity=1.59]\n"
     ]
    },
    {
     "name": "stdout",
     "output_type": "stream",
     "text": [
      "Valid: Loss = 0.6599 Perplexity= 1.953, LR = 6.103515625e-05\n",
      "\n"
     ]
    },
    {
     "name": "stderr",
     "output_type": "stream",
     "text": [
      "Epoch 118: 100%|██████████| 3342/3342 [01:03<00:00, 52.33batch/s, loss=0.459, perplexity=1.59]\n"
     ]
    },
    {
     "name": "stdout",
     "output_type": "stream",
     "text": [
      "Valid: Loss = 0.6598 Perplexity= 1.953, LR = 3.0517578125e-05\n",
      "Model Saved!\n",
      "\n"
     ]
    },
    {
     "name": "stderr",
     "output_type": "stream",
     "text": [
      "Epoch 119: 100%|██████████| 3342/3342 [01:03<00:00, 52.64batch/s, loss=0.459, perplexity=1.59]\n"
     ]
    },
    {
     "name": "stdout",
     "output_type": "stream",
     "text": [
      "Valid: Loss = 0.6597 Perplexity= 1.953, LR = 3.0517578125e-05\n",
      "Model Saved!\n",
      "\n"
     ]
    },
    {
     "name": "stderr",
     "output_type": "stream",
     "text": [
      "Epoch 120: 100%|██████████| 3342/3342 [01:02<00:00, 53.09batch/s, loss=0.458, perplexity=1.59]\n"
     ]
    },
    {
     "name": "stdout",
     "output_type": "stream",
     "text": [
      "Valid: Loss = 0.6597 Perplexity= 1.953, LR = 3.0517578125e-05\n",
      "Model Saved!\n",
      "\n"
     ]
    },
    {
     "name": "stderr",
     "output_type": "stream",
     "text": [
      "Epoch 121: 100%|██████████| 3342/3342 [01:03<00:00, 52.68batch/s, loss=0.459, perplexity=1.59]\n"
     ]
    },
    {
     "name": "stdout",
     "output_type": "stream",
     "text": [
      "Valid: Loss = 0.6596 Perplexity= 1.952, LR = 3.0517578125e-05\n",
      "Model Saved!\n",
      "\n"
     ]
    },
    {
     "name": "stderr",
     "output_type": "stream",
     "text": [
      "Epoch 122: 100%|██████████| 3342/3342 [01:02<00:00, 53.15batch/s, loss=0.458, perplexity=1.59]\n"
     ]
    },
    {
     "name": "stdout",
     "output_type": "stream",
     "text": [
      "Valid: Loss = 0.6596 Perplexity= 1.953, LR = 3.0517578125e-05\n",
      "\n"
     ]
    },
    {
     "name": "stderr",
     "output_type": "stream",
     "text": [
      "Epoch 123: 100%|██████████| 3342/3342 [01:03<00:00, 52.59batch/s, loss=0.458, perplexity=1.59]\n"
     ]
    },
    {
     "name": "stdout",
     "output_type": "stream",
     "text": [
      "Valid: Loss = 0.6596 Perplexity= 1.952, LR = 1.52587890625e-05\n",
      "Model Saved!\n",
      "\n"
     ]
    },
    {
     "name": "stderr",
     "output_type": "stream",
     "text": [
      "Epoch 124: 100%|██████████| 3342/3342 [01:03<00:00, 52.45batch/s, loss=0.458, perplexity=1.59]\n"
     ]
    },
    {
     "name": "stdout",
     "output_type": "stream",
     "text": [
      "Valid: Loss = 0.6596 Perplexity= 1.952, LR = 1.52587890625e-05\n",
      "\n"
     ]
    },
    {
     "name": "stderr",
     "output_type": "stream",
     "text": [
      "Epoch 125: 100%|██████████| 3342/3342 [01:03<00:00, 52.43batch/s, loss=0.458, perplexity=1.59]\n"
     ]
    },
    {
     "name": "stdout",
     "output_type": "stream",
     "text": [
      "Valid: Loss = 0.6596 Perplexity= 1.952, LR = 7.62939453125e-06\n",
      "Model Saved!\n",
      "\n"
     ]
    },
    {
     "name": "stderr",
     "output_type": "stream",
     "text": [
      "Epoch 126: 100%|██████████| 3342/3342 [01:03<00:00, 52.59batch/s, loss=0.458, perplexity=1.59]\n"
     ]
    },
    {
     "name": "stdout",
     "output_type": "stream",
     "text": [
      "Valid: Loss = 0.6596 Perplexity= 1.952, LR = 7.62939453125e-06\n",
      "Model Saved!\n",
      "\n"
     ]
    },
    {
     "name": "stderr",
     "output_type": "stream",
     "text": [
      "Epoch 127: 100%|██████████| 3342/3342 [01:03<00:00, 52.32batch/s, loss=0.458, perplexity=1.59]\n"
     ]
    },
    {
     "name": "stdout",
     "output_type": "stream",
     "text": [
      "Valid: Loss = 0.6596 Perplexity= 1.952, LR = 7.62939453125e-06\n",
      "Model Saved!\n",
      "\n"
     ]
    },
    {
     "name": "stderr",
     "output_type": "stream",
     "text": [
      "Epoch 128: 100%|██████████| 3342/3342 [01:03<00:00, 52.78batch/s, loss=0.459, perplexity=1.59]\n"
     ]
    },
    {
     "name": "stdout",
     "output_type": "stream",
     "text": [
      "Valid: Loss = 0.6595 Perplexity= 1.952, LR = 7.62939453125e-06\n",
      "Model Saved!\n",
      "\n"
     ]
    },
    {
     "name": "stderr",
     "output_type": "stream",
     "text": [
      "Epoch 129: 100%|██████████| 3342/3342 [01:03<00:00, 52.70batch/s, loss=0.458, perplexity=1.59]\n"
     ]
    },
    {
     "name": "stdout",
     "output_type": "stream",
     "text": [
      "Valid: Loss = 0.6595 Perplexity= 1.952, LR = 7.62939453125e-06\n",
      "Model Saved!\n",
      "\n"
     ]
    },
    {
     "name": "stderr",
     "output_type": "stream",
     "text": [
      "Epoch 130: 100%|██████████| 3342/3342 [01:03<00:00, 52.71batch/s, loss=0.459, perplexity=1.59]\n"
     ]
    },
    {
     "name": "stdout",
     "output_type": "stream",
     "text": [
      "Valid: Loss = 0.6595 Perplexity= 1.952, LR = 7.62939453125e-06\n",
      "Model Saved!\n",
      "\n"
     ]
    },
    {
     "name": "stderr",
     "output_type": "stream",
     "text": [
      "Epoch 131: 100%|██████████| 3342/3342 [01:03<00:00, 53.01batch/s, loss=0.458, perplexity=1.59]\n"
     ]
    },
    {
     "name": "stdout",
     "output_type": "stream",
     "text": [
      "Valid: Loss = 0.6595 Perplexity= 1.952, LR = 7.62939453125e-06\n",
      "\n"
     ]
    },
    {
     "name": "stderr",
     "output_type": "stream",
     "text": [
      "Epoch 132: 100%|██████████| 3342/3342 [01:03<00:00, 52.46batch/s, loss=0.459, perplexity=1.59]\n"
     ]
    },
    {
     "name": "stdout",
     "output_type": "stream",
     "text": [
      "Valid: Loss = 0.6595 Perplexity= 1.952, LR = 3.814697265625e-06\n",
      "Model Saved!\n",
      "\n"
     ]
    },
    {
     "name": "stderr",
     "output_type": "stream",
     "text": [
      "Epoch 133: 100%|██████████| 3342/3342 [01:03<00:00, 52.50batch/s, loss=0.459, perplexity=1.59]\n"
     ]
    },
    {
     "name": "stdout",
     "output_type": "stream",
     "text": [
      "Valid: Loss = 0.6595 Perplexity= 1.952, LR = 3.814697265625e-06\n",
      "\n"
     ]
    },
    {
     "name": "stderr",
     "output_type": "stream",
     "text": [
      "Epoch 134: 100%|██████████| 3342/3342 [01:03<00:00, 52.60batch/s, loss=0.458, perplexity=1.59]\n"
     ]
    },
    {
     "name": "stdout",
     "output_type": "stream",
     "text": [
      "Valid: Loss = 0.6595 Perplexity= 1.952, LR = 1.9073486328125e-06\n",
      "Model Saved!\n",
      "\n"
     ]
    },
    {
     "name": "stderr",
     "output_type": "stream",
     "text": [
      "Epoch 135: 100%|██████████| 3342/3342 [01:03<00:00, 52.81batch/s, loss=0.458, perplexity=1.59]\n"
     ]
    },
    {
     "name": "stdout",
     "output_type": "stream",
     "text": [
      "Valid: Loss = 0.6595 Perplexity= 1.952, LR = 1.9073486328125e-06\n",
      "\n"
     ]
    },
    {
     "name": "stderr",
     "output_type": "stream",
     "text": [
      "Epoch 136: 100%|██████████| 3342/3342 [01:03<00:00, 52.69batch/s, loss=0.458, perplexity=1.59]\n"
     ]
    },
    {
     "name": "stdout",
     "output_type": "stream",
     "text": [
      "Valid: Loss = 0.6595 Perplexity= 1.952, LR = 9.5367431640625e-07\n",
      "Model Saved!\n",
      "\n"
     ]
    },
    {
     "name": "stderr",
     "output_type": "stream",
     "text": [
      "Epoch 137: 100%|██████████| 3342/3342 [01:04<00:00, 51.92batch/s, loss=0.458, perplexity=1.59]\n"
     ]
    },
    {
     "name": "stdout",
     "output_type": "stream",
     "text": [
      "Valid: Loss = 0.6595 Perplexity= 1.952, LR = 9.5367431640625e-07\n",
      "\n"
     ]
    },
    {
     "name": "stderr",
     "output_type": "stream",
     "text": [
      "Epoch 138: 100%|██████████| 3342/3342 [01:04<00:00, 52.21batch/s, loss=0.458, perplexity=1.59]\n"
     ]
    },
    {
     "name": "stdout",
     "output_type": "stream",
     "text": [
      "Valid: Loss = 0.6595 Perplexity= 1.952, LR = 4.76837158203125e-07\n",
      "\n"
     ]
    },
    {
     "name": "stderr",
     "output_type": "stream",
     "text": [
      "Epoch 139: 100%|██████████| 3342/3342 [01:03<00:00, 52.41batch/s, loss=0.459, perplexity=1.59]\n"
     ]
    },
    {
     "name": "stdout",
     "output_type": "stream",
     "text": [
      "Valid: Loss = 0.6595 Perplexity= 1.952, LR = 2.384185791015625e-07\n",
      "\n"
     ]
    },
    {
     "name": "stderr",
     "output_type": "stream",
     "text": [
      "Epoch 140: 100%|██████████| 3342/3342 [01:03<00:00, 52.64batch/s, loss=0.459, perplexity=1.59]\n"
     ]
    },
    {
     "name": "stdout",
     "output_type": "stream",
     "text": [
      "Valid: Loss = 0.6595 Perplexity= 1.952, LR = 1.1920928955078125e-07\n",
      "\n"
     ]
    },
    {
     "name": "stderr",
     "output_type": "stream",
     "text": [
      "Epoch 141: 100%|██████████| 3342/3342 [01:04<00:00, 52.04batch/s, loss=0.458, perplexity=1.59]\n"
     ]
    },
    {
     "name": "stdout",
     "output_type": "stream",
     "text": [
      "Valid: Loss = 0.6595 Perplexity= 1.952, LR = 5.960464477539063e-08\n",
      "\n"
     ]
    },
    {
     "name": "stderr",
     "output_type": "stream",
     "text": [
      "Epoch 142: 100%|██████████| 3342/3342 [01:03<00:00, 52.27batch/s, loss=0.458, perplexity=1.59]\n"
     ]
    },
    {
     "name": "stdout",
     "output_type": "stream",
     "text": [
      "Valid: Loss = 0.6595 Perplexity= 1.952, LR = 2.9802322387695312e-08\n",
      "LR_DEC==3 , Finished\n"
     ]
    }
   ],
   "source": [
    "num_epochs = 300\n",
    "max_lr_dec = 5\n",
    "lr_dec = 0\n",
    "\n",
    "for epoch in range(num_epochs):\n",
    "  # Train\n",
    "  model, loss_train, per_train = train_one_epoch(model, train_loader, loss_fn, optimizer, perp , epoch)\n",
    "  # Validation\n",
    "  loss_valid, per_val = evaluate(model, valid_loader, loss_fn, perp)\n",
    "\n",
    "  loss_train_hist.append(loss_train)\n",
    "  loss_valid_hist.append(loss_valid)\n",
    "\n",
    "  per_train_hist.append(per_train)\n",
    "  per_valid_hist.append(per_val)\n",
    "\n",
    "  lr_train_hist.append(lr)\n",
    "  \n",
    "  print(f'Valid: Loss = {loss_valid:.4} Perplexity= {per_val:.4}, LR = {lr}')\n",
    "  epoch_counter += 1\n",
    "  \n",
    "  if per_val < best_perplexity_valid:\n",
    "    lr_dec = 0\n",
    "    torch.save(model, f'model.pt')\n",
    "    best_perplexity_valid = per_val\n",
    "    print('Model Saved!')\n",
    "  else:\n",
    "    if lr_dec >= max_lr_dec :\n",
    "      print(\"LR_DEC==3 , Finished\")\n",
    "      break\n",
    "    lr_dec += 1\n",
    "    \n",
    "    del model\n",
    "    del perp\n",
    "    del loss_fn\n",
    "    del optimizer\n",
    "    \n",
    "    model_path = 'model.pt'\n",
    "    model = torch.load(model_path,map_location=device)\n",
    "    lr /= 2\n",
    "    optimizer = optim.SGD(model.parameters(), lr=lr, weight_decay=wd, momentum=0.9)\n",
    "    loss_fn = nn.CrossEntropyLoss()\n",
    "    perp = Perplexity().to(device)\n",
    "  print()\n",
    "  "
   ]
  },
  {
   "cell_type": "markdown",
   "metadata": {},
   "source": [
    "## Learning Curve"
   ]
  },
  {
   "cell_type": "code",
   "execution_count": 21,
   "metadata": {},
   "outputs": [
    {
     "data": {
      "image/png": "[encoded data removed]",
      "text/plain": [
       "<Figure size 2000x600 with 3 Axes>"
      ]
     },
     "metadata": {},
     "output_type": "display_data"
    }
   ],
   "source": [
    "# Save as CSV\n",
    "import pandas as pd\n",
    "datas = {\n",
    "    'epoch': range(epoch_counter),\n",
    "    'loss_train': loss_train_hist,\n",
    "    'loss_validation': loss_valid_hist,\n",
    "    'perplexity_train': per_train_hist , \n",
    "    'perplexity_validation':per_valid_hist,\n",
    "    'learning_rate': lr_train_hist\n",
    "}\n",
    "df = pd.DataFrame(datas)\n",
    "df.to_csv(\"learningCurve.csv\" , index=False)\n",
    "\n",
    "fig, (ax1, ax2 , ax3) = plt.subplots(1, 3, figsize=(20, 6))\n",
    "\n",
    "ax1.plot(range(epoch_counter), loss_train_hist, 'r-', label='Train')\n",
    "ax1.plot(range(epoch_counter), loss_valid_hist, 'b-', label='Validation')\n",
    "ax1.set_title('Learning Curve')\n",
    "ax1.set_xlabel('Epoch')\n",
    "ax1.set_ylabel('Loss')\n",
    "ax1.grid(True)\n",
    "ax1.legend()\n",
    "\n",
    "ax2.plot(range(epoch_counter), per_train_hist, 'r-', label='Train')\n",
    "ax2.plot(range(epoch_counter), per_valid_hist, 'b-', label='Validation')\n",
    "ax2.set_title('Perplexity')\n",
    "ax2.set_xlabel('Epoch')\n",
    "ax2.set_ylabel('Perplexity')\n",
    "ax2.grid(True)\n",
    "ax2.legend()\n",
    "\n",
    "ax3.plot(range(epoch_counter), lr_train_hist, 'r-', label='Rate')\n",
    "ax3.set_title('Learning Rate')\n",
    "ax3.set_xlabel('Epoch')\n",
    "ax3.set_ylabel('Rate')\n",
    "ax3.grid(True)\n",
    "ax3.legend()\n",
    "\n",
    "plt.tight_layout()\n",
    "plt.show()"
   ]
  },
  {
   "cell_type": "markdown",
   "metadata": {},
   "source": [
    "## Test Perplexity"
   ]
  },
  {
   "cell_type": "code",
   "execution_count": 22,
   "metadata": {},
   "outputs": [
    {
     "name": "stderr",
     "output_type": "stream",
     "text": [
      "/tmp/ipykernel_16013/1059837893.py:13: UserWarning: To copy construct from a tensor, it is recommended to use sourceTensor.clone().detach() or sourceTensor.clone().detach().requires_grad_(True), rather than torch.tensor(sourceTensor).\n",
      "  return torch.tensor(input), torch.tensor(target)\n"
     ]
    },
    {
     "name": "stdout",
     "output_type": "stream",
     "text": [
      "Validation: Loss = 0.6595 , Perplexity = 1.952\n",
      "Test: Loss = 0.6372 , Perplexity = 1.907\n"
     ]
    }
   ],
   "source": [
    "model_path = 'model.pt'\n",
    "model = torch.load(model_path)\n",
    "model = model.to(device)\n",
    "model.eval()\n",
    "\n",
    "loss_fn = nn.CrossEntropyLoss()\n",
    "perp = Perplexity().to(device)\n",
    "\n",
    "loss_valid , per_valid  = evaluate(model, valid_loader, loss_fn , perp )\n",
    "print(f\"Validation: Loss = {loss_valid:.4} , Perplexity = {per_valid:.4}\")\n",
    "\n",
    "loss_test , per_test  = evaluate(model, test_loader, loss_fn , perp)\n",
    "print(f\"Test: Loss = {loss_test:.4} , Perplexity = {per_test:.4}\")"
   ]
  },
  {
   "cell_type": "markdown",
   "metadata": {},
   "source": [
    "# Text Generation"
   ]
  },
  {
   "cell_type": "code",
   "execution_count": 23,
   "metadata": {},
   "outputs": [
    {
     "data": {
      "text/plain": [
       "H_LSTM(\n",
       "  (embedding): Embedding(33278, 500)\n",
       "  (dropout_em): Dropout(p=0.1, inplace=False)\n",
       "  (rnn1): LSTM(500, 500, batch_first=True)\n",
       "  (dropout1): Dropout(p=0.25, inplace=False)\n",
       "  (rnn2): LSTM(500, 500, batch_first=True)\n",
       "  (dropout2): Dropout(p=0.25, inplace=False)\n",
       "  (rnn3): LSTM(500, 500, batch_first=True)\n",
       "  (dropout3): Dropout(p=0.25, inplace=False)\n",
       "  (fc): Linear(in_features=500, out_features=33278, bias=True)\n",
       ")"
      ]
     },
     "execution_count": 23,
     "metadata": {},
     "output_type": "execute_result"
    }
   ],
   "source": [
    "loss_fn = nn.CrossEntropyLoss()\n",
    "\n",
    "model_path = 'model.pt'\n",
    "model = torch.load(model_path)\n",
    "model = model.to(device)\n",
    "model.eval()\n",
    "model"
   ]
  },
  {
   "cell_type": "code",
   "execution_count": 24,
   "metadata": {},
   "outputs": [
    {
     "data": {
      "text/plain": [
       "39.323278"
      ]
     },
     "execution_count": 24,
     "metadata": {},
     "output_type": "execute_result"
    }
   ],
   "source": [
    "num_trainable_params(model)"
   ]
  },
  {
   "cell_type": "code",
   "execution_count": 25,
   "metadata": {},
   "outputs": [
    {
     "name": "stdout",
     "output_type": "stream",
     "text": [
      "i think the movie of his guest events which sets , thereby the between northern move .\n"
     ]
    }
   ],
   "source": [
    "def generate(prompt, max_seq_len, temperature, model ):\n",
    "\n",
    "    global device\n",
    "    global vocab_itos\n",
    "    global seq_len\n",
    "    global char2ind\n",
    "    \n",
    "    prompt_tokens = prompt.split(' ')\n",
    "    prompt_tokens = [char2ind[token] for token in prompt_tokens]  \n",
    "\n",
    "    with torch.no_grad():\n",
    "        current_token = torch.tensor(prompt_tokens).unsqueeze(0) \n",
    "        current_token = current_token.to(device)\n",
    "        generated_text = prompt  \n",
    "        for i in range(max_seq_len):\n",
    "            output = model(current_token)\n",
    "            probabilities = nn.functional.softmax(output[:, -1, :] / temperature, dim=-1)\n",
    "            next_word = \"<unk>\"\n",
    "            while next_word == \"<unk>\":\n",
    "                next_token_id = torch.multinomial(probabilities, 1).item()\n",
    "                next_word = findWordByToken(next_token_id)\n",
    "            \n",
    "            generated_text += \" \" + next_word\n",
    "\n",
    "            next_token_id = torch.tensor([[next_token_id]]).to(device)\n",
    "            if current_token.shape[1] < seq_len:\n",
    "                current_token = torch.cat( ( current_token  , next_token_id ), dim=1)\n",
    "            else:\n",
    "                current_token = torch.cat( ( current_token[:, 1:]  , next_token_id ), dim=1)\n",
    "            if next_word in [\"<eos>\", \".\"]:\n",
    "                break\n",
    "            del next_token_id\n",
    "    return generated_text\n",
    "\n",
    "prompt = \"i think the movie\"\n",
    "generated_text = generate(prompt, \n",
    "                          max_seq_len = 100, \n",
    "                          temperature = 0.5, \n",
    "                          model = model)\n",
    "\n",
    "print(generated_text)"
   ]
  }
 ],
 "metadata": {
  "kernelspec": {
   "display_name": "base",
   "language": "python",
   "name": "python3"
  },
  "language_info": {
   "codemirror_mode": {
    "name": "ipython",
    "version": 3
   },
   "file_extension": ".py",
   "mimetype": "text/x-python",
   "name": "python",
   "nbconvert_exporter": "python",
   "pygments_lexer": "ipython3",
   "version": "3.10.9"
  },
  "orig_nbformat": 4
 },
 "nbformat": 4,
 "nbformat_minor": 2
}
